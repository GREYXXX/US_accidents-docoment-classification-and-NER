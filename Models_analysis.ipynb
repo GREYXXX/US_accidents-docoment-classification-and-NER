{
 "cells": [
  {
   "cell_type": "markdown",
   "id": "837a7d22-716c-4325-9db8-64d19f3ca499",
   "metadata": {},
   "source": [
    "<b>Declaration</b>\n",
    "\n",
    "1. This is a project made by <b>@Author 22435044 XI RAO</b>\n",
    "2. All the \".pt\" file is our trained model, which helps to conduct comparative experiments \n",
    "3. All the classes for 3 tasks are encapsulated into the \"Models.py\".\n",
    "4. \"helper.py\" encapsulates some of the common-use functions"
   ]
  },
  {
   "cell_type": "code",
   "execution_count": 12,
   "id": "ddbe104b-d5c5-4074-8685-cabb9634791e",
   "metadata": {},
   "outputs": [],
   "source": [
    "import pandas as pd\n",
    "import numpy as np\n",
    "import collections\n",
    "import re"
   ]
  },
  {
   "cell_type": "code",
   "execution_count": 13,
   "id": "8f886372",
   "metadata": {},
   "outputs": [],
   "source": [
    "import collections\n",
    "import re"
   ]
  },
  {
   "cell_type": "code",
   "execution_count": 14,
   "id": "00c8ccae",
   "metadata": {},
   "outputs": [
    {
     "name": "stderr",
     "output_type": "stream",
     "text": [
      "UsageError: Line magic function `%` not found.\n"
     ]
    }
   ],
   "source": [
    "import matplotlib.pyplot as plt\n",
    "import seaborn as sns\n",
    "% matplotlib inline"
   ]
  },
  {
   "cell_type": "code",
   "execution_count": 15,
   "id": "66cc1a41",
   "metadata": {},
   "outputs": [],
   "source": [
    "import spacy\n",
    "nlp=spacy.load('en_core_web_sm')"
   ]
  },
  {
   "cell_type": "code",
   "execution_count": 16,
   "id": "71111408-0153-4733-b697-866c3b33c07b",
   "metadata": {},
   "outputs": [],
   "source": [
    "import gensim\n",
    "from gensim.models import TfidfModel\n",
    "from gensim.corpora import Dictionary"
   ]
  },
  {
   "cell_type": "code",
   "execution_count": 17,
   "id": "da6172a7-6ca9-4dd2-b960-b01f9854f296",
   "metadata": {},
   "outputs": [],
   "source": [
    "from argparse import Namespace"
   ]
  },
  {
   "cell_type": "markdown",
   "id": "2ec0f185",
   "metadata": {},
   "source": [
    "## Data Exploration"
   ]
  },
  {
   "cell_type": "code",
   "execution_count": 18,
   "id": "945f1d93",
   "metadata": {},
   "outputs": [],
   "source": [
    "df=pd.read_csv('us_data_2000.csv')"
   ]
  },
  {
   "cell_type": "markdown",
   "id": "0baf6445",
   "metadata": {},
   "source": [
    "### Data preparation for task 1"
   ]
  },
  {
   "cell_type": "markdown",
   "id": "ce4bf020",
   "metadata": {},
   "source": [
    "Task 1: transfer 'DEGREE_INJURY' to two classes of 'low_injury' and 'high_injury' for binary classification. The data have label of 'no value foun' were removed because we cannot know which classes they are.\n",
    "\n",
    "1. **low_injury**: The low injury class refers to injuries that are not serious. The names and ID of the injury in this class are shown below, which has total 861 numbers in all dataset and 680 numbers in training data. \n",
    "<br>NO DYS AWY FRM WRK,NO RSTR ACT(6) ; INJURIES INVOLVNG NONEMPLOYEES(9); ACCIDENT ONLY(0); OCCUPATNAL ILLNESS NOT DEG 1-6(7); ALL OTHER CASES (INCL 1ST AID)(10); INJURIES DUE TO NATURAL CAUSES(8)\n",
    "\n",
    "\n",
    "\n",
    "2. **high_injury**: The high injury class refers to injuries that are serious. The names and ID of the injury in this class are shown below, which has total 1128 numbers in all dataset and 991 numbers in training data.\n",
    "<br>DAYS AWAY FROM WORK ONLY(3); DYS AWY FRM WRK & RESTRCTD ACT(4); PERM TOT OR PERM PRTL DISABLTY(2); FATALITY(1); \n",
    "DAYS RESTRICTED ACTIVITY ONLY(5)"
   ]
  },
  {
   "cell_type": "code",
   "execution_count": 19,
   "id": "771bfe7d",
   "metadata": {},
   "outputs": [],
   "source": [
    "# keep only relevant fiels for task 1\n",
    "df_task1 = df[[\"DEGREE_INJURY\", \"DEGREE_INJURY_CD\", 'NARRATIVE']]"
   ]
  },
  {
   "cell_type": "code",
   "execution_count": 20,
   "id": "dc9c4c87",
   "metadata": {},
   "outputs": [],
   "source": [
    "# remove 'no_value_found' freature in 'DEGREE_INJURY'\n",
    "df_task1 = df_task1[df_task1['DEGREE_INJURY_CD'] != '?']"
   ]
  },
  {
   "cell_type": "code",
   "execution_count": 21,
   "id": "0b148cca",
   "metadata": {},
   "outputs": [
    {
     "data": {
      "text/plain": [
       "(1989, 3)"
      ]
     },
     "execution_count": 21,
     "metadata": {},
     "output_type": "execute_result"
    }
   ],
   "source": [
    "df_task1.shape"
   ]
  },
  {
   "cell_type": "code",
   "execution_count": 22,
   "id": "27122908",
   "metadata": {},
   "outputs": [],
   "source": [
    "# Task 1: transfer 'DEGREE_INJURY' to Binary labels\n",
    "x = df_task1[['DEGREE_INJURY_CD']].replace(['3', '4', '2', '1', '5'], 'high_injury')\n",
    "df_task1['binary_injury'] = x.replace(['6','9','0','7','10','8'], 'low_injury')"
   ]
  },
  {
   "cell_type": "code",
   "execution_count": 23,
   "id": "aa0fe9e5",
   "metadata": {},
   "outputs": [
    {
     "data": {
      "text/html": [
       "<div>\n",
       "<style scoped>\n",
       "    .dataframe tbody tr th:only-of-type {\n",
       "        vertical-align: middle;\n",
       "    }\n",
       "\n",
       "    .dataframe tbody tr th {\n",
       "        vertical-align: top;\n",
       "    }\n",
       "\n",
       "    .dataframe thead th {\n",
       "        text-align: right;\n",
       "    }\n",
       "</style>\n",
       "<table border=\"1\" class=\"dataframe\">\n",
       "  <thead>\n",
       "    <tr style=\"text-align: right;\">\n",
       "      <th></th>\n",
       "      <th>DEGREE_INJURY</th>\n",
       "      <th>DEGREE_INJURY_CD</th>\n",
       "      <th>NARRATIVE</th>\n",
       "      <th>binary_injury</th>\n",
       "    </tr>\n",
       "  </thead>\n",
       "  <tbody>\n",
       "    <tr>\n",
       "      <th>0</th>\n",
       "      <td>DAYS RESTRICTED ACTIVITY ONLY</td>\n",
       "      <td>5</td>\n",
       "      <td>Employee was cleaning up at the Primary Crushe...</td>\n",
       "      <td>high_injury</td>\n",
       "    </tr>\n",
       "    <tr>\n",
       "      <th>1</th>\n",
       "      <td>NO DYS AWY FRM WRK,NO RSTR ACT</td>\n",
       "      <td>6</td>\n",
       "      <td>Handle of sledgehammer broke and head of hamme...</td>\n",
       "      <td>low_injury</td>\n",
       "    </tr>\n",
       "    <tr>\n",
       "      <th>2</th>\n",
       "      <td>DAYS AWAY FROM WORK ONLY</td>\n",
       "      <td>3</td>\n",
       "      <td>EMPLOYEE WAS CLIMBING DOWN A LADDER AND WHEN H...</td>\n",
       "      <td>high_injury</td>\n",
       "    </tr>\n",
       "    <tr>\n",
       "      <th>3</th>\n",
       "      <td>DAYS RESTRICTED ACTIVITY ONLY</td>\n",
       "      <td>5</td>\n",
       "      <td>HE PULLED A BACK MUSCLE WHILE STACKING BAGS OF...</td>\n",
       "      <td>high_injury</td>\n",
       "    </tr>\n",
       "    <tr>\n",
       "      <th>4</th>\n",
       "      <td>DAYS RESTRICTED ACTIVITY ONLY</td>\n",
       "      <td>5</td>\n",
       "      <td>EE hands began to break out in a rash after he...</td>\n",
       "      <td>high_injury</td>\n",
       "    </tr>\n",
       "  </tbody>\n",
       "</table>\n",
       "</div>"
      ],
      "text/plain": [
       "                    DEGREE_INJURY DEGREE_INJURY_CD  \\\n",
       "0   DAYS RESTRICTED ACTIVITY ONLY                5   \n",
       "1  NO DYS AWY FRM WRK,NO RSTR ACT                6   \n",
       "2        DAYS AWAY FROM WORK ONLY                3   \n",
       "3   DAYS RESTRICTED ACTIVITY ONLY                5   \n",
       "4   DAYS RESTRICTED ACTIVITY ONLY                5   \n",
       "\n",
       "                                           NARRATIVE binary_injury  \n",
       "0  Employee was cleaning up at the Primary Crushe...   high_injury  \n",
       "1  Handle of sledgehammer broke and head of hamme...    low_injury  \n",
       "2  EMPLOYEE WAS CLIMBING DOWN A LADDER AND WHEN H...   high_injury  \n",
       "3  HE PULLED A BACK MUSCLE WHILE STACKING BAGS OF...   high_injury  \n",
       "4  EE hands began to break out in a rash after he...   high_injury  "
      ]
     },
     "execution_count": 23,
     "metadata": {},
     "output_type": "execute_result"
    }
   ],
   "source": [
    "df_task1.head()"
   ]
  },
  {
   "cell_type": "code",
   "execution_count": 24,
   "id": "adf46d81",
   "metadata": {},
   "outputs": [
    {
     "data": {
      "text/plain": [
       "high_injury    1128\n",
       "low_injury      861\n",
       "Name: binary_injury, dtype: int64"
      ]
     },
     "execution_count": 24,
     "metadata": {},
     "output_type": "execute_result"
    }
   ],
   "source": [
    "df_task1[\"binary_injury\"].value_counts()"
   ]
  },
  {
   "cell_type": "code",
   "execution_count": 25,
   "id": "cec99dc7",
   "metadata": {},
   "outputs": [],
   "source": [
    "# Split the data by 80/20\n",
    "from sklearn.model_selection import train_test_split\n",
    "train, test = train_test_split(df_task1, test_size = 0.2, random_state = 0)"
   ]
  },
  {
   "cell_type": "code",
   "execution_count": 26,
   "id": "c4a73cd9",
   "metadata": {},
   "outputs": [
    {
     "data": {
      "text/plain": [
       "(398, 4)"
      ]
     },
     "execution_count": 26,
     "metadata": {},
     "output_type": "execute_result"
    }
   ],
   "source": [
    "test.shape"
   ]
  },
  {
   "cell_type": "code",
   "execution_count": 27,
   "id": "c890707e",
   "metadata": {},
   "outputs": [
    {
     "data": {
      "text/plain": [
       "high_injury    911\n",
       "low_injury     680\n",
       "Name: binary_injury, dtype: int64"
      ]
     },
     "execution_count": 27,
     "metadata": {},
     "output_type": "execute_result"
    }
   ],
   "source": [
    "train[\"binary_injury\"].value_counts()"
   ]
  },
  {
   "cell_type": "code",
   "execution_count": 28,
   "id": "9c7f28e4",
   "metadata": {},
   "outputs": [
    {
     "data": {
      "text/html": [
       "<div>\n",
       "<style scoped>\n",
       "    .dataframe tbody tr th:only-of-type {\n",
       "        vertical-align: middle;\n",
       "    }\n",
       "\n",
       "    .dataframe tbody tr th {\n",
       "        vertical-align: top;\n",
       "    }\n",
       "\n",
       "    .dataframe thead th {\n",
       "        text-align: right;\n",
       "    }\n",
       "</style>\n",
       "<table border=\"1\" class=\"dataframe\">\n",
       "  <thead>\n",
       "    <tr style=\"text-align: right;\">\n",
       "      <th></th>\n",
       "      <th>DEGREE_INJURY</th>\n",
       "      <th>DEGREE_INJURY_CD</th>\n",
       "      <th>NARRATIVE</th>\n",
       "      <th>binary_injury</th>\n",
       "    </tr>\n",
       "  </thead>\n",
       "  <tbody>\n",
       "    <tr>\n",
       "      <th>160</th>\n",
       "      <td>DAYS AWAY FROM WORK ONLY</td>\n",
       "      <td>3</td>\n",
       "      <td>EE WAS REBUILDING HAUL ROAD BERM WITH LOADER W...</td>\n",
       "      <td>high_injury</td>\n",
       "    </tr>\n",
       "    <tr>\n",
       "      <th>1601</th>\n",
       "      <td>DAYS RESTRICTED ACTIVITY ONLY</td>\n",
       "      <td>5</td>\n",
       "      <td>Employee was re-positioning a jack leg drill d...</td>\n",
       "      <td>high_injury</td>\n",
       "    </tr>\n",
       "    <tr>\n",
       "      <th>320</th>\n",
       "      <td>ALL OTHER CASES (INCL 1ST AID)</td>\n",
       "      <td>10</td>\n",
       "      <td>Employee has a pre-existing heart condition.  ...</td>\n",
       "      <td>low_injury</td>\n",
       "    </tr>\n",
       "    <tr>\n",
       "      <th>998</th>\n",
       "      <td>DAYS AWAY FROM WORK ONLY</td>\n",
       "      <td>3</td>\n",
       "      <td>PIECE OF DRAWROCK FELL FROM BETWEEN BOLTS STRI...</td>\n",
       "      <td>high_injury</td>\n",
       "    </tr>\n",
       "    <tr>\n",
       "      <th>469</th>\n",
       "      <td>DAYS RESTRICTED ACTIVITY ONLY</td>\n",
       "      <td>5</td>\n",
       "      <td>Employee stated he experienced back discomfort...</td>\n",
       "      <td>high_injury</td>\n",
       "    </tr>\n",
       "    <tr>\n",
       "      <th>...</th>\n",
       "      <td>...</td>\n",
       "      <td>...</td>\n",
       "      <td>...</td>\n",
       "      <td>...</td>\n",
       "    </tr>\n",
       "    <tr>\n",
       "      <th>840</th>\n",
       "      <td>DAYS RESTRICTED ACTIVITY ONLY</td>\n",
       "      <td>5</td>\n",
       "      <td>Supervisor was walking from the map case back ...</td>\n",
       "      <td>high_injury</td>\n",
       "    </tr>\n",
       "    <tr>\n",
       "      <th>1223</th>\n",
       "      <td>DAYS AWAY FROM WORK ONLY</td>\n",
       "      <td>3</td>\n",
       "      <td>Employee was cleaning coal with a small loader...</td>\n",
       "      <td>high_injury</td>\n",
       "    </tr>\n",
       "    <tr>\n",
       "      <th>1661</th>\n",
       "      <td>DAYS AWAY FROM WORK ONLY</td>\n",
       "      <td>3</td>\n",
       "      <td>Operator was tramming bolter and fell down, pu...</td>\n",
       "      <td>high_injury</td>\n",
       "    </tr>\n",
       "    <tr>\n",
       "      <th>563</th>\n",
       "      <td>NO DYS AWY FRM WRK,NO RSTR ACT</td>\n",
       "      <td>6</td>\n",
       "      <td>Thumb smashed while trying to punch holes in b...</td>\n",
       "      <td>low_injury</td>\n",
       "    </tr>\n",
       "    <tr>\n",
       "      <th>688</th>\n",
       "      <td>DAYS AWAY FROM WORK ONLY</td>\n",
       "      <td>3</td>\n",
       "      <td>HE WAS CHECKING SUMP PUMP , WHEN HE RAN INTO I...</td>\n",
       "      <td>high_injury</td>\n",
       "    </tr>\n",
       "  </tbody>\n",
       "</table>\n",
       "<p>1591 rows × 4 columns</p>\n",
       "</div>"
      ],
      "text/plain": [
       "                       DEGREE_INJURY DEGREE_INJURY_CD  \\\n",
       "160         DAYS AWAY FROM WORK ONLY                3   \n",
       "1601   DAYS RESTRICTED ACTIVITY ONLY                5   \n",
       "320   ALL OTHER CASES (INCL 1ST AID)               10   \n",
       "998         DAYS AWAY FROM WORK ONLY                3   \n",
       "469    DAYS RESTRICTED ACTIVITY ONLY                5   \n",
       "...                              ...              ...   \n",
       "840    DAYS RESTRICTED ACTIVITY ONLY                5   \n",
       "1223        DAYS AWAY FROM WORK ONLY                3   \n",
       "1661        DAYS AWAY FROM WORK ONLY                3   \n",
       "563   NO DYS AWY FRM WRK,NO RSTR ACT                6   \n",
       "688         DAYS AWAY FROM WORK ONLY                3   \n",
       "\n",
       "                                              NARRATIVE binary_injury  \n",
       "160   EE WAS REBUILDING HAUL ROAD BERM WITH LOADER W...   high_injury  \n",
       "1601  Employee was re-positioning a jack leg drill d...   high_injury  \n",
       "320   Employee has a pre-existing heart condition.  ...    low_injury  \n",
       "998   PIECE OF DRAWROCK FELL FROM BETWEEN BOLTS STRI...   high_injury  \n",
       "469   Employee stated he experienced back discomfort...   high_injury  \n",
       "...                                                 ...           ...  \n",
       "840   Supervisor was walking from the map case back ...   high_injury  \n",
       "1223  Employee was cleaning coal with a small loader...   high_injury  \n",
       "1661  Operator was tramming bolter and fell down, pu...   high_injury  \n",
       "563   Thumb smashed while trying to punch holes in b...    low_injury  \n",
       "688   HE WAS CHECKING SUMP PUMP , WHEN HE RAN INTO I...   high_injury  \n",
       "\n",
       "[1591 rows x 4 columns]"
      ]
     },
     "execution_count": 28,
     "metadata": {},
     "output_type": "execute_result"
    }
   ],
   "source": [
    "train"
   ]
  },
  {
   "cell_type": "code",
   "execution_count": 29,
   "id": "c15c13dc",
   "metadata": {},
   "outputs": [],
   "source": [
    "# create new dataset for train binary classification\n",
    "train_df = [train[\"binary_injury\"],train[\"NARRATIVE\"]]\n",
    "headers = [\"binary_injury\", \"NARRATIVE\"]\n",
    "Binary_df = pd.concat(train_df, axis=1, keys=headers)\n",
    "\n",
    "# create new dataset for test binary classification\n",
    "test_df = [test[\"binary_injury\"],test[\"NARRATIVE\"]]\n",
    "headers = [\"binary_injury\", \"NARRATIVE\"]\n",
    "test_injury = pd.concat(test_df, axis=1, keys=headers)"
   ]
  },
  {
   "cell_type": "code",
   "execution_count": 30,
   "id": "1e8274e6",
   "metadata": {},
   "outputs": [
    {
     "data": {
      "text/plain": [
       "{'high_injury', 'low_injury'}"
      ]
     },
     "execution_count": 30,
     "metadata": {},
     "output_type": "execute_result"
    }
   ],
   "source": [
    "test_injury[['binary_injury']].describe()\n",
    "# Unique classes\n",
    "set(test_injury.binary_injury)"
   ]
  },
  {
   "cell_type": "code",
   "execution_count": 31,
   "id": "7c8a1667",
   "metadata": {},
   "outputs": [],
   "source": [
    "#Splitting the training dataset\n",
    "by_injury = collections.defaultdict(list)\n",
    "for _, row in Binary_df.iterrows():\n",
    "    by_injury[row.binary_injury].append(row.to_dict())"
   ]
  },
  {
   "cell_type": "code",
   "execution_count": 32,
   "id": "309fbcf2",
   "metadata": {},
   "outputs": [],
   "source": [
    "# Create split data by 0.7 for training and 0.3 validation\n",
    "final_list = []\n",
    "np.random.seed(1337)\n",
    "\n",
    "for _, item_list in sorted(by_injury.items()):\n",
    "\n",
    "    np.random.shuffle(item_list)\n",
    "    \n",
    "    n_total = len(item_list)\n",
    "    n_train = round(0.7 * n_total)  #--->638; 476\n",
    "    n_val = round(0.3 * n_total)    #---->273; 204\n",
    "    \n",
    "    # Give data point a split attribute\n",
    "    for item in item_list[:n_train]:\n",
    "        item['split'] = 'train'\n",
    "    \n",
    "    for item in item_list[n_train:n_train+n_val]:\n",
    "        item['split'] = 'val'\n",
    "\n",
    "    # Add to final list\n",
    "    final_list.extend(item_list)"
   ]
  },
  {
   "cell_type": "code",
   "execution_count": 33,
   "id": "66bd2ea4",
   "metadata": {},
   "outputs": [],
   "source": [
    "# add text data\n",
    "for _, row in test_injury.iterrows():\n",
    "    row_dict = row.to_dict()\n",
    "    row_dict['split'] = 'test'\n",
    "    final_list.append(row_dict)"
   ]
  },
  {
   "cell_type": "code",
   "execution_count": 34,
   "id": "bf2034f4",
   "metadata": {},
   "outputs": [
    {
     "data": {
      "text/plain": [
       "train    1114\n",
       "val       477\n",
       "test      398\n",
       "Name: split, dtype: int64"
      ]
     },
     "execution_count": 34,
     "metadata": {},
     "output_type": "execute_result"
    }
   ],
   "source": [
    "# the final dataset with train, test and validation data\n",
    "final1 = pd.DataFrame(final_list)\n",
    "final1.split.value_counts()"
   ]
  },
  {
   "cell_type": "markdown",
   "id": "fc5efbf3",
   "metadata": {},
   "source": [
    "### Data preparation for task 2"
   ]
  },
  {
   "cell_type": "markdown",
   "id": "4533ae59",
   "metadata": {},
   "source": [
    "Task 2: Divide 'INJ_BODY_PART' to three classes by diffrent injury part of body, which are head&toe, extremities and trunk&mutipart. The data have label of 'NO VALUE FOUND' and 'UNCLASSIFIED' were removed because we cannot know which classes they are.\n",
    "\n",
    "1. **head&toe**: The names and ID of the injury head&toe are shown below, which has total 597 numbers in all dataset and 481 numbers in training data.\n",
    "EYE(S) OPTIC NERVE/VISON（130); HEAD,NEC(100); MOUTH/LIP/TEETH/TONGUE/THROAT/TASTE(142); EAR(S) INTERNAL &\n",
    "HEARING(122); FACE,NEC(140）; JAW INCLUDE CHIN(311）; NOSE/NASAL PASSAGES/SINUS/SMELL(550）; BRAIN(110）; EAR(S) EXTERNAL(514）; SCALP(170）; FACE, MULTIPLE PARTS(314）; EAR(S) INTERNAL & EXTERNAL(120）; HEAD, MULTIPLE PARTS(144）; SKULL(160）; NECK(200）; TOE(S)/PHALANGES(540）; FINGER(S)/THUMB(340）   \n",
    "\n",
    "\n",
    "2. **extremities**: The names and ID of the injury extremities are shown below, which has total 593 numbers in all dataset and 470 numbers in training data.\n",
    "KNEE/PATELLA(512）; ANKLE(520）; HAND (NOT WRIST OR FINGERS)(330）; WRIST(320）; FOOT(NOT ANKLE/TOE)/TARSUS/METATARSUS(530）; ARM,NEC(310）; LOWER LEG/TIBIA/FIBULA(513）; FOREARM/ULNAR/RADIUS(313）; ELBOW(312）; LEG, NEC(510）; THIGH/FEMUR(511）; UPPER ARM/HUMERUS(141）; ARM, MULTIPLE PARTS(150）; LEG, MULTIPLE; PARTS(121）; LOWER EXTREMITIES, MULTIPLE PARTS(143）; UPPER EXTREMITIES, MULTIPLE(350）\n",
    "\n",
    "3. **trunk&mutipart**: The names and ID of the injury extremities are shown below, which has total 566 numbers in all dataset and 453 numbers in training data.\n",
    "ABDOMEN/INTERNAL ORGANS(410）; CHEST (RIBS/BREAST BONE/CHEST ORGNS)(430）; BACK (MUSCLES/SPINE/S-CORD/TAILBONE)(420）; SHOULDERS (COLLARBONE/CLAVICLE/SCAPULA)(450）; HIPS (PELVIS/ORGANS/KIDNEYS/BUTTOCKS)(440）; TRUNK,NEC(400）; BODY SYSTEMS(600）; BODY PARTS, NEC(800); TRUNK, MULTIPLE PARTS(460）; MULTIPLE PARTS (MORE THAN ONE MAJOR)(700）\n"
   ]
  },
  {
   "cell_type": "code",
   "execution_count": 35,
   "id": "db900885",
   "metadata": {},
   "outputs": [],
   "source": [
    "df_task2 = df[['INJ_BODY_PART', 'INJ_BODY_PART_CD', 'NARRATIVE']]"
   ]
  },
  {
   "cell_type": "code",
   "execution_count": 36,
   "id": "d4927229",
   "metadata": {},
   "outputs": [],
   "source": [
    "# remove 'no_value_found'&'UNCLASSIFIED' freature in 'INJ_BODY_PART_CD'\n",
    "df_task2 = df_task2[(df_task2['INJ_BODY_PART_CD'] != '?') & (df_task2['INJ_BODY_PART_CD']!='900')]"
   ]
  },
  {
   "cell_type": "code",
   "execution_count": 37,
   "id": "487784bc",
   "metadata": {},
   "outputs": [
    {
     "data": {
      "text/plain": [
       "(1756, 3)"
      ]
     },
     "execution_count": 37,
     "metadata": {},
     "output_type": "execute_result"
    }
   ],
   "source": [
    "df_task2.shape"
   ]
  },
  {
   "cell_type": "code",
   "execution_count": 38,
   "id": "61a42336",
   "metadata": {},
   "outputs": [],
   "source": [
    "# Task 1: transfer 'INJ_BODY_PART' to mutiple classes\n",
    "y = df_task2[['INJ_BODY_PART_CD']].replace(['410', '430', '420', '450', '440', '400', '600', '800','460','700'], 'trunk&mutipart')\n",
    "y = y.replace(['512', '520', '330', '320', '530', '310', '513', '313', '312','510','511', '141', '150', '121','143','350'], 'extremities')\n",
    "y = y.replace(['130', '100', '142', '122', '140', '311', '550', '110', '514', '170','314','120','144','160', '200','540','340'], 'head&toe')\n",
    "\n",
    "df_task2['body_injury'] = y"
   ]
  },
  {
   "cell_type": "code",
   "execution_count": 39,
   "id": "d878d5c1",
   "metadata": {},
   "outputs": [
    {
     "data": {
      "text/plain": [
       "head&toe          597\n",
       "extremities       593\n",
       "trunk&mutipart    566\n",
       "Name: body_injury, dtype: int64"
      ]
     },
     "execution_count": 39,
     "metadata": {},
     "output_type": "execute_result"
    }
   ],
   "source": [
    "df_task2[\"body_injury\"].value_counts()"
   ]
  },
  {
   "cell_type": "code",
   "execution_count": 40,
   "id": "22b2b2d8",
   "metadata": {},
   "outputs": [],
   "source": [
    "# Split the data by 80/20\n",
    "from sklearn.model_selection import train_test_split\n",
    "train2, test2 = train_test_split(df_task2, test_size = 0.2, random_state = 0)"
   ]
  },
  {
   "cell_type": "code",
   "execution_count": 41,
   "id": "0e8a5dd9",
   "metadata": {},
   "outputs": [
    {
     "data": {
      "text/plain": [
       "(1404, 4)"
      ]
     },
     "execution_count": 41,
     "metadata": {},
     "output_type": "execute_result"
    }
   ],
   "source": [
    "#test2.shape    #352\n",
    "train2.shape       # 1404"
   ]
  },
  {
   "cell_type": "code",
   "execution_count": 42,
   "id": "c805d77d",
   "metadata": {},
   "outputs": [
    {
     "data": {
      "text/plain": [
       "extremities       481\n",
       "head&toe          470\n",
       "trunk&mutipart    453\n",
       "Name: body_injury, dtype: int64"
      ]
     },
     "execution_count": 42,
     "metadata": {},
     "output_type": "execute_result"
    }
   ],
   "source": [
    "train2[\"body_injury\"].value_counts()"
   ]
  },
  {
   "cell_type": "code",
   "execution_count": 43,
   "id": "7e30becf",
   "metadata": {},
   "outputs": [],
   "source": [
    "# create new dataset for train mutiple classification\n",
    "train2_df = [train2[\"body_injury\"],train2[\"NARRATIVE\"]]\n",
    "headers = [\"body_injury\", \"NARRATIVE\"]\n",
    "Mutiple_df = pd.concat(train2_df, axis=1, keys=headers)\n",
    "\n",
    "# create new dataset for test mutiple classification\n",
    "test2_df = [test2[\"body_injury\"],test2[\"NARRATIVE\"]]\n",
    "headers = [\"body_injury\", \"NARRATIVE\"]\n",
    "test_df = pd.concat(test2_df, axis=1, keys=headers)"
   ]
  },
  {
   "cell_type": "code",
   "execution_count": 44,
   "id": "6f9f6e27",
   "metadata": {},
   "outputs": [
    {
     "data": {
      "text/plain": [
       "{'extremities', 'head&toe', 'trunk&mutipart'}"
      ]
     },
     "execution_count": 44,
     "metadata": {},
     "output_type": "execute_result"
    }
   ],
   "source": [
    "test_df[['body_injury']].describe()\n",
    "# Unique classes\n",
    "set(test_df.body_injury)"
   ]
  },
  {
   "cell_type": "code",
   "execution_count": 45,
   "id": "ceafbde1",
   "metadata": {},
   "outputs": [],
   "source": [
    "#Splitting the training dataset\n",
    "by_body_injury = collections.defaultdict(list)\n",
    "for _, row in Mutiple_df.iterrows():\n",
    "    by_body_injury[row.body_injury].append(row.to_dict())"
   ]
  },
  {
   "cell_type": "code",
   "execution_count": 46,
   "id": "2b8f15e9",
   "metadata": {},
   "outputs": [],
   "source": [
    "# Create split data by 0.7 for training and 0.3 validation\n",
    "final_list2 = []\n",
    "np.random.seed(1337)\n",
    "\n",
    "for _, item_list in sorted(by_body_injury.items()):\n",
    "\n",
    "    np.random.shuffle(item_list)\n",
    "    \n",
    "    n_total = len(item_list)\n",
    "    n_train = round(0.7 * n_total)  #--->638; 476\n",
    "    n_val = round(0.3 * n_total)    #---->273; 204\n",
    "    \n",
    "    # Give data point a split attribute\n",
    "    for item in item_list[:n_train]:\n",
    "        item['split'] = 'train'\n",
    "    \n",
    "    for item in item_list[n_train:n_train+n_val]:\n",
    "        item['split'] = 'val'\n",
    "\n",
    "    # Add to final list\n",
    "    final_list2.extend(item_list)"
   ]
  },
  {
   "cell_type": "code",
   "execution_count": 47,
   "id": "72b310c5",
   "metadata": {},
   "outputs": [],
   "source": [
    "# add test data\n",
    "for _, row in test_df.iterrows():\n",
    "    row_dict = row.to_dict()\n",
    "    row_dict['split'] = 'test'\n",
    "    final_list2.append(row_dict)"
   ]
  },
  {
   "cell_type": "code",
   "execution_count": 48,
   "id": "7320feb1-413c-4031-88ff-b108e3f2c577",
   "metadata": {},
   "outputs": [
    {
     "data": {
      "text/plain": [
       "train    983\n",
       "val      421\n",
       "test     352\n",
       "Name: split, dtype: int64"
      ]
     },
     "execution_count": 48,
     "metadata": {},
     "output_type": "execute_result"
    }
   ],
   "source": [
    "# the final dataset with train, test and validation data\n",
    "final2 = pd.DataFrame(final_list2)\n",
    "final2.split.value_counts()"
   ]
  },
  {
   "cell_type": "code",
   "execution_count": 49,
   "id": "5e416d7a-749c-4cd5-a2a2-72abbf410b42",
   "metadata": {},
   "outputs": [
    {
     "data": {
      "text/html": [
       "<div>\n",
       "<style scoped>\n",
       "    .dataframe tbody tr th:only-of-type {\n",
       "        vertical-align: middle;\n",
       "    }\n",
       "\n",
       "    .dataframe tbody tr th {\n",
       "        vertical-align: top;\n",
       "    }\n",
       "\n",
       "    .dataframe thead th {\n",
       "        text-align: right;\n",
       "    }\n",
       "</style>\n",
       "<table border=\"1\" class=\"dataframe\">\n",
       "  <thead>\n",
       "    <tr style=\"text-align: right;\">\n",
       "      <th></th>\n",
       "      <th>body_injury</th>\n",
       "      <th>NARRATIVE</th>\n",
       "      <th>split</th>\n",
       "    </tr>\n",
       "  </thead>\n",
       "  <tbody>\n",
       "    <tr>\n",
       "      <th>0</th>\n",
       "      <td>extremities</td>\n",
       "      <td>sand covered rock that employee stepped on</td>\n",
       "      <td>train</td>\n",
       "    </tr>\n",
       "    <tr>\n",
       "      <th>1</th>\n",
       "      <td>extremities</td>\n",
       "      <td>PIECE OF ROCK FELL ON LEG WHILE SPLITTING ROCK...</td>\n",
       "      <td>train</td>\n",
       "    </tr>\n",
       "    <tr>\n",
       "      <th>2</th>\n",
       "      <td>extremities</td>\n",
       "      <td>Employee stepped off bolter, placed foot on un...</td>\n",
       "      <td>train</td>\n",
       "    </tr>\n",
       "    <tr>\n",
       "      <th>3</th>\n",
       "      <td>extremities</td>\n",
       "      <td>EE WAS USING A RATCHET TO TIGHTEN A BOLT AND R...</td>\n",
       "      <td>train</td>\n",
       "    </tr>\n",
       "    <tr>\n",
       "      <th>4</th>\n",
       "      <td>extremities</td>\n",
       "      <td>While tightening conveyor chain on buggy, ee p...</td>\n",
       "      <td>train</td>\n",
       "    </tr>\n",
       "    <tr>\n",
       "      <th>...</th>\n",
       "      <td>...</td>\n",
       "      <td>...</td>\n",
       "      <td>...</td>\n",
       "    </tr>\n",
       "    <tr>\n",
       "      <th>1751</th>\n",
       "      <td>extremities</td>\n",
       "      <td>Employee was starting a 2\" gasoline powered wa...</td>\n",
       "      <td>test</td>\n",
       "    </tr>\n",
       "    <tr>\n",
       "      <th>1752</th>\n",
       "      <td>extremities</td>\n",
       "      <td>While moving a miner out of a crosscut, he ste...</td>\n",
       "      <td>test</td>\n",
       "    </tr>\n",
       "    <tr>\n",
       "      <th>1753</th>\n",
       "      <td>trunk&amp;mutipart</td>\n",
       "      <td>EMPLOYEE WAS OPERATING DOUBLE HEAD FLETCHER ON...</td>\n",
       "      <td>test</td>\n",
       "    </tr>\n",
       "    <tr>\n",
       "      <th>1754</th>\n",
       "      <td>extremities</td>\n",
       "      <td>THE EE WAS IN THE PROCESS OF ASSEMBLING A CHUT...</td>\n",
       "      <td>test</td>\n",
       "    </tr>\n",
       "    <tr>\n",
       "      <th>1755</th>\n",
       "      <td>trunk&amp;mutipart</td>\n",
       "      <td>Bolting outer bolt, completed,raised stab jack...</td>\n",
       "      <td>test</td>\n",
       "    </tr>\n",
       "  </tbody>\n",
       "</table>\n",
       "<p>1756 rows × 3 columns</p>\n",
       "</div>"
      ],
      "text/plain": [
       "         body_injury                                          NARRATIVE  split\n",
       "0        extremities         sand covered rock that employee stepped on  train\n",
       "1        extremities  PIECE OF ROCK FELL ON LEG WHILE SPLITTING ROCK...  train\n",
       "2        extremities  Employee stepped off bolter, placed foot on un...  train\n",
       "3        extremities  EE WAS USING A RATCHET TO TIGHTEN A BOLT AND R...  train\n",
       "4        extremities  While tightening conveyor chain on buggy, ee p...  train\n",
       "...              ...                                                ...    ...\n",
       "1751     extremities  Employee was starting a 2\" gasoline powered wa...   test\n",
       "1752     extremities  While moving a miner out of a crosscut, he ste...   test\n",
       "1753  trunk&mutipart  EMPLOYEE WAS OPERATING DOUBLE HEAD FLETCHER ON...   test\n",
       "1754     extremities  THE EE WAS IN THE PROCESS OF ASSEMBLING A CHUT...   test\n",
       "1755  trunk&mutipart  Bolting outer bolt, completed,raised stab jack...   test\n",
       "\n",
       "[1756 rows x 3 columns]"
      ]
     },
     "execution_count": 49,
     "metadata": {},
     "output_type": "execute_result"
    }
   ],
   "source": [
    "final2"
   ]
  },
  {
   "cell_type": "markdown",
   "id": "3293aa1f",
   "metadata": {},
   "source": [
    "### Visualise to show the class balance"
   ]
  },
  {
   "cell_type": "code",
   "execution_count": 50,
   "id": "2ef214ef",
   "metadata": {},
   "outputs": [],
   "source": [
    "# Visualise to show the class balance for Task1 \n",
    "train_data = final1[final1[\"split\"] == 'train']"
   ]
  },
  {
   "cell_type": "code",
   "execution_count": 51,
   "id": "cd83b6ec",
   "metadata": {},
   "outputs": [
    {
     "data": {
      "text/plain": [
       "high_injury    638\n",
       "low_injury     476\n",
       "Name: binary_injury, dtype: int64"
      ]
     },
     "execution_count": 51,
     "metadata": {},
     "output_type": "execute_result"
    }
   ],
   "source": [
    "train_data.binary_injury.value_counts()"
   ]
  },
  {
   "cell_type": "code",
   "execution_count": 52,
   "id": "c6a1f80d",
   "metadata": {},
   "outputs": [
    {
     "data": {
      "text/plain": [
       "Text(0.5, 1.02, 'Task1 Class Balance')"
      ]
     },
     "execution_count": 52,
     "metadata": {},
     "output_type": "execute_result"
    },
    {
     "data": {
      "image/png": "[encoded data removed]",
      "text/plain": [
       "<Figure size 504x432 with 1 Axes>"
      ]
     },
     "metadata": {},
     "output_type": "display_data"
    }
   ],
   "source": [
    "#train_data.binary_injury.value_counts().plot(kind = 'barh')\n",
    "\n",
    "sns.set(font_scale=1.4)\n",
    "\n",
    "train_data['binary_injury'].value_counts().plot(kind='barh', figsize=(7, 6), rot=0)\n",
    "plt.xlabel(\"Binary labels\", labelpad=14)\n",
    "plt.ylabel(\"Count of labels\", labelpad=14)\n",
    "plt.title(\"Task1 Class Balance\", y=1.02)"
   ]
  },
  {
   "cell_type": "code",
   "execution_count": 53,
   "id": "8a70af8f",
   "metadata": {},
   "outputs": [],
   "source": [
    "train_data2 = final2[final2[\"split\"] == 'train']"
   ]
  },
  {
   "cell_type": "code",
   "execution_count": 54,
   "id": "ac02a691",
   "metadata": {},
   "outputs": [
    {
     "data": {
      "image/png": "[encoded data removed]",
      "text/plain": [
       "<Figure size 504x432 with 1 Axes>"
      ]
     },
     "metadata": {},
     "output_type": "display_data"
    }
   ],
   "source": [
    "sns.set(font_scale=1.4)\n",
    "train_data2['body_injury'].value_counts().plot(kind='barh', figsize=(7, 6), rot=0)\n",
    "plt.xlabel(\"Mutiple labels\", labelpad=14)\n",
    "plt.ylabel(\"Count of labels\", labelpad=14)\n",
    "plt.title(\"Task2 Class Balance\", y=1.02);"
   ]
  },
  {
   "cell_type": "code",
   "execution_count": 73,
   "id": "f1ba61da",
   "metadata": {},
   "outputs": [
    {
     "data": {
      "text/plain": [
       "Text(0.5, 1.02, 'Task1 Class Balance')"
      ]
     },
     "execution_count": 73,
     "metadata": {},
     "output_type": "execute_result"
    },
    {
     "data": {
      "image/png": "[encoded data removed]",
      "text/plain": [
       "<Figure size 576x576 with 2 Axes>"
      ]
     },
     "metadata": {},
     "output_type": "display_data"
    }
   ],
   "source": [
    "fig, ax =plt.subplots(1, 2, figsize = (8,8))\n",
    "fig.tight_layout(pad=3.0)\n",
    "sns.set_theme(style=\"darkgrid\")\n",
    "sns.countplot(x=\"body_injury\", data=train_data2, ax=ax[0])\n",
    "plt.title(\"Task2 Class Balance\", y=1.02)\n",
    "\n",
    "sns.countplot(x=\"binary_injury\", data=train_data, ax=ax[1])\n",
    "plt.title(\"Task1 Class Balance\", y=1.02)"
   ]
  },
  {
   "cell_type": "markdown",
   "id": "657f2839",
   "metadata": {},
   "source": [
    "## Data Preprocessing and Preparation"
   ]
  },
  {
   "cell_type": "code",
   "execution_count": 97,
   "id": "cf1c097e-c88b-4e29-a330-9d1f41289524",
   "metadata": {},
   "outputs": [],
   "source": [
    "# Preprocess the narrative to lowercase\n",
    "def preprocess_text(text):\n",
    "    if type(text) == float:\n",
    "        print(text)\n",
    "    text = text.lower()\n",
    "    return text\n",
    "    \n",
    "final1.NARRATIVE = final1.NARRATIVE.apply(preprocess_text)"
   ]
  },
  {
   "cell_type": "code",
   "execution_count": 54,
   "id": "992a3678-20ab-471b-9bb9-5ea2a6ca7757",
   "metadata": {},
   "outputs": [],
   "source": [
    "final2.NARRATIVE = final2.NARRATIVE.apply(preprocess_text)"
   ]
  },
  {
   "cell_type": "code",
   "execution_count": 98,
   "id": "ab43b2d3",
   "metadata": {},
   "outputs": [
    {
     "data": {
      "text/plain": [
       "1989"
      ]
     },
     "execution_count": 98,
     "metadata": {},
     "output_type": "execute_result"
    }
   ],
   "source": [
    "len(final1.NARRATIVE.values)"
   ]
  },
  {
   "cell_type": "code",
   "execution_count": 56,
   "id": "dac0ac52-2059-40ee-9a9a-45fd5d8feb29",
   "metadata": {},
   "outputs": [
    {
     "data": {
      "text/plain": [
       "1756"
      ]
     },
     "execution_count": 56,
     "metadata": {},
     "output_type": "execute_result"
    }
   ],
   "source": [
    "len(final2.NARRATIVE.values)"
   ]
  },
  {
   "cell_type": "code",
   "execution_count": 99,
   "id": "8cd5955f-9dd0-4352-b454-f7be4c200993",
   "metadata": {},
   "outputs": [
    {
     "data": {
      "text/html": [
       "<div>\n",
       "<style scoped>\n",
       "    .dataframe tbody tr th:only-of-type {\n",
       "        vertical-align: middle;\n",
       "    }\n",
       "\n",
       "    .dataframe tbody tr th {\n",
       "        vertical-align: top;\n",
       "    }\n",
       "\n",
       "    .dataframe thead th {\n",
       "        text-align: right;\n",
       "    }\n",
       "</style>\n",
       "<table border=\"1\" class=\"dataframe\">\n",
       "  <thead>\n",
       "    <tr style=\"text-align: right;\">\n",
       "      <th></th>\n",
       "      <th>binary_injury</th>\n",
       "      <th>NARRATIVE</th>\n",
       "      <th>split</th>\n",
       "    </tr>\n",
       "  </thead>\n",
       "  <tbody>\n",
       "    <tr>\n",
       "      <th>0</th>\n",
       "      <td>high_injury</td>\n",
       "      <td>while bolting with a jackleg, a rock fell from...</td>\n",
       "      <td>train</td>\n",
       "    </tr>\n",
       "    <tr>\n",
       "      <th>1</th>\n",
       "      <td>high_injury</td>\n",
       "      <td>the employee was assisting a bolter operator b...</td>\n",
       "      <td>train</td>\n",
       "    </tr>\n",
       "    <tr>\n",
       "      <th>2</th>\n",
       "      <td>high_injury</td>\n",
       "      <td>during lubrication of wire being installed in ...</td>\n",
       "      <td>train</td>\n",
       "    </tr>\n",
       "    <tr>\n",
       "      <th>3</th>\n",
       "      <td>high_injury</td>\n",
       "      <td>employee was working on loader. he accidentall...</td>\n",
       "      <td>train</td>\n",
       "    </tr>\n",
       "    <tr>\n",
       "      <th>4</th>\n",
       "      <td>high_injury</td>\n",
       "      <td>employee was scraping cement from forms outdoo...</td>\n",
       "      <td>train</td>\n",
       "    </tr>\n",
       "  </tbody>\n",
       "</table>\n",
       "</div>"
      ],
      "text/plain": [
       "  binary_injury                                          NARRATIVE  split\n",
       "0   high_injury  while bolting with a jackleg, a rock fell from...  train\n",
       "1   high_injury  the employee was assisting a bolter operator b...  train\n",
       "2   high_injury  during lubrication of wire being installed in ...  train\n",
       "3   high_injury  employee was working on loader. he accidentall...  train\n",
       "4   high_injury  employee was scraping cement from forms outdoo...  train"
      ]
     },
     "execution_count": 99,
     "metadata": {},
     "output_type": "execute_result"
    }
   ],
   "source": [
    "final1.head()"
   ]
  },
  {
   "cell_type": "code",
   "execution_count": 58,
   "id": "e6b6d395-83ff-4195-a454-7f04861d8553",
   "metadata": {},
   "outputs": [
    {
     "data": {
      "text/html": [
       "<div>\n",
       "<style scoped>\n",
       "    .dataframe tbody tr th:only-of-type {\n",
       "        vertical-align: middle;\n",
       "    }\n",
       "\n",
       "    .dataframe tbody tr th {\n",
       "        vertical-align: top;\n",
       "    }\n",
       "\n",
       "    .dataframe thead th {\n",
       "        text-align: right;\n",
       "    }\n",
       "</style>\n",
       "<table border=\"1\" class=\"dataframe\">\n",
       "  <thead>\n",
       "    <tr style=\"text-align: right;\">\n",
       "      <th></th>\n",
       "      <th>body_injury</th>\n",
       "      <th>NARRATIVE</th>\n",
       "      <th>split</th>\n",
       "    </tr>\n",
       "  </thead>\n",
       "  <tbody>\n",
       "    <tr>\n",
       "      <th>0</th>\n",
       "      <td>extremities</td>\n",
       "      <td>sand covered rock that employee stepped on</td>\n",
       "      <td>train</td>\n",
       "    </tr>\n",
       "    <tr>\n",
       "      <th>1</th>\n",
       "      <td>extremities</td>\n",
       "      <td>piece of rock fell on leg while splitting rock...</td>\n",
       "      <td>train</td>\n",
       "    </tr>\n",
       "    <tr>\n",
       "      <th>2</th>\n",
       "      <td>extremities</td>\n",
       "      <td>employee stepped off bolter, placed foot on un...</td>\n",
       "      <td>train</td>\n",
       "    </tr>\n",
       "    <tr>\n",
       "      <th>3</th>\n",
       "      <td>extremities</td>\n",
       "      <td>ee was using a ratchet to tighten a bolt and r...</td>\n",
       "      <td>train</td>\n",
       "    </tr>\n",
       "    <tr>\n",
       "      <th>4</th>\n",
       "      <td>extremities</td>\n",
       "      <td>while tightening conveyor chain on buggy, ee p...</td>\n",
       "      <td>train</td>\n",
       "    </tr>\n",
       "  </tbody>\n",
       "</table>\n",
       "</div>"
      ],
      "text/plain": [
       "   body_injury                                          NARRATIVE  split\n",
       "0  extremities         sand covered rock that employee stepped on  train\n",
       "1  extremities  piece of rock fell on leg while splitting rock...  train\n",
       "2  extremities  employee stepped off bolter, placed foot on un...  train\n",
       "3  extremities  ee was using a ratchet to tighten a bolt and r...  train\n",
       "4  extremities  while tightening conveyor chain on buggy, ee p...  train"
      ]
     },
     "execution_count": 58,
     "metadata": {},
     "output_type": "execute_result"
    }
   ],
   "source": [
    "final2.head()"
   ]
  },
  {
   "cell_type": "markdown",
   "id": "1a967748",
   "metadata": {},
   "source": [
    "### Tokenize and Lemmatize"
   ]
  },
  {
   "cell_type": "code",
   "execution_count": 100,
   "id": "b5546828-8e73-45dd-9d51-576038c296f5",
   "metadata": {},
   "outputs": [],
   "source": [
    "#Tokenizeing the narrative in task1 and task2\n",
    "narrative1 = list(final1.NARRATIVE.values)\n",
    "narrative2 = list(final2.NARRATIVE.values)"
   ]
  },
  {
   "cell_type": "code",
   "execution_count": 101,
   "id": "f2bfcc87-1ee6-4f67-9d69-22e234bb9380",
   "metadata": {},
   "outputs": [],
   "source": [
    "doc_narrative1=nlp(str(narrative1))\n",
    "doc_narrative2=nlp(str(narrative2))"
   ]
  },
  {
   "cell_type": "code",
   "execution_count": 102,
   "id": "48677ad4-98e0-4cea-80c0-3741fd1021a1",
   "metadata": {},
   "outputs": [],
   "source": [
    "# extract token of narrative in task1\n",
    "narrative_words = []\n",
    "narrative_lemma_words_lower=[]    \n",
    "for token in doc_narrative1:\n",
    "    if not token.is_punct:\n",
    "        narrative_words.append(token)\n",
    "        narrative_lemma_words_lower.append(token.lemma_)"
   ]
  },
  {
   "cell_type": "code",
   "execution_count": 103,
   "id": "62291e90-17e5-4796-913d-09450f4238ba",
   "metadata": {},
   "outputs": [
    {
     "data": {
      "text/plain": [
       "4551"
      ]
     },
     "execution_count": 103,
     "metadata": {},
     "output_type": "execute_result"
    }
   ],
   "source": [
    "len(list(set(narrative_lemma_words_lower)))"
   ]
  },
  {
   "cell_type": "markdown",
   "id": "b61eac40",
   "metadata": {},
   "source": [
    "### Stemming "
   ]
  },
  {
   "cell_type": "code",
   "execution_count": 52,
   "id": "af4c440a",
   "metadata": {},
   "outputs": [],
   "source": [
    "import nltk\n",
    "from nltk.stem import PorterStemmer\n",
    "from nltk.tokenize import word_tokenize"
   ]
  },
  {
   "cell_type": "code",
   "execution_count": 53,
   "id": "72897060",
   "metadata": {},
   "outputs": [],
   "source": [
    "# using stemming for narrative in task1\n",
    "\n",
    "tokenizer = nltk.RegexpTokenizer(r\"\\w+\")\n",
    "ps = PorterStemmer()\n",
    "\n",
    "narrative_words_stem = []\n",
    "narrative_stem_words_lower=[]\n",
    "\n",
    "for sen in narrative1:\n",
    "    new_words = tokenizer.tokenize(sen)                              \n",
    "    for word in new_words:\n",
    "        narrative_words_stem.append(word)\n",
    "        narrative_stem_words_lower.append(ps.stem(word))"
   ]
  },
  {
   "cell_type": "code",
   "execution_count": 54,
   "id": "80e79d77",
   "metadata": {},
   "outputs": [
    {
     "data": {
      "text/plain": [
       "3791"
      ]
     },
     "execution_count": 54,
     "metadata": {},
     "output_type": "execute_result"
    }
   ],
   "source": [
    "len(set(narrative_stem_words_lower))"
   ]
  },
  {
   "cell_type": "code",
   "execution_count": 69,
   "id": "987ca9d2",
   "metadata": {},
   "outputs": [
    {
     "data": {
      "text/plain": [
       "1212"
      ]
     },
     "execution_count": 69,
     "metadata": {},
     "output_type": "execute_result"
    }
   ],
   "source": [
    "# the diffrent words bewteen stem and lemma\n",
    "len(set(narrative_stem_words_lower) - set(narrative_lemma_words_lower))"
   ]
  },
  {
   "cell_type": "code",
   "execution_count": 70,
   "id": "7ecae4f1",
   "metadata": {},
   "outputs": [
    {
     "data": {
      "text/plain": [
       "1972"
      ]
     },
     "execution_count": 70,
     "metadata": {},
     "output_type": "execute_result"
    }
   ],
   "source": [
    "# the diffrent between lemma and stem \n",
    "len(set(narrative_lemma_words_lower) - set(narrative_stem_words_lower))"
   ]
  },
  {
   "cell_type": "code",
   "execution_count": 61,
   "id": "252725d3",
   "metadata": {},
   "outputs": [
    {
     "data": {
      "text/plain": [
       "2579"
      ]
     },
     "execution_count": 61,
     "metadata": {},
     "output_type": "execute_result"
    }
   ],
   "source": [
    "#The same word in lemma and stem\n",
    "len(set(narrative_lemma_words_lower) & set(narrative_stem_words_lower))"
   ]
  },
  {
   "cell_type": "markdown",
   "id": "bc5caf1d",
   "metadata": {},
   "source": [
    "Comparing with lemmatize and stemming, stemming has a stronger ability of transfering words to its basic root form. some words transfered by stemming are not be the dictionary words, which is difficult for people to understand. So in the follwing tasks, we use lemmatize to restoration the words. "
   ]
  },
  {
   "cell_type": "markdown",
   "id": "d77275a8",
   "metadata": {},
   "source": [
    "### Using lemma words to create the dataset for task1 and task2"
   ]
  },
  {
   "cell_type": "code",
   "execution_count": 104,
   "id": "c3393140-17ca-4a2a-8ad3-8a3772661bdf",
   "metadata": {},
   "outputs": [],
   "source": [
    "# create the dataset for task1 with lemma words\n",
    "list_column=[]\n",
    "\n",
    "for sent in narrative1:\n",
    "    words_token = nlp(str(sent))\n",
    "    strword = ''\n",
    "    for token in words_token:\n",
    "        if not token.is_punct:\n",
    "            if not token.is_stop:\n",
    "                strword += ' ' + token.lemma_\n",
    "                list(strword)\n",
    "    list_column.append(strword)"
   ]
  },
  {
   "cell_type": "code",
   "execution_count": 75,
   "id": "1469453a-7db6-49e0-93c8-f9a9c5e71f55",
   "metadata": {},
   "outputs": [],
   "source": [
    "# create the dataset for task2 with lemma words\n",
    "list_column1=[]\n",
    "\n",
    "for sent in narrative2:\n",
    "    words_token = nlp(str(sent))\n",
    "    strword = ''\n",
    "    for token in words_token:\n",
    "        if not token.is_punct:\n",
    "            if not token.is_stop:\n",
    "                strword += ' ' + token.lemma_\n",
    "                list(strword)\n",
    "    list_column1.append(strword)"
   ]
  },
  {
   "cell_type": "code",
   "execution_count": 105,
   "id": "ddbeaaf7",
   "metadata": {},
   "outputs": [],
   "source": [
    "final1.NARRATIVE = list_column"
   ]
  },
  {
   "cell_type": "code",
   "execution_count": 106,
   "id": "a4e20ca4-e292-43d0-b1f3-f776fe84d640",
   "metadata": {},
   "outputs": [
    {
     "data": {
      "text/html": [
       "<div>\n",
       "<style scoped>\n",
       "    .dataframe tbody tr th:only-of-type {\n",
       "        vertical-align: middle;\n",
       "    }\n",
       "\n",
       "    .dataframe tbody tr th {\n",
       "        vertical-align: top;\n",
       "    }\n",
       "\n",
       "    .dataframe thead th {\n",
       "        text-align: right;\n",
       "    }\n",
       "</style>\n",
       "<table border=\"1\" class=\"dataframe\">\n",
       "  <thead>\n",
       "    <tr style=\"text-align: right;\">\n",
       "      <th></th>\n",
       "      <th>binary_injury</th>\n",
       "      <th>NARRATIVE</th>\n",
       "      <th>split</th>\n",
       "    </tr>\n",
       "  </thead>\n",
       "  <tbody>\n",
       "    <tr>\n",
       "      <th>0</th>\n",
       "      <td>high_injury</td>\n",
       "      <td>bolt jackleg rock fall rib</td>\n",
       "      <td>train</td>\n",
       "    </tr>\n",
       "    <tr>\n",
       "      <th>1</th>\n",
       "      <td>high_injury</td>\n",
       "      <td>employee assist bolter operator make bolt pos...</td>\n",
       "      <td>train</td>\n",
       "    </tr>\n",
       "    <tr>\n",
       "      <th>2</th>\n",
       "      <td>high_injury</td>\n",
       "      <td>lubrication wire instal electrical conduit em...</td>\n",
       "      <td>train</td>\n",
       "    </tr>\n",
       "    <tr>\n",
       "      <th>3</th>\n",
       "      <td>high_injury</td>\n",
       "      <td>employee work loader accidentally step home l...</td>\n",
       "      <td>train</td>\n",
       "    </tr>\n",
       "    <tr>\n",
       "      <th>4</th>\n",
       "      <td>high_injury</td>\n",
       "      <td>employee scrape cement form outdoors snow for...</td>\n",
       "      <td>train</td>\n",
       "    </tr>\n",
       "  </tbody>\n",
       "</table>\n",
       "</div>"
      ],
      "text/plain": [
       "  binary_injury                                          NARRATIVE  split\n",
       "0   high_injury                         bolt jackleg rock fall rib  train\n",
       "1   high_injury   employee assist bolter operator make bolt pos...  train\n",
       "2   high_injury   lubrication wire instal electrical conduit em...  train\n",
       "3   high_injury   employee work loader accidentally step home l...  train\n",
       "4   high_injury   employee scrape cement form outdoors snow for...  train"
      ]
     },
     "execution_count": 106,
     "metadata": {},
     "output_type": "execute_result"
    }
   ],
   "source": [
    "final1.head()"
   ]
  },
  {
   "cell_type": "code",
   "execution_count": 78,
   "id": "54408080-8b3c-4ac2-b430-726167b4b424",
   "metadata": {},
   "outputs": [],
   "source": [
    "final2.NARRATIVE = list_column1"
   ]
  },
  {
   "cell_type": "code",
   "execution_count": 79,
   "id": "f2c44a13-8f15-4791-813d-25a537fd9c82",
   "metadata": {},
   "outputs": [
    {
     "data": {
      "text/html": [
       "<div>\n",
       "<style scoped>\n",
       "    .dataframe tbody tr th:only-of-type {\n",
       "        vertical-align: middle;\n",
       "    }\n",
       "\n",
       "    .dataframe tbody tr th {\n",
       "        vertical-align: top;\n",
       "    }\n",
       "\n",
       "    .dataframe thead th {\n",
       "        text-align: right;\n",
       "    }\n",
       "</style>\n",
       "<table border=\"1\" class=\"dataframe\">\n",
       "  <thead>\n",
       "    <tr style=\"text-align: right;\">\n",
       "      <th></th>\n",
       "      <th>body_injury</th>\n",
       "      <th>NARRATIVE</th>\n",
       "      <th>split</th>\n",
       "    </tr>\n",
       "  </thead>\n",
       "  <tbody>\n",
       "    <tr>\n",
       "      <th>0</th>\n",
       "      <td>extremities</td>\n",
       "      <td>sand cover rock employee step</td>\n",
       "      <td>train</td>\n",
       "    </tr>\n",
       "    <tr>\n",
       "      <th>1</th>\n",
       "      <td>extremities</td>\n",
       "      <td>piece rock fall leg splitting rock put rock p...</td>\n",
       "      <td>train</td>\n",
       "    </tr>\n",
       "    <tr>\n",
       "      <th>2</th>\n",
       "      <td>extremities</td>\n",
       "      <td>employee step bolter place foot uneven ground...</td>\n",
       "      <td>train</td>\n",
       "    </tr>\n",
       "    <tr>\n",
       "      <th>3</th>\n",
       "      <td>extremities</td>\n",
       "      <td>ee ratchet tighten bolt ratchet slip cause st...</td>\n",
       "      <td>train</td>\n",
       "    </tr>\n",
       "    <tr>\n",
       "      <th>4</th>\n",
       "      <td>extremities</td>\n",
       "      <td>tighten conveyor chain buggy ee right foot ra...</td>\n",
       "      <td>train</td>\n",
       "    </tr>\n",
       "  </tbody>\n",
       "</table>\n",
       "</div>"
      ],
      "text/plain": [
       "   body_injury                                          NARRATIVE  split\n",
       "0  extremities                      sand cover rock employee step  train\n",
       "1  extremities   piece rock fall leg splitting rock put rock p...  train\n",
       "2  extremities   employee step bolter place foot uneven ground...  train\n",
       "3  extremities   ee ratchet tighten bolt ratchet slip cause st...  train\n",
       "4  extremities   tighten conveyor chain buggy ee right foot ra...  train"
      ]
     },
     "execution_count": 79,
     "metadata": {},
     "output_type": "execute_result"
    }
   ],
   "source": [
    "final2.head()"
   ]
  },
  {
   "cell_type": "markdown",
   "id": "c8ac114d",
   "metadata": {},
   "source": [
    "### Remove stop words (rank words according to TF/IDF)."
   ]
  },
  {
   "cell_type": "code",
   "execution_count": 107,
   "id": "8061d245-8895-4756-a2c2-a18f9d6ee054",
   "metadata": {},
   "outputs": [],
   "source": [
    "def sent_to_words(corpus):\n",
    "    for conversation in corpus:\n",
    "        # deacc=True removes punctuations\n",
    "        yield(gensim.utils.simple_preprocess(str(conversation), deacc=True)) "
   ]
  },
  {
   "cell_type": "code",
   "execution_count": 108,
   "id": "b73bd5d5-a372-4e99-8b67-79f37e9e2886",
   "metadata": {},
   "outputs": [],
   "source": [
    "# remove functuations and tranfer sentence to words \n",
    "doc_tokenized = list(sent_to_words(list(final1.NARRATIVE.values)))"
   ]
  },
  {
   "cell_type": "code",
   "execution_count": 84,
   "id": "0f70d330-51e9-4d0d-9d9a-132b0689d742",
   "metadata": {},
   "outputs": [],
   "source": [
    "doc_tokenized1 = list(sent_to_words(list(final2.NARRATIVE.values)))"
   ]
  },
  {
   "cell_type": "code",
   "execution_count": 109,
   "id": "c021e4bc-b7e2-480d-acaf-fd99ba33db05",
   "metadata": {},
   "outputs": [],
   "source": [
    "# transfer words in each doc to bag of words\n",
    "dictionary = Dictionary()\n",
    "BoW_corpus = [dictionary.doc2bow(doc, allow_update=True) for doc in doc_tokenized]"
   ]
  },
  {
   "cell_type": "code",
   "execution_count": 86,
   "id": "5a6d3122-1a95-4d8d-9763-cd7f340f7352",
   "metadata": {},
   "outputs": [],
   "source": [
    "# transfer words in each doc to bag of words\n",
    "dictionary1 = Dictionary()\n",
    "BoW_corpus1 = [dictionary1.doc2bow(doc, allow_update=True) for doc in doc_tokenized1]"
   ]
  },
  {
   "cell_type": "code",
   "execution_count": 62,
   "id": "50e0e447",
   "metadata": {},
   "outputs": [
    {
     "name": "stdout",
     "output_type": "stream",
     "text": [
      "[['bolt', 1], ['fall', 1], ['jackleg', 1], ['rib', 1], ['rock', 1]]\n",
      "\n",
      "\n",
      "[['bolt', 2], ['rock', 1], ['ankle', 1], ['assist', 1], ['bolter', 1], ['cause', 1], ['damage', 1], ['employee', 3], ['extended', 1], ['fracture', 1], ['hand', 1], ['hyper', 1], ['knee', 2], ['leg', 1], ['ligament', 1], ['low', 1], ['make', 1], ['operator', 2], ['plus', 1], ['position', 1], ['possible', 1], ['strike', 1], ['sustain', 1]]\n",
      "\n",
      "\n",
      "[['cause', 2], ['employee', 1], ['hand', 2], ['box', 3], ['conduit', 1], ['edge', 1], ['electrical', 2], ['glove', 1], ['grab', 1], ['guard', 1], ['improper', 1], ['instal', 1], ['laceration', 1], ['left', 1], ['lubrication', 1], ['pull', 1], ['reach', 1], ['repair', 1], ['require', 1], ['result', 1], ['root', 1], ['slip', 1], ['slippery', 1], ['stand', 1], ['stitch', 1], ['surface', 1], ['surgical', 1], ['tendon', 1], ['use', 1], ['wear', 1], ['wet', 1], ['wire', 2]]\n",
      "\n",
      "\n",
      "[['fall', 1], ['ankle', 1], ['cause', 1], ['employee', 1], ['knee', 1], ['accidentally', 1], ['floor', 1], ['home', 1], ['lift', 1], ['loader', 1], ['right', 1], ['step', 1], ['twist', 1], ['work', 1]]\n",
      "\n",
      "\n",
      "[['cause', 1], ['employee', 3], ['hand', 1], ['left', 1], ['slip', 1], ['work', 1], ['advise', 1], ['care', 1], ['cement', 1], ['complete', 2], ['course', 1], ['diagnose', 1], ['dr', 1], ['duty', 1], ['forearm', 2], ['form', 2], ['job', 1], ['old', 1], ['outdoors', 1], ['pt', 1], ['regular', 1], ['return', 1], ['scrape', 1], ['snow', 1], ['strain', 2], ['stretching', 1], ['tendonitis', 1], ['treatment', 1], ['week', 1], ['workpiece', 1], ['year', 1]]\n",
      "\n",
      "\n"
     ]
    }
   ],
   "source": [
    "for doc in BoW_corpus[:5]:\n",
    "    print([[dictionary[id], freq] for id, freq in doc])\n",
    "    print(\"\\n\")"
   ]
  },
  {
   "cell_type": "code",
   "execution_count": 110,
   "id": "4e8e60ac",
   "metadata": {},
   "outputs": [
    {
     "name": "stdout",
     "output_type": "stream",
     "text": [
      "[['bolt', 0.31], ['fall', 0.19], ['jackleg', 0.71], ['rib', 0.51], ['rock', 0.31]]\n",
      "\n",
      "\n",
      "[['bolt', 0.22], ['rock', 0.11], ['ankle', 0.15], ['assist', 0.22], ['bolter', 0.19], ['cause', 0.08], ['damage', 0.19], ['employee', 0.12], ['extended', 0.32], ['fracture', 0.15], ['hand', 0.09], ['hyper', 0.3], ['knee', 0.24], ['leg', 0.14], ['ligament', 0.29], ['low', 0.13], ['make', 0.22], ['operator', 0.3], ['plus', 0.32], ['position', 0.19], ['possible', 0.23], ['strike', 0.1], ['sustain', 0.19]]\n",
      "\n",
      "\n",
      "[['cause', 0.12], ['employee', 0.03], ['hand', 0.13], ['box', 0.42], ['conduit', 0.21], ['edge', 0.14], ['electrical', 0.3], ['glove', 0.14], ['grab', 0.15], ['guard', 0.14], ['improper', 0.2], ['instal', 0.12], ['laceration', 0.1], ['left', 0.06], ['lubrication', 0.25], ['pull', 0.09], ['reach', 0.13], ['repair', 0.12], ['require', 0.1], ['result', 0.1], ['root', 0.22], ['slip', 0.06], ['slippery', 0.19], ['stand', 0.12], ['stitch', 0.1], ['surface', 0.15], ['surgical', 0.22], ['tendon', 0.2], ['use', 0.17], ['wear', 0.13], ['wet', 0.16], ['wire', 0.3]]\n",
      "\n",
      "\n",
      "[['fall', 0.12], ['ankle', 0.27], ['cause', 0.15], ['employee', 0.07], ['knee', 0.22], ['accidentally', 0.57], ['floor', 0.29], ['home', 0.41], ['lift', 0.24], ['loader', 0.25], ['right', 0.13], ['step', 0.2], ['twist', 0.25], ['work', 0.17]]\n",
      "\n",
      "\n",
      "[['cause', 0.06], ['employee', 0.08], ['hand', 0.06], ['left', 0.05], ['slip', 0.06], ['work', 0.06], ['advise', 0.19], ['care', 0.18], ['cement', 0.15], ['complete', 0.31], ['course', 0.21], ['diagnose', 0.12], ['dr', 0.12], ['duty', 0.1], ['forearm', 0.27], ['form', 0.35], ['job', 0.15], ['old', 0.14], ['outdoors', 0.24], ['pt', 0.21], ['regular', 0.18], ['return', 0.11], ['scrape', 0.17], ['snow', 0.16], ['strain', 0.18], ['stretching', 0.24], ['tendonitis', 0.22], ['treatment', 0.12], ['week', 0.16], ['workpiece', 0.24], ['year', 0.17]]\n",
      "\n",
      "\n"
     ]
    }
   ],
   "source": [
    "# calculate tfidf\n",
    "import numpy as np\n",
    "tfidf = TfidfModel(BoW_corpus, smartirs='ntc')\n",
    " \n",
    "for doc in tfidf[BoW_corpus[:5]]:\n",
    "    print([[dictionary[id], np.around(freq,decimals=2)] for id, freq in doc])\n",
    "    print(\"\\n\")"
   ]
  },
  {
   "cell_type": "code",
   "execution_count": 87,
   "id": "2939691b-0d49-453f-8596-eeb80b26f1e6",
   "metadata": {},
   "outputs": [
    {
     "name": "stdout",
     "output_type": "stream",
     "text": [
      "[['cover', 0.57], ['employee', 0.1], ['rock', 0.3], ['sand', 0.69], ['step', 0.31]]\n",
      "\n",
      "\n",
      "[['rock', 0.42], ['accident', 0.18], ['alecia', 0.35], ['clifford', 0.35], ['fall', 0.15], ['happen', 0.27], ['leg', 0.14], ['mb', 0.35], ['noi', 0.35], ['pallet', 0.21], ['piece', 0.11], ['put', 0.19], ['splitting', 0.32]]\n",
      "\n",
      "\n",
      "[['employee', 0.05], ['step', 0.15], ['ankle', 0.2], ['bolter', 0.25], ['boot', 0.29], ['diagnose', 0.23], ['duty', 0.2], ['foot', 0.16], ['ground', 0.19], ['left', 0.1], ['light', 0.27], ['negative', 0.34], ['place', 0.18], ['release', 0.2], ['strain', 0.17], ['turn', 0.21], ['uneven', 0.34], ['walk', 0.17], ['xray', 0.38]]\n",
      "\n",
      "\n",
      "[['bolt', 0.19], ['cause', 0.13], ['ee', 0.09], ['ratchet', 0.86], ['slip', 0.14], ['strike', 0.14], ['tighten', 0.31], ['wrist', 0.26]]\n",
      "\n",
      "\n",
      "[['leg', 0.27], ['foot', 0.11], ['ground', 0.14], ['ee', 0.06], ['slip', 0.09], ['tighten', 0.19], ['break', 0.13], ['buggy', 0.31], ['chain', 0.17], ['conveyor', 0.16], ['jam', 0.23], ['jump', 0.22], ['plateau', 0.34], ['rachet', 0.61], ['right', 0.14], ['tibia', 0.28]]\n",
      "\n",
      "\n"
     ]
    }
   ],
   "source": [
    "# calculate tfidf\n",
    "import numpy as np\n",
    "tfidf1 = TfidfModel(BoW_corpus1, smartirs='ntc')\n",
    " \n",
    "for doc in tfidf1[BoW_corpus1[:5]]:\n",
    "    print([[dictionary1[id], np.around(freq,decimals=2)] for id, freq in doc])\n",
    "    print(\"\\n\")"
   ]
  },
  {
   "cell_type": "code",
   "execution_count": 92,
   "id": "0efa3e50-44d3-45c2-900c-958540f6d223",
   "metadata": {},
   "outputs": [],
   "source": [
    "#extract stop word in task1 that tfidf <= 0.1\n",
    "without_stopword=[]\n",
    "stopword = []\n",
    "for sentence in tfidf[BoW_corpus]:\n",
    "    for word in sentence:\n",
    "        if word[1]>0.1:\n",
    "            without_stopword.append(word)\n",
    "        else:\n",
    "            stopword.append(word)"
   ]
  },
  {
   "cell_type": "code",
   "execution_count": 98,
   "id": "9d033aed-c6d5-4d38-aec1-03a3f263ddb6",
   "metadata": {},
   "outputs": [],
   "source": [
    "#extract stop word in task2 that tfidf <= 0.1 multi\n",
    "without_stopword1=[]\n",
    "stopword1 = []\n",
    "for sentence in tfidf1[BoW_corpus1]:\n",
    "    for word in sentence:\n",
    "        if word[1]>0.1:\n",
    "            without_stopword1.append(word)\n",
    "        else:\n",
    "            stopword1.append(word)"
   ]
  },
  {
   "cell_type": "code",
   "execution_count": 111,
   "id": "ac9126a7-1fb4-47ff-967f-266f3aaa67a5",
   "metadata": {},
   "outputs": [],
   "source": [
    "#remove stop word that tfidf <= 0.1 in task1\n",
    "list_column = []\n",
    "\n",
    "for sentence in tfidf[BoW_corpus]:\n",
    "    strword = ''\n",
    "    for word in sentence:\n",
    "        #print(dictionary[word[0]])\n",
    "        if word[1]>0.1:\n",
    "            #print(word[1], '--->', dictionary[word[0]])\n",
    "            strword += ' ' + dictionary[word[0]]\n",
    "            list(strword)\n",
    "    list_column.append(strword)\n",
    "    \n",
    "#list_column"
   ]
  },
  {
   "cell_type": "code",
   "execution_count": 99,
   "id": "3107d3e0-da30-4013-87b3-a006079974db",
   "metadata": {},
   "outputs": [],
   "source": [
    "#remove stop word that tfidf <= 0.1 in task2\n",
    "list_column1 = []\n",
    "\n",
    "for sentence in tfidf1[BoW_corpus1]:\n",
    "    strword = ''\n",
    "    for word in sentence:\n",
    "        #print(dictionary[word[0]])\n",
    "        if word[1]>0.1:\n",
    "            #print(word[1], '--->', dictionary[word[0]])\n",
    "            strword += ' ' + dictionary[word[0]]\n",
    "            list(strword)\n",
    "    list_column1.append(strword)\n",
    "    \n",
    "#list_column"
   ]
  },
  {
   "cell_type": "code",
   "execution_count": 112,
   "id": "5566452f-dddd-437d-b1e6-d009ab6a4370",
   "metadata": {},
   "outputs": [],
   "source": [
    "final1.NARRATIVE = list_column"
   ]
  },
  {
   "cell_type": "code",
   "execution_count": 101,
   "id": "81f4d250-c28e-4bc9-8466-1e2562c86db9",
   "metadata": {},
   "outputs": [],
   "source": [
    "final2.NARRATIVE = list_column1"
   ]
  },
  {
   "cell_type": "code",
   "execution_count": 113,
   "id": "3eb2b4b1",
   "metadata": {},
   "outputs": [
    {
     "data": {
      "text/html": [
       "<div>\n",
       "<style scoped>\n",
       "    .dataframe tbody tr th:only-of-type {\n",
       "        vertical-align: middle;\n",
       "    }\n",
       "\n",
       "    .dataframe tbody tr th {\n",
       "        vertical-align: top;\n",
       "    }\n",
       "\n",
       "    .dataframe thead th {\n",
       "        text-align: right;\n",
       "    }\n",
       "</style>\n",
       "<table border=\"1\" class=\"dataframe\">\n",
       "  <thead>\n",
       "    <tr style=\"text-align: right;\">\n",
       "      <th></th>\n",
       "      <th>binary_injury</th>\n",
       "      <th>NARRATIVE</th>\n",
       "      <th>split</th>\n",
       "    </tr>\n",
       "  </thead>\n",
       "  <tbody>\n",
       "    <tr>\n",
       "      <th>0</th>\n",
       "      <td>high_injury</td>\n",
       "      <td>bolt fall jackleg rib rock</td>\n",
       "      <td>train</td>\n",
       "    </tr>\n",
       "    <tr>\n",
       "      <th>1</th>\n",
       "      <td>high_injury</td>\n",
       "      <td>bolt rock ankle assist bolter damage employee...</td>\n",
       "      <td>train</td>\n",
       "    </tr>\n",
       "    <tr>\n",
       "      <th>2</th>\n",
       "      <td>high_injury</td>\n",
       "      <td>cause hand box conduit edge electrical glove ...</td>\n",
       "      <td>train</td>\n",
       "    </tr>\n",
       "    <tr>\n",
       "      <th>3</th>\n",
       "      <td>high_injury</td>\n",
       "      <td>fall ankle cause knee accidentally floor home...</td>\n",
       "      <td>train</td>\n",
       "    </tr>\n",
       "    <tr>\n",
       "      <th>4</th>\n",
       "      <td>high_injury</td>\n",
       "      <td>advise care cement complete course diagnose d...</td>\n",
       "      <td>train</td>\n",
       "    </tr>\n",
       "    <tr>\n",
       "      <th>...</th>\n",
       "      <td>...</td>\n",
       "      <td>...</td>\n",
       "      <td>...</td>\n",
       "    </tr>\n",
       "    <tr>\n",
       "      <th>1984</th>\n",
       "      <td>high_injury</td>\n",
       "      <td>process continue shaft run winch raising work...</td>\n",
       "      <td>test</td>\n",
       "    </tr>\n",
       "    <tr>\n",
       "      <th>1985</th>\n",
       "      <td>high_injury</td>\n",
       "      <td>employee left pull feel help pain shoulder ti...</td>\n",
       "      <td>test</td>\n",
       "    </tr>\n",
       "    <tr>\n",
       "      <th>1986</th>\n",
       "      <td>low_injury</td>\n",
       "      <td>feel remove small material eye site med build...</td>\n",
       "      <td>test</td>\n",
       "    </tr>\n",
       "    <tr>\n",
       "      <th>1987</th>\n",
       "      <td>high_injury</td>\n",
       "      <td>strike pull right forearm bar fly belt red devil</td>\n",
       "      <td>test</td>\n",
       "    </tr>\n",
       "    <tr>\n",
       "      <th>1988</th>\n",
       "      <td>high_injury</td>\n",
       "      <td>fall rib rock cause left step diagnose go ome...</td>\n",
       "      <td>test</td>\n",
       "    </tr>\n",
       "  </tbody>\n",
       "</table>\n",
       "<p>1989 rows × 3 columns</p>\n",
       "</div>"
      ],
      "text/plain": [
       "     binary_injury                                          NARRATIVE  split\n",
       "0      high_injury                         bolt fall jackleg rib rock  train\n",
       "1      high_injury   bolt rock ankle assist bolter damage employee...  train\n",
       "2      high_injury   cause hand box conduit edge electrical glove ...  train\n",
       "3      high_injury   fall ankle cause knee accidentally floor home...  train\n",
       "4      high_injury   advise care cement complete course diagnose d...  train\n",
       "...            ...                                                ...    ...\n",
       "1984   high_injury   process continue shaft run winch raising work...   test\n",
       "1985   high_injury   employee left pull feel help pain shoulder ti...   test\n",
       "1986    low_injury   feel remove small material eye site med build...   test\n",
       "1987   high_injury   strike pull right forearm bar fly belt red devil   test\n",
       "1988   high_injury   fall rib rock cause left step diagnose go ome...   test\n",
       "\n",
       "[1989 rows x 3 columns]"
      ]
     },
     "execution_count": 113,
     "metadata": {},
     "output_type": "execute_result"
    }
   ],
   "source": [
    "final1"
   ]
  },
  {
   "cell_type": "code",
   "execution_count": 103,
   "id": "c804d689-38a2-4445-b658-5b9280d344b2",
   "metadata": {},
   "outputs": [
    {
     "data": {
      "text/html": [
       "<div>\n",
       "<style scoped>\n",
       "    .dataframe tbody tr th:only-of-type {\n",
       "        vertical-align: middle;\n",
       "    }\n",
       "\n",
       "    .dataframe tbody tr th {\n",
       "        vertical-align: top;\n",
       "    }\n",
       "\n",
       "    .dataframe thead th {\n",
       "        text-align: right;\n",
       "    }\n",
       "</style>\n",
       "<table border=\"1\" class=\"dataframe\">\n",
       "  <thead>\n",
       "    <tr style=\"text-align: right;\">\n",
       "      <th></th>\n",
       "      <th>body_injury</th>\n",
       "      <th>NARRATIVE</th>\n",
       "      <th>split</th>\n",
       "    </tr>\n",
       "  </thead>\n",
       "  <tbody>\n",
       "    <tr>\n",
       "      <th>0</th>\n",
       "      <td>extremities</td>\n",
       "      <td>bolt jackleg rib rock</td>\n",
       "      <td>train</td>\n",
       "    </tr>\n",
       "    <tr>\n",
       "      <th>1</th>\n",
       "      <td>extremities</td>\n",
       "      <td>jackleg ankle assist bolter cause damage empl...</td>\n",
       "      <td>train</td>\n",
       "    </tr>\n",
       "    <tr>\n",
       "      <th>2</th>\n",
       "      <td>extremities</td>\n",
       "      <td>rock ligament low make operator plus position...</td>\n",
       "      <td>train</td>\n",
       "    </tr>\n",
       "    <tr>\n",
       "      <th>3</th>\n",
       "      <td>extremities</td>\n",
       "      <td>instal laceration lubrication pull reach repa...</td>\n",
       "      <td>train</td>\n",
       "    </tr>\n",
       "    <tr>\n",
       "      <th>4</th>\n",
       "      <td>extremities</td>\n",
       "      <td>employee position possible repair result root...</td>\n",
       "      <td>train</td>\n",
       "    </tr>\n",
       "    <tr>\n",
       "      <th>...</th>\n",
       "      <td>...</td>\n",
       "      <td>...</td>\n",
       "      <td>...</td>\n",
       "    </tr>\n",
       "    <tr>\n",
       "      <th>1751</th>\n",
       "      <td>extremities</td>\n",
       "      <td>laceration tendon hang trip methane tire clea...</td>\n",
       "      <td>test</td>\n",
       "    </tr>\n",
       "    <tr>\n",
       "      <th>1752</th>\n",
       "      <td>extremities</td>\n",
       "      <td>rock course center lbsledge shoulder bracket ...</td>\n",
       "      <td>test</td>\n",
       "    </tr>\n",
       "    <tr>\n",
       "      <th>1753</th>\n",
       "      <td>trunk&amp;mutipart</td>\n",
       "      <td>hyper knee instal complete miner reinstall su...</td>\n",
       "      <td>test</td>\n",
       "    </tr>\n",
       "    <tr>\n",
       "      <th>1754</th>\n",
       "      <td>extremities</td>\n",
       "      <td>employee hyper left reach curtain equipment m...</td>\n",
       "      <td>test</td>\n",
       "    </tr>\n",
       "    <tr>\n",
       "      <th>1755</th>\n",
       "      <td>trunk&amp;mutipart</td>\n",
       "      <td>employee instal reach bridge reinstall attemp...</td>\n",
       "      <td>test</td>\n",
       "    </tr>\n",
       "  </tbody>\n",
       "</table>\n",
       "<p>1756 rows × 3 columns</p>\n",
       "</div>"
      ],
      "text/plain": [
       "         body_injury                                          NARRATIVE  split\n",
       "0        extremities                              bolt jackleg rib rock  train\n",
       "1        extremities   jackleg ankle assist bolter cause damage empl...  train\n",
       "2        extremities   rock ligament low make operator plus position...  train\n",
       "3        extremities   instal laceration lubrication pull reach repa...  train\n",
       "4        extremities   employee position possible repair result root...  train\n",
       "...              ...                                                ...    ...\n",
       "1751     extremities   laceration tendon hang trip methane tire clea...   test\n",
       "1752     extremities   rock course center lbsledge shoulder bracket ...   test\n",
       "1753  trunk&mutipart   hyper knee instal complete miner reinstall su...   test\n",
       "1754     extremities   employee hyper left reach curtain equipment m...   test\n",
       "1755  trunk&mutipart   employee instal reach bridge reinstall attemp...   test\n",
       "\n",
       "[1756 rows x 3 columns]"
      ]
     },
     "execution_count": 103,
     "metadata": {},
     "output_type": "execute_result"
    }
   ],
   "source": [
    "final2"
   ]
  },
  {
   "cell_type": "code",
   "execution_count": 114,
   "id": "30e8ca51-cd29-4143-bf7c-73961ecec072",
   "metadata": {},
   "outputs": [
    {
     "data": {
      "text/plain": [
       "high_injury    1128\n",
       "low_injury      861\n",
       "Name: binary_injury, dtype: int64"
      ]
     },
     "execution_count": 114,
     "metadata": {},
     "output_type": "execute_result"
    }
   ],
   "source": [
    "final1[\"binary_injury\"].value_counts()"
   ]
  },
  {
   "cell_type": "code",
   "execution_count": 104,
   "id": "ef289db3-cc74-4466-bf2e-275b652546b2",
   "metadata": {},
   "outputs": [
    {
     "data": {
      "text/plain": [
       "head&toe          597\n",
       "extremities       593\n",
       "trunk&mutipart    566\n",
       "Name: body_injury, dtype: int64"
      ]
     },
     "execution_count": 104,
     "metadata": {},
     "output_type": "execute_result"
    }
   ],
   "source": [
    "final2[\"body_injury\"].value_counts()"
   ]
  },
  {
   "cell_type": "code",
   "execution_count": 115,
   "id": "52d246ba-f220-40a6-b225-2864ba76a2ef",
   "metadata": {},
   "outputs": [
    {
     "data": {
      "text/html": [
       "<div>\n",
       "<style scoped>\n",
       "    .dataframe tbody tr th:only-of-type {\n",
       "        vertical-align: middle;\n",
       "    }\n",
       "\n",
       "    .dataframe tbody tr th {\n",
       "        vertical-align: top;\n",
       "    }\n",
       "\n",
       "    .dataframe thead th {\n",
       "        text-align: right;\n",
       "    }\n",
       "</style>\n",
       "<table border=\"1\" class=\"dataframe\">\n",
       "  <thead>\n",
       "    <tr style=\"text-align: right;\">\n",
       "      <th></th>\n",
       "      <th>binary_injury</th>\n",
       "      <th>NARRATIVE</th>\n",
       "      <th>split</th>\n",
       "    </tr>\n",
       "  </thead>\n",
       "  <tbody>\n",
       "  </tbody>\n",
       "</table>\n",
       "</div>"
      ],
      "text/plain": [
       "Empty DataFrame\n",
       "Columns: [binary_injury, NARRATIVE, split]\n",
       "Index: []"
      ]
     },
     "execution_count": 115,
     "metadata": {},
     "output_type": "execute_result"
    }
   ],
   "source": [
    "final1[pd.isnull(final1.binary_injury)]"
   ]
  },
  {
   "cell_type": "code",
   "execution_count": 106,
   "id": "be5856b8-f434-4389-ae1c-b27088f8758e",
   "metadata": {},
   "outputs": [
    {
     "data": {
      "text/html": [
       "<div>\n",
       "<style scoped>\n",
       "    .dataframe tbody tr th:only-of-type {\n",
       "        vertical-align: middle;\n",
       "    }\n",
       "\n",
       "    .dataframe tbody tr th {\n",
       "        vertical-align: top;\n",
       "    }\n",
       "\n",
       "    .dataframe thead th {\n",
       "        text-align: right;\n",
       "    }\n",
       "</style>\n",
       "<table border=\"1\" class=\"dataframe\">\n",
       "  <thead>\n",
       "    <tr style=\"text-align: right;\">\n",
       "      <th></th>\n",
       "      <th>body_injury</th>\n",
       "      <th>NARRATIVE</th>\n",
       "      <th>split</th>\n",
       "    </tr>\n",
       "  </thead>\n",
       "  <tbody>\n",
       "  </tbody>\n",
       "</table>\n",
       "</div>"
      ],
      "text/plain": [
       "Empty DataFrame\n",
       "Columns: [body_injury, NARRATIVE, split]\n",
       "Index: []"
      ]
     },
     "execution_count": 106,
     "metadata": {},
     "output_type": "execute_result"
    }
   ],
   "source": [
    "final2[pd.isnull(final2.body_injury)]"
   ]
  },
  {
   "cell_type": "code",
   "execution_count": 121,
   "id": "1e4328d7-7ec6-4374-bb92-7d989f352afd",
   "metadata": {},
   "outputs": [],
   "source": [
    "#Save final1 to csv\n",
    "final1.to_csv('final1.csv')"
   ]
  },
  {
   "cell_type": "code",
   "execution_count": 107,
   "id": "02dece09-70e1-4913-821a-67c8abc39edd",
   "metadata": {},
   "outputs": [],
   "source": [
    "#Save final1 to csv\n",
    "final2.to_csv('final2.csv')"
   ]
  },
  {
   "cell_type": "markdown",
   "id": "fdb781e2",
   "metadata": {},
   "source": [
    "These are the final used datasets for Task1 and Task2. The NARRATIVE in the dataset are prepareing by words lemmatization and removing stop words using spacy and TFIDF. The NARRATIVE will be transfered to vectorior type for the model use in the future. "
   ]
  },
  {
   "cell_type": "markdown",
   "id": "f92bc599",
   "metadata": {},
   "source": [
    "## Task 1: Binary Document Classification\n",
    "\n",
    "### Feed-forward Neural Network model"
   ]
  },
  {
   "cell_type": "markdown",
   "id": "402576c4",
   "metadata": {},
   "source": [
    "The FFNN model use one hot encoding to convert NARRATIVE inputs to vectorized minibatches. The one hot encoding is calling by 'vectorize' function that is implemented inside the 'ReviewVectorizer' class shown in the attached file of 'models.py'. "
   ]
  },
  {
   "cell_type": "code",
   "execution_count": 216,
   "id": "9f717d71-73fc-4448-94f1-71dbd040a708",
   "metadata": {},
   "outputs": [],
   "source": [
    "import torch\n",
    "from Models import *\n",
    "from helpers import *"
   ]
  },
  {
   "cell_type": "code",
   "execution_count": 217,
   "id": "7cfe5be3-d393-4d0e-87c5-832adbf345e2",
   "metadata": {},
   "outputs": [],
   "source": [
    "#training \n",
    "\n",
    "from argparse import Namespace\n",
    "args = Namespace(\n",
    "    # Data and path information\n",
    "    body_csv=\"/Users/yuanbo/Desktop/cits4012/final1.csv\",\n",
    "    frequency_cutoff=25,\n",
    "    model_state_file='model.pth',\n",
    "    save_dir='/Users/yuanbo/Desktop/cits4012',\n",
    "    vectorizer_file='vectorizer.json',\n",
    "    # No model hyperparameters\n",
    "    # Training hyperparameters\n",
    "    batch_size=128,\n",
    "    early_stopping_criteria=5,\n",
    "    learning_rate=0.03,\n",
    "    num_epochs=100,\n",
    "    seed=1337,\n",
    "    # Runtime options\n",
    "    cuda=True,\n",
    "    reload_from_files=False,\n",
    "    device='cuda',\n",
    ")"
   ]
  },
  {
   "cell_type": "code",
   "execution_count": 218,
   "id": "31b178ac",
   "metadata": {},
   "outputs": [],
   "source": [
    "import torch\n",
    "import torch.optim as optim\n",
    "import pandas as pd\n",
    "\n",
    "def make_train_state(args):\n",
    "    return {'epoch_index': 0,\n",
    "            'train_loss': [],\n",
    "            'train_acc': [],\n",
    "            'val_loss': [],\n",
    "            'val_acc': [],\n",
    "            }\n",
    "\n",
    "train_state = make_train_state(args)\n",
    "\n",
    "if not torch.cuda.is_available():\n",
    "    args.cuda = False\n",
    "args.device = torch.device(\"cuda\" if args.cuda else \"cpu\")\n",
    "\n",
    "#dataset and vectorizer\n",
    "final1 = pd.read_csv(args.body_csv)\n",
    "dataset = InjuryDataset.load_dataset_and_make_vectorizer(final1)\n",
    "vectorizer = dataset.get_vectorizer()\n",
    "\n",
    "# model\n",
    "classifier = InjuryClassifier(num_features=len(vectorizer.NARRATIVE_vocab))\n",
    "classifier = classifier.to(args.device)\n",
    "# loss and optimizer\n",
    "loss_func = nn.BCEWithLogitsLoss()\n",
    "optimizer = optim.Adam(classifier.parameters(), lr=args.learning_rate)"
   ]
  },
  {
   "cell_type": "code",
   "execution_count": 219,
   "id": "1fcf43e0",
   "metadata": {},
   "outputs": [],
   "source": [
    "def compute_accuracy_binary(y_pred, y_target):\n",
    "    y_target = y_target.cpu()\n",
    "    y_pred_indices = (torch.sigmoid(y_pred)>0.5).cpu().long()#.max(dim=1)[1]\n",
    "    n_correct = torch.eq(y_pred_indices, y_target).sum().item()\n",
    "    return n_correct / len(y_pred_indices) * 100"
   ]
  },
  {
   "cell_type": "code",
   "execution_count": 220,
   "id": "45912344",
   "metadata": {},
   "outputs": [],
   "source": [
    "import numpy as np\n",
    "for epoch_index in range(args.num_epochs):\n",
    "    train_state['epoch_index'] = epoch_index\n",
    "    # Iterate over training dataset\n",
    "    # setup: batch generator, set loss and acc to 0, set train mode on\n",
    "    dataset.set_split('train')\n",
    "    batch_generator = generate_batches(dataset, batch_size=args.batch_size, device=args.device)\n",
    "    running_loss = 0.0\n",
    "    running_acc = 0.0\n",
    "    classifier.train()\n",
    "    for batch_index, batch_dict in enumerate(batch_generator):\n",
    "        # the training routine is 5 steps:\n",
    "        # step 1. zero the gradients\n",
    "        optimizer.zero_grad()\n",
    "        # step 2. compute the output\n",
    "        y_pred = classifier(x_in=batch_dict['x_data'].float())\n",
    "        # step 3. compute the loss\n",
    "        loss = loss_func(y_pred, batch_dict['y_target'].float())\n",
    "        loss_batch = loss.item()\n",
    "        running_loss += (loss_batch-running_loss) / (batch_index + 1)\n",
    "        # step 4. use loss to produce gradients\n",
    "        loss.backward()\n",
    "        # step 5. use optimizer to take gradient step\n",
    "        optimizer.step()\n",
    "        # compute the accuracy\n",
    "        acc_batch = compute_accuracy_binary(y_pred, batch_dict['y_target'])\n",
    "        running_acc += (acc_batch - running_acc) / (batch_index + 1)\n",
    "\n",
    "    train_state['train_loss'].append(running_loss)\n",
    "    train_state['train_acc'].append(running_acc)\n",
    "\n",
    "    # Iterate over val dataset\n",
    "    # setup: batch generator, set loss and acc to 0, set eval mode on\n",
    "    dataset.set_split('val')\n",
    "    batch_generator = generate_batches(dataset, batch_size=args.batch_size, device=args.device)\n",
    "    running_loss = 0.\n",
    "    running_acc = 0.\n",
    "    classifier.eval()\n",
    "\n",
    "    for batch_index, batch_dict in enumerate(batch_generator):\n",
    "        # step 1. compute the output\n",
    "        y_pred = classifier(x_in=batch_dict['x_data'].float())\n",
    "        # step 2. compute the loss\n",
    "        loss = loss_func(y_pred, batch_dict['y_target'].float())\n",
    "        loss_batch = loss.item()\n",
    "        running_loss += (loss_batch - running_loss) / (batch_index + 1)\n",
    "        # step 3. compute the accuracy\n",
    "        acc_batch = compute_accuracy_binary(y_pred, batch_dict['y_target'])\n",
    "        running_acc += (acc_batch - running_acc) / (batch_index + 1)\n",
    "    train_state['val_loss'].append(running_loss)\n",
    "    train_state['val_acc'].append(running_acc)"
   ]
  },
  {
   "cell_type": "markdown",
   "id": "bd82baae-11f1-4559-a554-dd8d6329ccd9",
   "metadata": {},
   "source": [
    " "
   ]
  },
  {
   "cell_type": "markdown",
   "id": "b800a77a-ca6a-44bb-ad78-ae6cde494e78",
   "metadata": {},
   "source": [
    "We make the test code as a function so that we can compare the result at the end of this task"
   ]
  },
  {
   "cell_type": "code",
   "execution_count": 222,
   "id": "09171960-2eb1-4d78-8ce6-ccfc4c4a24d1",
   "metadata": {},
   "outputs": [],
   "source": [
    "def test_ffn(model, args):\n",
    "    classfier = torch.load(model)\n",
    "    dataset.set_split('test')\n",
    "    batch_generator = generate_batches(dataset,batch_size=args.batch_size,device=args.device)\n",
    "    running_loss = 0.\n",
    "    running_acc = 0.\n",
    "    classifier.eval()\n",
    "    for batch_index, batch_dict in enumerate(batch_generator):\n",
    "        # compute the output\n",
    "        y_pred = classifier(x_in=batch_dict['x_data'].float())\n",
    "        # compute the loss\n",
    "        loss = loss_func(y_pred, batch_dict['y_target'].float())\n",
    "        loss_batch = loss.item()\n",
    "        running_loss += (loss_batch - running_loss) / (batch_index + 1)\n",
    "        # compute the accuracy\n",
    "        acc_batch = compute_accuracy_binary(y_pred, batch_dict['y_target'])\n",
    "        running_acc += (acc_batch - running_acc) / (batch_index + 1)\n",
    "    train_state['test_loss'] = running_loss\n",
    "    train_state['test_acc'] = running_acc\n",
    "    return train_state['test_loss'], train_state['test_acc']"
   ]
  },
  {
   "cell_type": "code",
   "execution_count": 225,
   "id": "e1e2b19d",
   "metadata": {},
   "outputs": [],
   "source": [
    "torch.save(classifier, \"FFN1.pt\")"
   ]
  },
  {
   "cell_type": "code",
   "execution_count": 226,
   "id": "3528ec30",
   "metadata": {},
   "outputs": [
    {
     "data": {
      "text/plain": [
       "InjuryClassifier(\n",
       "  (fc1): Linear(in_features=238, out_features=1, bias=True)\n",
       ")"
      ]
     },
     "execution_count": 226,
     "metadata": {},
     "output_type": "execute_result"
    }
   ],
   "source": [
    "model = torch.load('FFN1.pt')\n",
    "model.eval()"
   ]
  },
  {
   "cell_type": "code",
   "execution_count": 229,
   "id": "83ef9785",
   "metadata": {},
   "outputs": [
    {
     "name": "stdout",
     "output_type": "stream",
     "text": [
      "Test loss: 0.678\n",
      "Test Accuracy: 71.61\n"
     ]
    }
   ],
   "source": [
    "loss_ffn2, acc_ffn2 = test_ffn(\"FFN1.pt\", args)\n",
    "\n",
    "print(\"Test loss: {:.3f}\".format(loss_ffn2))\n",
    "print(\"Test Accuracy: {:.2f}\".format(acc_ffn2))"
   ]
  },
  {
   "cell_type": "code",
   "execution_count": 136,
   "id": "4266bf81",
   "metadata": {},
   "outputs": [],
   "source": [
    "torch.save(classifier, \"FFN.pt\")"
   ]
  },
  {
   "cell_type": "code",
   "execution_count": 137,
   "id": "44a3ac9b",
   "metadata": {},
   "outputs": [
    {
     "data": {
      "text/plain": [
       "InjuryClassifier(\n",
       "  (fc1): Linear(in_features=238, out_features=1, bias=True)\n",
       ")"
      ]
     },
     "execution_count": 137,
     "metadata": {},
     "output_type": "execute_result"
    }
   ],
   "source": [
    "model = torch.load('FFN.pt')\n",
    "model.eval()"
   ]
  },
  {
   "cell_type": "code",
   "execution_count": 224,
   "id": "eaa4b179",
   "metadata": {},
   "outputs": [
    {
     "name": "stdout",
     "output_type": "stream",
     "text": [
      "Test loss: 0.682\n",
      "Test Accuracy: 71.88\n"
     ]
    }
   ],
   "source": [
    "loss_ffn1, acc_ffn1 = test_ffn(\"FFN.pt\", args)\n",
    "print(\"Test loss: {:.3f}\".format(loss_ffn1))\n",
    "print(\"Test Accuracy: {:.2f}\".format(acc_ffn1))"
   ]
  },
  {
   "cell_type": "markdown",
   "id": "ba94c56c",
   "metadata": {},
   "source": [
    "### A CNN Conv1d based model"
   ]
  },
  {
   "cell_type": "markdown",
   "id": "c97b1551",
   "metadata": {},
   "source": [
    "The CNN model use 100 dimention Glove pre-trained word embedding to convert NARRATIVE to 100 dimention vectors. We load the pre-trained word embedding file and produce the word embedding matrix of NARRATIVE by calling 'make_embedding_matrix' function shown below. The produced word embedding are implmented in training CNN by calling the class 'NewsClassifier' shown in the attached 'Models.py' file."
   ]
  },
  {
   "cell_type": "code",
   "execution_count": 240,
   "id": "70998fbb",
   "metadata": {},
   "outputs": [
    {
     "name": "stdout",
     "output_type": "stream",
     "text": [
      "Expanded filepaths: \n",
      "\t/Users/yuanbo/Desktop/cits4012/vectorizer.json\n",
      "\t/Users/yuanbo/Desktop/cits4012/model.pth\n",
      "Using CUDA: False\n"
     ]
    }
   ],
   "source": [
    "args = Namespace(\n",
    "    # Data and Path hyper parameters\n",
    "    news_csv=\"/Users/yuanbo/Desktop/cits4012/final1.csv\",\n",
    "    vectorizer_file=\"vectorizer.json\",\n",
    "    model_state_file=\"model.pth\",\n",
    "    save_dir=\"/Users/yuanbo/Desktop/cits4012\",\n",
    "    # Model hyper parameters\n",
    "    glove_filepath='glove.6B.100d.txt', \n",
    "    use_glove=False,\n",
    "    embedding_size=100, \n",
    "    hidden_dim=100, \n",
    "    num_channels=100, \n",
    "    # Training hyper parameter\n",
    "    seed=1337, \n",
    "    learning_rate=0.01, #0.009     #0.01\n",
    "    dropout_p=0.2,     #0.2~0.3      #0.1\n",
    "    batch_size=128, \n",
    "    num_epochs=150,   \n",
    "    early_stopping_criteria=10, \n",
    "    # Runtime option\n",
    "    cuda=True, \n",
    "    catch_keyboard_interrupt=True, \n",
    "    reload_from_files=False,\n",
    "    expand_filepaths_to_save_dir=True\n",
    ") \n",
    "\n",
    "if args.expand_filepaths_to_save_dir:\n",
    "    args.vectorizer_file = os.path.join(args.save_dir,\n",
    "                                        args.vectorizer_file)\n",
    "\n",
    "    args.model_state_file = os.path.join(args.save_dir,\n",
    "                                         args.model_state_file)\n",
    "    \n",
    "    print(\"Expanded filepaths: \")\n",
    "    print(\"\\t{}\".format(args.vectorizer_file))\n",
    "    print(\"\\t{}\".format(args.model_state_file))\n",
    "    \n",
    "# Check CUDA\n",
    "if not torch.cuda.is_available():\n",
    "    args.cuda = False\n",
    "    \n",
    "args.device = torch.device(\"cuda\" if args.cuda else \"cpu\")\n",
    "print(\"Using CUDA: {}\".format(args.cuda))\n",
    "\n",
    "# Set seed for reproducibility\n",
    "set_seed_everywhere(args.seed, args.cuda)\n",
    "\n",
    "# handle dirs\n",
    "handle_dirs(args.save_dir)"
   ]
  },
  {
   "cell_type": "code",
   "execution_count": 241,
   "id": "9a634e6a",
   "metadata": {},
   "outputs": [],
   "source": [
    "# initialization\n",
    "args.use_glove = True"
   ]
  },
  {
   "cell_type": "code",
   "execution_count": 242,
   "id": "abce600b",
   "metadata": {},
   "outputs": [
    {
     "name": "stdout",
     "output_type": "stream",
     "text": [
      "Using pre-trained embeddings\n"
     ]
    }
   ],
   "source": [
    "if args.reload_from_files:\n",
    "    # training from a checkpoint\n",
    "    dataset = NewsDataset.load_dataset_and_load_vectorizer(args.news_csv,\n",
    "                                                           args.vectorizer_file)\n",
    "else:\n",
    "    # create dataset and vectorizer\n",
    "    dataset = NewsDataset.load_dataset_and_make_vectorizer(args.news_csv)\n",
    "    dataset.save_vectorizer(args.vectorizer_file)\n",
    "vectorizer = dataset.get_vectorizer()\n",
    "\n",
    "# Use GloVe or randomly initialized embeddings\n",
    "if args.use_glove:\n",
    "    words = vectorizer.title_vocab._token_to_idx.keys()\n",
    "    embeddings = make_embedding_matrix(glove_filepath=args.glove_filepath, \n",
    "                                       words=words)\n",
    "    print(\"Using pre-trained embeddings\")\n",
    "else:\n",
    "    print(\"Not using pre-trained embeddings\")\n",
    "    embeddings = None\n",
    "\n",
    "classifier = NewsClassifier(embedding_size=args.embedding_size, \n",
    "                            num_embeddings=len(vectorizer.title_vocab),\n",
    "                            num_channels=args.num_channels,\n",
    "                            hidden_dim=args.hidden_dim, \n",
    "                            num_classes=len(vectorizer.category_vocab), \n",
    "                            dropout_p=args.dropout_p,\n",
    "                            pretrained_embeddings=embeddings,\n",
    "                            padding_idx=0)"
   ]
  },
  {
   "cell_type": "code",
   "execution_count": 168,
   "id": "425d5eef",
   "metadata": {},
   "outputs": [],
   "source": [
    "def make_train_state(args):\n",
    "    return {'stop_early': False,\n",
    "            'early_stopping_step': 0,\n",
    "            'early_stopping_best_val': 1e8,\n",
    "            'learning_rate': args.learning_rate,\n",
    "            'epoch_index': 0,\n",
    "            'train_loss': [],\n",
    "            'train_acc': [],\n",
    "            'val_loss': [],\n",
    "            'val_acc': [],\n",
    "            'test_loss': -1,\n",
    "            'test_acc': -1,\n",
    "            'model_filename': args.model_state_file}\n",
    "\n",
    "def update_train_state(args, model, train_state):\n",
    "\n",
    "    # Save one model at least\n",
    "    if train_state['epoch_index'] == 0:\n",
    "        torch.save(model.state_dict(), train_state['model_filename'])\n",
    "        train_state['stop_early'] = False\n",
    "\n",
    "    # Save model if performance improved\n",
    "    elif train_state['epoch_index'] >= 1:\n",
    "        loss_tm1, loss_t = train_state['val_loss'][-2:]\n",
    "\n",
    "        # If loss worsened\n",
    "        if loss_t >= train_state['early_stopping_best_val']:\n",
    "            # Update step\n",
    "            train_state['early_stopping_step'] += 1\n",
    "        # Loss decreased\n",
    "        else:\n",
    "            # Save the best model\n",
    "            if loss_t < train_state['early_stopping_best_val']:\n",
    "                torch.save(model.state_dict(), train_state['model_filename'])\n",
    "\n",
    "            # Reset early stopping step\n",
    "            train_state['early_stopping_step'] = 0\n",
    "\n",
    "        # Stop early ?\n",
    "        train_state['stop_early'] = \\\n",
    "            train_state['early_stopping_step'] >= args.early_stopping_criteria\n",
    "\n",
    "    return train_state\n",
    "\n",
    "def compute_accuracy(y_pred, y_target):\n",
    "    _, y_pred_indices = y_pred.max(dim=1)\n",
    "    n_correct = torch.eq(y_pred_indices, y_target).sum().item()\n",
    "    return n_correct / len(y_pred_indices) * 100"
   ]
  },
  {
   "cell_type": "code",
   "execution_count": 169,
   "id": "2812dcbc",
   "metadata": {},
   "outputs": [],
   "source": [
    "def set_seed_everywhere(seed, cuda):\n",
    "    np.random.seed(seed)\n",
    "    torch.manual_seed(seed)\n",
    "    if cuda:\n",
    "        torch.cuda.manual_seed_all(seed)\n",
    "\n",
    "def handle_dirs(dirpath):\n",
    "    if not os.path.exists(dirpath):\n",
    "        os.makedirs(dirpath)\n",
    "        \n",
    "def load_glove_from_file(glove_filepath):\n",
    "\n",
    "    word_to_index = {}\n",
    "    embeddings = []\n",
    "    with open(glove_filepath, encoding=\"utf8\") as fp:\n",
    "        for index, line in enumerate(fp):\n",
    "            line = line.split(\" \") # each line: word num1 num2 ...\n",
    "            word_to_index[line[0]] = index # word = line[0] \n",
    "            embedding_i = np.array([float(val) for val in line[1:]])\n",
    "            embeddings.append(embedding_i)\n",
    "    return word_to_index, np.stack(embeddings)\n",
    "\n",
    "def make_embedding_matrix(glove_filepath, words):\n",
    "    word_to_idx, glove_embeddings = load_glove_from_file(glove_filepath)\n",
    "    embedding_size = glove_embeddings.shape[1]\n",
    "    \n",
    "    final_embeddings = np.zeros((len(words), embedding_size))\n",
    "\n",
    "    for i, word in enumerate(words):\n",
    "        if word in word_to_idx:\n",
    "            final_embeddings[i, :] = glove_embeddings[word_to_idx[word]]\n",
    "        else:\n",
    "            embedding_i = torch.ones(1, embedding_size)\n",
    "            torch.nn.init.xavier_uniform_(embedding_i)\n",
    "            final_embeddings[i, :] = embedding_i\n",
    "\n",
    "    return final_embeddings"
   ]
  },
  {
   "cell_type": "code",
   "execution_count": 170,
   "id": "67a74b91",
   "metadata": {},
   "outputs": [
    {
     "data": {
      "application/vnd.jupyter.widget-view+json": {
       "model_id": "fb698e1f65544ce19c6f19d9e079fb35",
       "version_major": 2,
       "version_minor": 0
      },
      "text/plain": [
       "training routine:   0%|          | 0/150 [00:00<?, ?it/s]"
      ]
     },
     "metadata": {},
     "output_type": "display_data"
    },
    {
     "data": {
      "application/vnd.jupyter.widget-view+json": {
       "model_id": "0caf34f9b779486ea4f39aced0669966",
       "version_major": 2,
       "version_minor": 0
      },
      "text/plain": [
       "split=train:   0%|          | 0/8 [00:00<?, ?it/s]"
      ]
     },
     "metadata": {},
     "output_type": "display_data"
    },
    {
     "data": {
      "application/vnd.jupyter.widget-view+json": {
       "model_id": "eebc7fb40bdc4029b715d5bce2eb5b07",
       "version_major": 2,
       "version_minor": 0
      },
      "text/plain": [
       "split=val:   0%|          | 0/3 [00:00<?, ?it/s]"
      ]
     },
     "metadata": {},
     "output_type": "display_data"
    }
   ],
   "source": [
    "# Training loop\n",
    "classifier = classifier.to(args.device)\n",
    "dataset.class_weights = dataset.class_weights.to(args.device)\n",
    "    \n",
    "loss_func = nn.CrossEntropyLoss(dataset.class_weights)\n",
    "optimizer = optim.Adam(classifier.parameters(), lr=args.learning_rate)\n",
    "scheduler = optim.lr_scheduler.ReduceLROnPlateau(optimizer=optimizer,\n",
    "                                           mode='min', factor=0.5,\n",
    "                                           patience=1)\n",
    "\n",
    "train_state = make_train_state(args)\n",
    "\n",
    "epoch_bar = tqdm(desc='training routine', \n",
    "                          total=args.num_epochs,\n",
    "                          position=0)\n",
    "\n",
    "dataset.set_split('train')\n",
    "train_bar = tqdm(desc='split=train',\n",
    "                          total=dataset.get_num_batches(args.batch_size), \n",
    "                          position=1, \n",
    "                          leave=True)\n",
    "dataset.set_split('val')\n",
    "val_bar = tqdm(desc='split=val',\n",
    "                        total=dataset.get_num_batches(args.batch_size), \n",
    "                        position=1, \n",
    "                        leave=True)\n",
    "\n",
    "try:\n",
    "    for epoch_index in range(args.num_epochs):\n",
    "        train_state['epoch_index'] = epoch_index\n",
    "\n",
    "        # Iterate over training dataset\n",
    "\n",
    "        # setup: batch generator, set loss and acc to 0, set train mode on\n",
    "\n",
    "        dataset.set_split('train')\n",
    "        batch_generator = generate_batches(dataset, \n",
    "                                           batch_size=args.batch_size, \n",
    "                                           device=args.device)\n",
    "        running_loss = 0.0\n",
    "        running_acc = 0.0\n",
    "        classifier.train()\n",
    "\n",
    "        for batch_index, batch_dict in enumerate(batch_generator):\n",
    "            # the training routine is these 5 steps:\n",
    "\n",
    "            # --------------------------------------\n",
    "            # step 1. zero the gradients\n",
    "            optimizer.zero_grad()\n",
    "\n",
    "            # step 2. compute the output\n",
    "            y_pred = classifier(batch_dict['x_data'])\n",
    "\n",
    "            # step 3. compute the loss\n",
    "            loss = loss_func(y_pred, batch_dict['y_target'])\n",
    "            loss_t = loss.item()\n",
    "            running_loss += (loss_t - running_loss) / (batch_index + 1)\n",
    "\n",
    "            # step 4. use loss to produce gradients\n",
    "            loss.backward()\n",
    "\n",
    "            # step 5. use optimizer to take gradient step\n",
    "            optimizer.step()\n",
    "            # -----------------------------------------\n",
    "            # compute the accuracy\n",
    "            acc_t = compute_accuracy(y_pred, batch_dict['y_target'])\n",
    "            running_acc += (acc_t - running_acc) / (batch_index + 1)\n",
    "\n",
    "            # update bar\n",
    "            train_bar.set_postfix(loss=running_loss, acc=running_acc, \n",
    "                                  epoch=epoch_index)\n",
    "            train_bar.update()\n",
    "\n",
    "        train_state['train_loss'].append(running_loss)\n",
    "        train_state['train_acc'].append(running_acc)\n",
    "\n",
    "        # Iterate over val dataset\n",
    "\n",
    "        # setup: batch generator, set loss and acc to 0; set eval mode on\n",
    "        dataset.set_split('val')\n",
    "        batch_generator = generate_batches(dataset, \n",
    "                                           batch_size=args.batch_size, \n",
    "                                           device=args.device)\n",
    "        running_loss = 0.\n",
    "        running_acc = 0.\n",
    "        classifier.eval()\n",
    "\n",
    "        for batch_index, batch_dict in enumerate(batch_generator):\n",
    "\n",
    "            # compute the output\n",
    "            y_pred =  classifier(batch_dict['x_data'])\n",
    "\n",
    "            # step 3. compute the loss\n",
    "            loss = loss_func(y_pred, batch_dict['y_target'])\n",
    "            loss_t = loss.item()\n",
    "            running_loss += (loss_t - running_loss) / (batch_index + 1)\n",
    "\n",
    "            # compute the accuracy\n",
    "            acc_t = compute_accuracy(y_pred, batch_dict['y_target'])\n",
    "            running_acc += (acc_t - running_acc) / (batch_index + 1)\n",
    "            val_bar.set_postfix(loss=running_loss, acc=running_acc, \n",
    "                            epoch=epoch_index)\n",
    "            val_bar.update()\n",
    "\n",
    "        train_state['val_loss'].append(running_loss)\n",
    "        train_state['val_acc'].append(running_acc)\n",
    "\n",
    "        train_state = update_train_state(args=args, model=classifier,\n",
    "                                         train_state=train_state)\n",
    "\n",
    "        scheduler.step(train_state['val_loss'][-1])\n",
    "\n",
    "        if train_state['stop_early']:\n",
    "            break\n",
    "\n",
    "        train_bar.n = 0\n",
    "        val_bar.n = 0\n",
    "        epoch_bar.update()\n",
    "except KeyboardInterrupt:\n",
    "    print(\"Exiting loop\")"
   ]
  },
  {
   "cell_type": "code",
   "execution_count": 243,
   "id": "3d00ab30",
   "metadata": {},
   "outputs": [],
   "source": [
    "def test(modelname, args):  \n",
    "    \n",
    "    # compute the loss & accuracy on the test set using the best available model\n",
    "\n",
    "    #classifier.load_state_dict(torch.load(train_state['model_filename']))\n",
    "    classifier = torch.load(modelname)\n",
    "    classifier = classifier.to(args.device)\n",
    "    dataset.class_weights = dataset.class_weights.to(args.device)\n",
    "    loss_func = nn.CrossEntropyLoss(dataset.class_weights)\n",
    "\n",
    "    dataset.set_split('test')\n",
    "    batch_generator = generate_batches(dataset, \n",
    "                                       batch_size=args.batch_size, \n",
    "                                       device=args.device)\n",
    "    running_loss = 0.\n",
    "    running_acc = 0.\n",
    "    classifier.eval()\n",
    "\n",
    "    for batch_index, batch_dict in enumerate(batch_generator):\n",
    "        # compute the output\n",
    "        y_pred =  classifier(batch_dict['x_data'])\n",
    "\n",
    "        # compute the loss\n",
    "        loss = loss_func(y_pred, batch_dict['y_target'])\n",
    "        loss_t = loss.item()\n",
    "        running_loss += (loss_t - running_loss) / (batch_index + 1)\n",
    "\n",
    "        # compute the accuracy\n",
    "        acc_t = compute_accuracy(y_pred, batch_dict['y_target'])\n",
    "        running_acc += (acc_t - running_acc) / (batch_index + 1)\n",
    "\n",
    "    train_state['test_loss'] = running_loss\n",
    "    train_state['test_acc'] = running_acc\n",
    "    return train_state['test_loss'],  train_state['test_acc']"
   ]
  },
  {
   "cell_type": "code",
   "execution_count": 146,
   "id": "6bd729f8",
   "metadata": {},
   "outputs": [],
   "source": [
    "def save(name, model):\n",
    "    torch.save(model, name)"
   ]
  },
  {
   "cell_type": "code",
   "execution_count": 162,
   "id": "cce14ae4",
   "metadata": {},
   "outputs": [],
   "source": [
    "loss, acc = test(\"CNN.pt\")"
   ]
  },
  {
   "cell_type": "code",
   "execution_count": 163,
   "id": "e2320c71",
   "metadata": {},
   "outputs": [
    {
     "name": "stdout",
     "output_type": "stream",
     "text": [
      "Test loss: 0.5631030996640524;\n",
      "Test Accuracy: 73.69791666666667\n"
     ]
    }
   ],
   "source": [
    "print(\"Test loss: {};\".format(loss))\n",
    "print(\"Test Accuracy: {}\".format(acc))"
   ]
  },
  {
   "cell_type": "code",
   "execution_count": 158,
   "id": "2e95cf8a",
   "metadata": {},
   "outputs": [
    {
     "data": {
      "text/plain": [
       "NewsClassifier(\n",
       "  (emb): Embedding(135, 100, padding_idx=0)\n",
       "  (convnet): Sequential(\n",
       "    (0): Conv1d(100, 100, kernel_size=(3,), stride=(1,))\n",
       "    (1): ELU(alpha=1.0)\n",
       "    (2): Conv1d(100, 100, kernel_size=(3,), stride=(2,))\n",
       "    (3): ELU(alpha=1.0)\n",
       "    (4): Conv1d(100, 100, kernel_size=(3,), stride=(2,))\n",
       "    (5): ELU(alpha=1.0)\n",
       "    (6): Conv1d(100, 100, kernel_size=(3,), stride=(1,))\n",
       "    (7): ELU(alpha=1.0)\n",
       "  )\n",
       "  (fc1): Linear(in_features=100, out_features=100, bias=True)\n",
       "  (fc2): Linear(in_features=100, out_features=2, bias=True)\n",
       ")"
      ]
     },
     "execution_count": 158,
     "metadata": {},
     "output_type": "execute_result"
    }
   ],
   "source": [
    "model = torch.load('CNN.pt')\n",
    "model.eval()"
   ]
  },
  {
   "cell_type": "code",
   "execution_count": 164,
   "id": "4b4a51fa",
   "metadata": {},
   "outputs": [
    {
     "name": "stdout",
     "output_type": "stream",
     "text": [
      "Test loss: 0.5549281636873881;\n",
      "Test Accuracy: 73.4375\n"
     ]
    }
   ],
   "source": [
    "loss, acc = test(\"CNN.pt\")\n",
    "\n",
    "print(\"Test loss: {};\".format(loss))\n",
    "print(\"Test Accuracy: {}\".format(acc))"
   ]
  },
  {
   "cell_type": "code",
   "execution_count": 191,
   "id": "87235660",
   "metadata": {},
   "outputs": [
    {
     "data": {
      "text/plain": [
       "NewsClassifier(\n",
       "  (emb): Embedding(135, 100, padding_idx=0)\n",
       "  (convnet): Sequential(\n",
       "    (0): Conv1d(100, 100, kernel_size=(3,), stride=(1,))\n",
       "    (1): ELU(alpha=1.0)\n",
       "    (2): Conv1d(100, 100, kernel_size=(3,), stride=(2,))\n",
       "    (3): ELU(alpha=1.0)\n",
       "    (4): Conv1d(100, 100, kernel_size=(3,), stride=(2,))\n",
       "    (5): ELU(alpha=1.0)\n",
       "    (6): Conv1d(100, 100, kernel_size=(3,), stride=(1,))\n",
       "    (7): ELU(alpha=1.0)\n",
       "  )\n",
       "  (fc1): Linear(in_features=100, out_features=100, bias=True)\n",
       "  (fc2): Linear(in_features=100, out_features=2, bias=True)\n",
       ")"
      ]
     },
     "execution_count": 191,
     "metadata": {},
     "output_type": "execute_result"
    }
   ],
   "source": [
    "model = torch.load('CNN1.pt')\n",
    "model.eval()"
   ]
  },
  {
   "cell_type": "code",
   "execution_count": 199,
   "id": "2ae20d4e",
   "metadata": {},
   "outputs": [
    {
     "name": "stdout",
     "output_type": "stream",
     "text": [
      "Test loss: 0.5390400489171346;\n",
      "Test Accuracy: 74.73958333333333\n"
     ]
    }
   ],
   "source": [
    "loss1, acc1 = test(\"CNN1.pt\", args)\n",
    "\n",
    "print(\"Test loss: {};\".format(loss1))\n",
    "print(\"Test Accuracy: {}\".format(acc1))"
   ]
  },
  {
   "cell_type": "markdown",
   "id": "eace74ac",
   "metadata": {},
   "source": [
    "#### We have made 3 models for this task so far\n",
    "1. A feed-forward neural network model with one hot word embedding, learing rate (0.003)\n",
    "2. A CNN model with glove 100d pre-trained word embedding, learing rate (0.001),  dropout (0.1)\n",
    "3. A CNN model with glove 100d pre-trained word embedding, learing rate (0.001), dropout (0.2)"
   ]
  },
  {
   "cell_type": "markdown",
   "id": "2ef2bc46",
   "metadata": {},
   "source": [
    "##### 1. Load FFN model"
   ]
  },
  {
   "cell_type": "code",
   "execution_count": 230,
   "id": "297efcdf",
   "metadata": {},
   "outputs": [
    {
     "data": {
      "text/plain": [
       "InjuryClassifier(\n",
       "  (fc1): Linear(in_features=238, out_features=1, bias=True)\n",
       ")"
      ]
     },
     "execution_count": 230,
     "metadata": {},
     "output_type": "execute_result"
    }
   ],
   "source": [
    "model = torch.load('FFN.pt')\n",
    "model.eval()"
   ]
  },
  {
   "cell_type": "code",
   "execution_count": 231,
   "id": "d15c56ba",
   "metadata": {},
   "outputs": [
    {
     "name": "stdout",
     "output_type": "stream",
     "text": [
      "Test loss: 0.681\n",
      "Test Accuracy: 72.14\n"
     ]
    }
   ],
   "source": [
    "loss_ffn1, acc_ffn1 = test_ffn(\"FFN.pt\", args)\n",
    "print(\"Test loss: {:.3f}\".format(loss_ffn1))\n",
    "print(\"Test Accuracy: {:.2f}\".format(acc_ffn1))"
   ]
  },
  {
   "cell_type": "markdown",
   "id": "2eb056db",
   "metadata": {},
   "source": [
    "##### 2. Load CNN model with learning rate 0.001 and dropout 0.1 "
   ]
  },
  {
   "cell_type": "code",
   "execution_count": 246,
   "id": "e628d9b9",
   "metadata": {},
   "outputs": [
    {
     "data": {
      "text/plain": [
       "NewsClassifier(\n",
       "  (emb): Embedding(135, 100, padding_idx=0)\n",
       "  (convnet): Sequential(\n",
       "    (0): Conv1d(100, 100, kernel_size=(3,), stride=(1,))\n",
       "    (1): ELU(alpha=1.0)\n",
       "    (2): Conv1d(100, 100, kernel_size=(3,), stride=(2,))\n",
       "    (3): ELU(alpha=1.0)\n",
       "    (4): Conv1d(100, 100, kernel_size=(3,), stride=(2,))\n",
       "    (5): ELU(alpha=1.0)\n",
       "    (6): Conv1d(100, 100, kernel_size=(3,), stride=(1,))\n",
       "    (7): ELU(alpha=1.0)\n",
       "  )\n",
       "  (fc1): Linear(in_features=100, out_features=100, bias=True)\n",
       "  (fc2): Linear(in_features=100, out_features=2, bias=True)\n",
       ")"
      ]
     },
     "execution_count": 246,
     "metadata": {},
     "output_type": "execute_result"
    }
   ],
   "source": [
    "model = torch.load('CNN.pt')\n",
    "model.eval()"
   ]
  },
  {
   "cell_type": "code",
   "execution_count": 247,
   "id": "33880b38",
   "metadata": {},
   "outputs": [
    {
     "name": "stdout",
     "output_type": "stream",
     "text": [
      "Test loss: 0.552660197019577;\n",
      "Test Accuracy: 73.4375\n"
     ]
    }
   ],
   "source": [
    "loss1, acc1 = test(\"CNN.pt\", args)\n",
    "\n",
    "print(\"Test loss: {};\".format(loss1))\n",
    "print(\"Test Accuracy: {}\".format(acc))"
   ]
  },
  {
   "cell_type": "markdown",
   "id": "8b5bcc93",
   "metadata": {},
   "source": [
    "##### 3. Load CNN model with learning rate 0.001 and dropout 0.2"
   ]
  },
  {
   "cell_type": "code",
   "execution_count": 244,
   "id": "f0e18467",
   "metadata": {},
   "outputs": [
    {
     "data": {
      "text/plain": [
       "NewsClassifier(\n",
       "  (emb): Embedding(135, 100, padding_idx=0)\n",
       "  (convnet): Sequential(\n",
       "    (0): Conv1d(100, 100, kernel_size=(3,), stride=(1,))\n",
       "    (1): ELU(alpha=1.0)\n",
       "    (2): Conv1d(100, 100, kernel_size=(3,), stride=(2,))\n",
       "    (3): ELU(alpha=1.0)\n",
       "    (4): Conv1d(100, 100, kernel_size=(3,), stride=(2,))\n",
       "    (5): ELU(alpha=1.0)\n",
       "    (6): Conv1d(100, 100, kernel_size=(3,), stride=(1,))\n",
       "    (7): ELU(alpha=1.0)\n",
       "  )\n",
       "  (fc1): Linear(in_features=100, out_features=100, bias=True)\n",
       "  (fc2): Linear(in_features=100, out_features=2, bias=True)\n",
       ")"
      ]
     },
     "execution_count": 244,
     "metadata": {},
     "output_type": "execute_result"
    }
   ],
   "source": [
    "model = torch.load('CNN1.pt')\n",
    "model.eval()"
   ]
  },
  {
   "cell_type": "code",
   "execution_count": 245,
   "id": "33293498",
   "metadata": {},
   "outputs": [
    {
     "name": "stdout",
     "output_type": "stream",
     "text": [
      "Test loss: 0.5551626483599345;\n",
      "Test Accuracy: 74.47916666666667\n"
     ]
    }
   ],
   "source": [
    "loss_cnn1, acc_cnn1 = test(\"CNN1.pt\", args)\n",
    "\n",
    "print(\"Test loss: {};\".format(loss_cnn1))\n",
    "print(\"Test Accuracy: {}\".format(acc_cnn1))"
   ]
  },
  {
   "cell_type": "markdown",
   "id": "848432e8-7c04-403a-9f85-621e50691405",
   "metadata": {},
   "source": [
    "<b>Performance Analysis</b>\n",
    "\n",
    "The highest test accuracy in FFN model is 72.1, which is slightly lower than both CNN models with accuracy 73.4 and 74.5 respectively. That means CNN may more powrful than FFN in binary classification nlp task. Moreover, we use the pre-trained word embedding in CNN classifier, which may help the classifier to catch up more text feature. As a whole, these 3 models provides pretty close accuracy on test dataset. One of important reason that CNN did not critically increase the perfomance is probably because we have trained the model on small dataset. CNN usually need to be trained on larger dataset to obtain better performance. Also, CNN with glove is a more complex model compared to FFN, which means there are more hypyer-parameters to adujust before the training. In addition, a slight increase of dropout ratio in CNN may increase the model performance. The drop ratio used in the training process to reduce time consuming and avoid overfitting. "
   ]
  },
  {
   "cell_type": "markdown",
   "id": "a848a2ee-375c-4cd7-bea7-e6a412aa4566",
   "metadata": {},
   "source": [
    "## Task 2: Multi-class Document Classification"
   ]
  },
  {
   "cell_type": "markdown",
   "id": "4df58b30-36a8-4c59-8cfa-4b362af45a90",
   "metadata": {},
   "source": [
    "#### RNN\n",
    "\n",
    "In this task, we use the simple RNN to train the classifier. The class <b>MultiVectorizer</b> is used to encode the narrative data into vectors, <b>Injury2Dataset</b> is the dataloader. <b>Injury2Classifier</b> is the model we use for training the document classifier. These classes are packed into the Models.py."
   ]
  },
  {
   "cell_type": "code",
   "execution_count": 1,
   "id": "feeb572f-89a6-4c2c-b314-6d5274247d8a",
   "metadata": {},
   "outputs": [],
   "source": [
    "from Models import *\n",
    "from helpers import *"
   ]
  },
  {
   "cell_type": "code",
   "execution_count": 2,
   "id": "0dce95a2-8664-4bb9-9f6c-cf6e43c27cf3",
   "metadata": {},
   "outputs": [
    {
     "name": "stdout",
     "output_type": "stream",
     "text": [
      "Using CUDA: True\n"
     ]
    }
   ],
   "source": [
    "args = Namespace(\n",
    "    # Data and path information\n",
    "    body_csv= \"C:/Users/George/CITS4012/final2.csv\",\n",
    "    vectorizer_file=\"vectorizer.json\",\n",
    "    model_state_file=\"model.pth\",\n",
    "    save_dir=\"C:/Users/George/CITS4012\",\n",
    "    # Model hyper parameter\n",
    "    char_embedding_size=100,\n",
    "    rnn_hidden_size=128,\n",
    "    # Training hyper parameter\n",
    "    num_epochs=100,\n",
    "    learning_rate=1e-3,\n",
    "    batch_size=256,\n",
    "    seed=1337,\n",
    "    early_stopping_criteria=5,\n",
    "    # Runtime hyper parameter\n",
    "    cuda=True,\n",
    "    catch_keyboard_interrupt=True,\n",
    "    reload_from_files=False,\n",
    "    expand_filepaths_to_save_dir=True,\n",
    ")\n",
    "\n",
    "# Check CUDA\n",
    "if not torch.cuda.is_available():\n",
    "    args.cuda = False\n",
    "\n",
    "args.device = torch.device(\"cuda\" if args.cuda else \"cpu\")\n",
    "    \n",
    "print(\"Using CUDA: {}\".format(args.cuda))\n",
    "\n",
    "\n",
    "if args.expand_filepaths_to_save_dir:\n",
    "    args.vectorizer_file = os.path.join(args.save_dir,\n",
    "                                        args.vectorizer_file)\n",
    "\n",
    "    args.model_state_file = os.path.join(args.save_dir,\n",
    "                                         args.model_state_file)\n",
    "    \n",
    "# Set seed for reproducibility\n",
    "set_seed_everywhere(args.seed, args.cuda)\n",
    "\n",
    "# handle dirs\n",
    "handle_dirs(args.save_dir)"
   ]
  },
  {
   "cell_type": "code",
   "execution_count": 8,
   "id": "b8ac3b39-7bad-4357-a7d8-1a0759ab612f",
   "metadata": {},
   "outputs": [],
   "source": [
    "if args.reload_from_files and os.path.exists(args.vectorizer_file):\n",
    "    # training from a checkpoint\n",
    "    dataset = Injury2Dataset.load_dataset_and_load_vectorizer(args.body_csv, \n",
    "                                                              args.vectorizer_file)\n",
    "else:\n",
    "    # create dataset and vectorizer\n",
    "    dataset = Injury2Dataset.load_dataset_and_make_vectorizer(args.body_csv)\n",
    "    dataset.save_vectorizer(args.vectorizer_file)\n",
    "\n",
    "vectorizer = dataset.get_vectorizer()\n",
    "\n",
    "classifier = Injury2Classifier(embedding_size=args.char_embedding_size, \n",
    "                               num_embeddings=len(vectorizer.NARRATIVE),\n",
    "                               num_classes=len(vectorizer.body_injury),\n",
    "                               rnn_hidden_size=args.rnn_hidden_size,\n",
    "                               padding_idx=vectorizer.NARRATIVE.mask_index)"
   ]
  },
  {
   "cell_type": "code",
   "execution_count": 9,
   "id": "d5c88b32-b3eb-4da5-b62c-3f17f6a96d72",
   "metadata": {},
   "outputs": [
    {
     "name": "stdout",
     "output_type": "stream",
     "text": [
      "Injury2Classifier(\n",
      "  (emb): Embedding(31, 100, padding_idx=0)\n",
      "  (rnn): ElmanRNN(\n",
      "    (rnn_cell): RNNCell(100, 128)\n",
      "  )\n",
      "  (fc1): Linear(in_features=128, out_features=128, bias=True)\n",
      "  (fc2): Linear(in_features=128, out_features=3, bias=True)\n",
      ")\n"
     ]
    }
   ],
   "source": [
    "print(classifier)"
   ]
  },
  {
   "cell_type": "code",
   "execution_count": 10,
   "id": "7cc0ff25-33c0-41af-b1cb-bcc0feaeb6fb",
   "metadata": {},
   "outputs": [],
   "source": [
    "def column_gather(y_out, x_lengths):\n",
    "    '''Get a specific vector from each batch datapoint in `y_out`.\n",
    "\n",
    "    More precisely, iterate over batch row indices, get the vector that's at\n",
    "    the position indicated by the corresponding value in `x_lengths` at the row\n",
    "    index.\n",
    "\n",
    "    Args:\n",
    "        y_out (torch.FloatTensor, torch.cuda.FloatTensor)\n",
    "            shape: (batch, sequence, feature)\n",
    "        x_lengths (torch.LongTensor, torch.cuda.LongTensor)\n",
    "            shape: (batch,)\n",
    "\n",
    "    Returns:\n",
    "        y_out (torch.FloatTensor, torch.cuda.FloatTensor)\n",
    "            shape: (batch, feature)\n",
    "    '''\n",
    "    x_lengths = x_lengths.long().detach().cpu().numpy() - 1\n",
    "\n",
    "    out = []\n",
    "    for batch_index, column_index in enumerate(x_lengths):\n",
    "        out.append(y_out[batch_index, column_index])\n",
    "\n",
    "    return torch.stack(out)"
   ]
  },
  {
   "cell_type": "code",
   "execution_count": 5,
   "id": "c11ec76f-fae1-45d0-850c-136ca358b84c",
   "metadata": {},
   "outputs": [],
   "source": [
    "def make_train_state(args):\n",
    "    return {'stop_early': False,\n",
    "            'early_stopping_step': 0,\n",
    "            'early_stopping_best_val': 1e8,\n",
    "            'learning_rate': args.learning_rate,\n",
    "            'epoch_index': 0,\n",
    "            'train_loss': [],\n",
    "            'train_acc': [],\n",
    "            'val_loss': [],\n",
    "            'val_acc': [],\n",
    "            'test_loss': -1,\n",
    "            'test_acc': -1,\n",
    "            'model_filename': args.model_state_file}\n",
    "\n",
    "\n",
    "def update_train_state(args, model, train_state):\n",
    "    \"\"\"Handle the training state updates.\n",
    "\n",
    "    Components:\n",
    "     - Early Stopping: Prevent overfitting.\n",
    "     - Model Checkpoint: Model is saved if the model is better\n",
    "    \n",
    "    :param args: main arguments\n",
    "    :param model: model to train\n",
    "    :param train_state: a dictionary representing the training state values\n",
    "    :returns:\n",
    "        a new train_state\n",
    "    \"\"\"\n",
    "\n",
    "    # Save one model at least\n",
    "    if train_state['epoch_index'] == 0:\n",
    "        torch.save(model.state_dict(), train_state['model_filename'])\n",
    "        train_state['stop_early'] = False\n",
    "\n",
    "    # Save model if performance improved\n",
    "    elif train_state['epoch_index'] >= 1:\n",
    "        loss_tm1, loss_t = train_state['val_loss'][-2:]\n",
    "         \n",
    "        # If loss worsened\n",
    "        if loss_t >= loss_tm1:\n",
    "            # Update step\n",
    "            train_state['early_stopping_step'] += 1\n",
    "        # Loss decreased\n",
    "        else:\n",
    "            # Save the best model\n",
    "            if loss_t < train_state['early_stopping_best_val']:\n",
    "                torch.save(model.state_dict(), train_state['model_filename'])\n",
    "                train_state['early_stopping_best_val'] = loss_t\n",
    "\n",
    "            # Reset early stopping step\n",
    "            train_state['early_stopping_step'] = 0\n",
    "\n",
    "        # Stop early ?\n",
    "        train_state['stop_early'] = \\\n",
    "            train_state['early_stopping_step'] >= args.early_stopping_criteria\n",
    "\n",
    "    return train_state\n"
   ]
  },
  {
   "cell_type": "code",
   "execution_count": 13,
   "id": "eacb1ca4-c35b-4082-9278-fbefca0c9b49",
   "metadata": {},
   "outputs": [
    {
     "data": {
      "application/vnd.jupyter.widget-view+json": {
       "model_id": "f6372fa45e54450798102f498ed49e2e",
       "version_major": 2,
       "version_minor": 0
      },
      "text/plain": [
       "training routine:   0%|          | 0/100 [00:00<?, ?it/s]"
      ]
     },
     "metadata": {},
     "output_type": "display_data"
    },
    {
     "data": {
      "application/vnd.jupyter.widget-view+json": {
       "model_id": "b1478a4e48eb4a53a8738086273f9223",
       "version_major": 2,
       "version_minor": 0
      },
      "text/plain": [
       "split=train:   0%|          | 0/3 [00:00<?, ?it/s]"
      ]
     },
     "metadata": {},
     "output_type": "display_data"
    },
    {
     "data": {
      "application/vnd.jupyter.widget-view+json": {
       "model_id": "44fa21b38479414ab7a4cd7eda225a9d",
       "version_major": 2,
       "version_minor": 0
      },
      "text/plain": [
       "split=val:   0%|          | 0/1 [00:00<?, ?it/s]"
      ]
     },
     "metadata": {},
     "output_type": "display_data"
    }
   ],
   "source": [
    "classifier = classifier.to(args.device)\n",
    "dataset.class_weights = dataset.class_weights.to(args.device)\n",
    "    \n",
    "loss_func = nn.CrossEntropyLoss(dataset.class_weights)\n",
    "optimizer = optim.Adam(classifier.parameters(), lr=args.learning_rate)\n",
    "scheduler = optim.lr_scheduler.ReduceLROnPlateau(optimizer=optimizer,\n",
    "                                           mode='min', factor=0.5,\n",
    "                                           patience=1)\n",
    "\n",
    "train_state = make_train_state(args)\n",
    "\n",
    "epoch_bar = tqdm(desc='training routine', \n",
    "                          total=args.num_epochs,\n",
    "                          position=0)\n",
    "\n",
    "dataset.set_split('train')\n",
    "train_bar = tqdm(desc='split=train',\n",
    "                          total=dataset.get_num_batches(args.batch_size), \n",
    "                          position=1, \n",
    "                          leave=True)\n",
    "dataset.set_split('val')\n",
    "val_bar = tqdm(desc='split=val',\n",
    "                        total=dataset.get_num_batches(args.batch_size), \n",
    "                        position=1, \n",
    "                        leave=True)\n",
    "\n",
    "try:\n",
    "    for epoch_index in range(args.num_epochs):\n",
    "        train_state['epoch_index'] = epoch_index\n",
    "\n",
    "        # Iterate over training dataset\n",
    "\n",
    "        # setup: batch generator, set loss and acc to 0, set train mode on\n",
    "        dataset.set_split('train')\n",
    "        batch_generator = generate_batches(dataset, \n",
    "                                           batch_size=args.batch_size, \n",
    "                                           device=args.device)\n",
    "        running_loss = 0.0\n",
    "        running_acc = 0.0\n",
    "        classifier.train()\n",
    "\n",
    "        for batch_index, batch_dict in enumerate(batch_generator):\n",
    "            # the training routine is these 5 steps:\n",
    "\n",
    "            # --------------------------------------    \n",
    "            # step 1. zero the gradients\n",
    "            optimizer.zero_grad()\n",
    "\n",
    "            # step 2. compute the output\n",
    "            y_pred = classifier(x_in=batch_dict['x_data'], \n",
    "                                x_lengths=batch_dict['x_length'])\n",
    "\n",
    "            # step 3. compute the loss\n",
    "            loss = loss_func(y_pred, batch_dict['y_target'])\n",
    "    \n",
    "            running_loss += (loss.item() - running_loss) / (batch_index + 1)\n",
    "\n",
    "            # step 4. use loss to produce gradients\n",
    "            loss.backward()\n",
    "\n",
    "            # step 5. use optimizer to take gradient step\n",
    "            optimizer.step()\n",
    "            # -----------------------------------------\n",
    "            # compute the accuracy\n",
    "            acc_t = compute_accuracy(y_pred, batch_dict['y_target'])\n",
    "            running_acc += (acc_t - running_acc) / (batch_index + 1)\n",
    "\n",
    "            # update bar\n",
    "            train_bar.set_postfix(loss=running_loss, acc=running_acc, epoch=epoch_index)\n",
    "            train_bar.update()\n",
    "\n",
    "        train_state['train_loss'].append(running_loss)\n",
    "        train_state['train_acc'].append(running_acc)\n",
    "\n",
    "        # Iterate over val dataset\n",
    "\n",
    "        # setup: batch generator, set loss and acc to 0; set eval mode on\n",
    "\n",
    "        dataset.set_split('val')\n",
    "        batch_generator = generate_batches(dataset, \n",
    "                                           batch_size=args.batch_size, \n",
    "                                           device=args.device)\n",
    "        running_loss = 0.\n",
    "        running_acc = 0.\n",
    "        classifier.eval()\n",
    "\n",
    "        for batch_index, batch_dict in enumerate(batch_generator):\n",
    "            # compute the output\n",
    "            y_pred = classifier(x_in=batch_dict['x_data'], \n",
    "                                x_lengths=batch_dict['x_length'])\n",
    "\n",
    "            # step 3. compute the loss\n",
    "            loss = loss_func(y_pred, batch_dict['y_target'])\n",
    "            running_loss += (loss.item() - running_loss) / (batch_index + 1)\n",
    "\n",
    "            # compute the accuracy\n",
    "            acc_t = compute_accuracy(y_pred, batch_dict['y_target'])\n",
    "            running_acc += (acc_t - running_acc) / (batch_index + 1)\n",
    "            val_bar.set_postfix(loss=running_loss, acc=running_acc, epoch=epoch_index)\n",
    "            val_bar.update()\n",
    "\n",
    "        train_state['val_loss'].append(running_loss)\n",
    "        train_state['val_acc'].append(running_acc)\n",
    "\n",
    "        train_state = update_train_state(args=args, model=classifier, \n",
    "                                         train_state=train_state)\n",
    "\n",
    "        scheduler.step(train_state['val_loss'][-1])\n",
    "\n",
    "        train_bar.n = 0\n",
    "        val_bar.n = 0\n",
    "        epoch_bar.update()\n",
    "\n",
    "        if train_state['stop_early']:\n",
    "            break\n",
    "            \n",
    "except KeyboardInterrupt:\n",
    "    print(\"Exiting loop\")"
   ]
  },
  {
   "cell_type": "code",
   "execution_count": 20,
   "id": "8b2810b9-53a6-49d6-82d2-8fa02e74f678",
   "metadata": {},
   "outputs": [],
   "source": [
    "torch.save(classifier, \"RNN.pt\")"
   ]
  },
  {
   "cell_type": "code",
   "execution_count": 10,
   "id": "dbe865fa-51ac-45fa-8097-74f35a2e814e",
   "metadata": {},
   "outputs": [],
   "source": [
    "def test(modelname, args):\n",
    "    model = torch.load(modelname)\n",
    "    model = model.to(args.device)\n",
    "    train_state = make_train_state(args)\n",
    "    dataset.class_weights = dataset.class_weights.to(args.device)\n",
    "    loss_func = nn.CrossEntropyLoss(dataset.class_weights)\n",
    "\n",
    "    dataset.set_split('test')\n",
    "    batch_generator = generate_batches(dataset, \n",
    "                                       batch_size=args.batch_size, \n",
    "                                       device=args.device)\n",
    "    running_loss = 0.\n",
    "    running_acc = 0.\n",
    "    model.eval()\n",
    "\n",
    "    for batch_index, batch_dict in enumerate(batch_generator):\n",
    "        # compute the output\n",
    "        y_pred =  model(batch_dict['x_data'],\n",
    "                             x_lengths=batch_dict['x_length'])\n",
    "\n",
    "        # compute the loss\n",
    "        loss = loss_func(y_pred, batch_dict['y_target'])\n",
    "        loss_t = loss.item()\n",
    "        running_loss += (loss_t - running_loss) / (batch_index + 1)\n",
    "\n",
    "        # compute the accuracy\n",
    "        acc_t = compute_accuracy(y_pred, batch_dict['y_target'])\n",
    "        running_acc += (acc_t - running_acc) / (batch_index + 1)\n",
    "\n",
    "    train_state['test_loss'] = running_loss\n",
    "    train_state['test_acc'] = running_acc\n",
    "    \n",
    "    return  train_state['test_loss'], train_state['test_acc']"
   ]
  },
  {
   "cell_type": "code",
   "execution_count": 12,
   "id": "4436f6df-3ce7-4fdd-9227-4f077b483425",
   "metadata": {},
   "outputs": [
    {
     "data": {
      "text/plain": [
       "Injury2Classifier(\n",
       "  (emb): Embedding(31, 100, padding_idx=0)\n",
       "  (rnn): ElmanRNN(\n",
       "    (rnn_cell): RNNCell(100, 128)\n",
       "  )\n",
       "  (fc1): Linear(in_features=128, out_features=128, bias=True)\n",
       "  (fc2): Linear(in_features=128, out_features=3, bias=True)\n",
       ")"
      ]
     },
     "execution_count": 12,
     "metadata": {},
     "output_type": "execute_result"
    }
   ],
   "source": [
    "model_rnn = torch.load(\"RNN.pt\")\n",
    "model_rnn.eval()"
   ]
  },
  {
   "cell_type": "code",
   "execution_count": 13,
   "id": "8ae4bfbc-a124-494c-8e7b-a1d483161924",
   "metadata": {},
   "outputs": [
    {
     "name": "stdout",
     "output_type": "stream",
     "text": [
      "Test loss: 1.10857355594635;\n",
      "Test Accuracy: 34.765625\n"
     ]
    }
   ],
   "source": [
    "loss, acc = test(\"RNN.pt\", args)\n",
    "\n",
    "print(\"Test loss: {};\".format(loss))\n",
    "print(\"Test Accuracy: {}\".format(acc))"
   ]
  },
  {
   "cell_type": "markdown",
   "id": "f7bd93bd-30b7-405e-9e52-fa4b34aeac58",
   "metadata": {},
   "source": [
    "#### GRU\n",
    "\n",
    "In this part, we use the bi-GRU to train the classifier instead of a simple RNN. As well known, rnn is a model with short-term memory. When dealing with the long sequence samples, rnn may forget the previous semantic features and become struggle to learn. Thus, using the bi-GRU model can help to memorise the further semantic feature of the sequence sample. Moreover, we apply the pre-trained word embedding to improve the model accuracy.\n",
    "\n",
    "The class <b>MultiVectorizer</b> is used to encode the narrative data into vectors, <b>Injury2Dataset</b> is the dataloader. <b>InjuryGRUClassifier</b> is the model we use for training the document classifier. These classes are packed into the Models.py. Besides, we make the pre-trained word embedding matrix by a method called \"make_embedding_matrix()\" that is packed in the helper.py."
   ]
  },
  {
   "cell_type": "code",
   "execution_count": 1,
   "id": "767e2ccf-dc52-4897-8396-f3d69dfc06a4",
   "metadata": {},
   "outputs": [],
   "source": [
    "from Models import *\n",
    "from helpers import *"
   ]
  },
  {
   "cell_type": "code",
   "execution_count": 14,
   "id": "80e399a2-6c25-457f-8be4-868f84598f8b",
   "metadata": {},
   "outputs": [
    {
     "name": "stdout",
     "output_type": "stream",
     "text": [
      "Using CUDA: True\n"
     ]
    }
   ],
   "source": [
    "args = Namespace(\n",
    "    # Data and path information\n",
    "    body_csv=\"C:/Users/George/CITS4012/final2.csv\",\n",
    "    vectorizer_file=\"vectorizer_LS_1.json\",\n",
    "    model_state_file=\"model_LS_1.pth\",\n",
    "    save_dir=\"C:/Users/George/CITS4012\",\n",
    "    glove_filepath=\"C:/Users/George/CITS4012/glove/glove.6B.100d.txt\", \n",
    "    use_glove=False,\n",
    "    # Model hyper parameter\n",
    "    char_embedding_size=100,\n",
    "    rnn_hidden_size=128,\n",
    "    bidirection = True,\n",
    "    n_layer = 1,\n",
    "    # Training hyper parameter\n",
    "    num_epochs=80,\n",
    "    learning_rate=0.006,\n",
    "    batch_size=128,\n",
    "    seed=1337,\n",
    "    early_stopping_criteria=10,\n",
    "    # Runtime hyper parameter\n",
    "    cuda=True,\n",
    "    catch_keyboard_interrupt=True,\n",
    "    reload_from_files=False,\n",
    "    expand_filepaths_to_save_dir=True,\n",
    ")\n",
    "\n",
    "# Check CUDA\n",
    "if not torch.cuda.is_available():\n",
    "    args.cuda = False\n",
    "\n",
    "args.device = torch.device(\"cuda\" if args.cuda else \"cpu\")\n",
    "    \n",
    "print(\"Using CUDA: {}\".format(args.cuda))\n",
    "\n",
    "\n",
    "if args.expand_filepaths_to_save_dir:\n",
    "    args.vectorizer_file = os.path.join(args.save_dir,\n",
    "                                        args.vectorizer_file)\n",
    "\n",
    "    args.model_state_file = os.path.join(args.save_dir,\n",
    "                                         args.model_state_file)\n",
    "    \n",
    "# Set seed for reproducibility\n",
    "set_seed_everywhere(args.seed, args.cuda)\n",
    "\n",
    "# handle dirs\n",
    "handle_dirs(args.save_dir)"
   ]
  },
  {
   "cell_type": "code",
   "execution_count": 3,
   "id": "ef212c82-4444-4ea7-b878-70155faef411",
   "metadata": {},
   "outputs": [],
   "source": [
    "#Use the word embedding\n",
    "args.use_glove = True"
   ]
  },
  {
   "cell_type": "code",
   "execution_count": 19,
   "id": "e6a9d1c1-f5a1-4f01-bfcd-3bd76c8c2088",
   "metadata": {},
   "outputs": [],
   "source": [
    "if args.reload_from_files and os.path.exists(args.vectorizer_file):\n",
    "    # training from a checkpoint\n",
    "    dataset = Injury2Dataset.load_dataset_and_load_vectorizer(args.body_csv, \n",
    "                                                              args.vectorizer_file)\n",
    "else:\n",
    "    # create dataset and vectorizer\n",
    "    dataset = Injury2Dataset.load_dataset_and_make_vectorizer(args.body_csv)\n",
    "    dataset.save_vectorizer(args.vectorizer_file)\n",
    "\n",
    "vectorizer = dataset.get_vectorizer()"
   ]
  },
  {
   "cell_type": "markdown",
   "id": "3a27e715-82c5-477b-917a-5668b8e24256",
   "metadata": {},
   "source": [
    "Set the argument \"args.use_glove\" is true means we want to use glove as pre-trained word embedding. Then, we load the glove file and make the embedding matrix by make_embedding_matrix(), this method is packed into the helpers.py."
   ]
  },
  {
   "cell_type": "code",
   "execution_count": 4,
   "id": "84699e4b-c27e-4807-a659-d7bc338c8d43",
   "metadata": {},
   "outputs": [
    {
     "name": "stdout",
     "output_type": "stream",
     "text": [
      "Using pre-trained embeddings\n"
     ]
    }
   ],
   "source": [
    "# Use GloVe or randomly initialized embeddings\n",
    "if args.use_glove:\n",
    "    words = vectorizer.NARRATIVE._token_to_idx.keys()\n",
    "    embeddings = make_embedding_matrix(glove_filepath=args.glove_filepath, \n",
    "                                       words=words)\n",
    "    print(\"Using pre-trained embeddings\")\n",
    "else:\n",
    "    print(\"Not using pre-trained embeddings\")\n",
    "    embeddings = None"
   ]
  },
  {
   "cell_type": "code",
   "execution_count": 5,
   "id": "83694936-e0c9-4d18-952f-a76f6363e98c",
   "metadata": {},
   "outputs": [
    {
     "data": {
      "text/plain": [
       "array([[-0.20555636, -0.00213669,  0.06000623, ...,  0.05345052,\n",
       "        -0.21676874,  0.12614274],\n",
       "       [-0.23994221,  0.22909459, -0.13612111, ..., -0.01033159,\n",
       "        -0.19344293, -0.16833046],\n",
       "       [-0.23632628,  0.1060884 , -0.20055968, ...,  0.18710664,\n",
       "        -0.03777884, -0.15639886],\n",
       "       ...,\n",
       "       [-0.69182   ,  0.47268   ,  0.41292   , ..., -0.29114   ,\n",
       "         0.081476  , -1.4222    ],\n",
       "       [-0.55668   ,  0.67273   ,  0.82171   , ..., -0.7515    ,\n",
       "        -0.045485  , -0.12946   ],\n",
       "       [-0.0049027 ,  0.21282   ,  0.27713   , ..., -0.72202   ,\n",
       "        -0.22217   , -0.71125   ]])"
      ]
     },
     "execution_count": 5,
     "metadata": {},
     "output_type": "execute_result"
    }
   ],
   "source": [
    "embeddings"
   ]
  },
  {
   "cell_type": "markdown",
   "id": "6390bc5b-8880-4ce7-8cac-c1cc053eb53f",
   "metadata": {},
   "source": [
    "    "
   ]
  },
  {
   "cell_type": "markdown",
   "id": "b584e871-5a44-4f15-b302-a7d78435a930",
   "metadata": {},
   "source": [
    "The default RNN model is GRU, but we can change the argument \"rnn_model\" to LSTM if we want to train with LSTM. And we pass the pre-trained word embedding to our GRU classifier. If don't use the pre-trained word embedding, the argument \"embedding_tensor\" should be set to \"None\"."
   ]
  },
  {
   "cell_type": "code",
   "execution_count": 22,
   "id": "3c43c8cb-b7cc-4113-b643-9e154b30f7fc",
   "metadata": {},
   "outputs": [],
   "source": [
    "model = InjuryGRUClassifier(vocab_size=len(vectorizer.NARRATIVE),\n",
    "                               embed_size=args.char_embedding_size,\n",
    "                               num_output=len(vectorizer.body_injury),\n",
    "                               rnn_model='GRU',\n",
    "                               embedding_tensor= embeddings,\n",
    "                               hidden_size=args.rnn_hidden_size,\n",
    "                               num_layers=args.n_layer)"
   ]
  },
  {
   "cell_type": "code",
   "execution_count": 17,
   "id": "bf6616d6-1c89-41a5-83ed-d56d205da29e",
   "metadata": {},
   "outputs": [],
   "source": [
    "def make_train_state(args):\n",
    "    return {'stop_early': False,\n",
    "            'early_stopping_step': 0,\n",
    "            'early_stopping_best_val': 1e8,\n",
    "            'learning_rate': args.learning_rate,\n",
    "            'epoch_index': 0,\n",
    "            'train_loss': [],\n",
    "            'train_acc': [],\n",
    "            'val_loss': [],\n",
    "            'val_acc': [],\n",
    "            'test_loss': -1,\n",
    "            'test_acc': -1,\n",
    "            'model_filename': args.model_state_file}\n",
    "\n",
    "\n",
    "def update_train_state(args, model, train_state):\n",
    "    \"\"\"Handle the training state updates.\n",
    "\n",
    "    Components:\n",
    "     - Early Stopping: Prevent overfitting.\n",
    "     - Model Checkpoint: Model is saved if the model is better\n",
    "    \n",
    "    :param args: main arguments\n",
    "    :param model: model to train\n",
    "    :param train_state: a dictionary representing the training state values\n",
    "    :returns:\n",
    "        a new train_state\n",
    "    \"\"\"\n",
    "\n",
    "    # Save one model at least\n",
    "    if train_state['epoch_index'] == 0:\n",
    "        torch.save(model.state_dict(), train_state['model_filename'])\n",
    "        train_state['stop_early'] = False\n",
    "\n",
    "    # Save model if performance improved\n",
    "    elif train_state['epoch_index'] >= 1:\n",
    "        loss_tm1, loss_t = train_state['val_loss'][-2:]\n",
    "         \n",
    "        # If loss worsened\n",
    "        if loss_t >= loss_tm1:\n",
    "            # Update step\n",
    "            train_state['early_stopping_step'] += 1\n",
    "        # Loss decreased\n",
    "        else:\n",
    "            # Save the best model\n",
    "            if loss_t < train_state['early_stopping_best_val']:\n",
    "                torch.save(model.state_dict(), train_state['model_filename'])\n",
    "                train_state['early_stopping_best_val'] = loss_t\n",
    "\n",
    "            # Reset early stopping step\n",
    "            train_state['early_stopping_step'] = 0\n",
    "\n",
    "        # Stop early ?\n",
    "        train_state['stop_early'] = \\\n",
    "            train_state['early_stopping_step'] >= args.early_stopping_criteria\n",
    "\n",
    "    return train_state"
   ]
  },
  {
   "cell_type": "code",
   "execution_count": 21,
   "id": "8ddbefd4-af98-4e40-a289-7f4e442d13b7",
   "metadata": {},
   "outputs": [],
   "source": [
    "classifier = model.to(args.device)\n",
    "dataset.class_weights = dataset.class_weights.to(args.device)\n",
    "    \n",
    "loss_func = nn.CrossEntropyLoss(dataset.class_weights)\n",
    "optimizer = optim.Adam(classifier.parameters(), lr=args.learning_rate)\n",
    "scheduler = optim.lr_scheduler.ReduceLROnPlateau(optimizer=optimizer,\n",
    "                                           mode='min', factor=0.5,\n",
    "                                           patience=1)\n",
    "\n",
    "train_state = make_train_state(args)\n",
    "\n",
    "epoch_bar = tqdm(desc='training routine', \n",
    "                          total=args.num_epochs,\n",
    "                          position=0)\n",
    "\n",
    "dataset.set_split('train')\n",
    "train_bar = tqdm(desc='split=train',\n",
    "                          total=dataset.get_num_batches(args.batch_size), \n",
    "                          position=1, \n",
    "                          leave=True)\n",
    "dataset.set_split('val')\n",
    "val_bar = tqdm(desc='split=val',\n",
    "                        total=dataset.get_num_batches(args.batch_size), \n",
    "                        position=1, \n",
    "                        leave=True)\n",
    "\n",
    "try:\n",
    "    for epoch_index in range(args.num_epochs):\n",
    "        train_state['epoch_index'] = epoch_index\n",
    "\n",
    "        # Iterate over training dataset\n",
    "\n",
    "        # setup: batch generator, set loss and acc to 0, set train mode on\n",
    "        dataset.set_split('train')\n",
    "        batch_generator = generate_batches(dataset, \n",
    "                                           batch_size=args.batch_size, \n",
    "                                           device=args.device)\n",
    "        running_loss = 0.0\n",
    "        running_acc = 0.0\n",
    "        classifier.train()\n",
    "\n",
    "        for batch_index, batch_dict in enumerate(batch_generator):\n",
    "            # the training routine is these 5 steps:\n",
    "\n",
    "            # --------------------------------------    \n",
    "            # step 1. zero the gradients\n",
    "            optimizer.zero_grad()\n",
    "\n",
    "            # step 2. compute the output\n",
    "            y_pred = classifier(x_in=batch_dict['x_data'], \n",
    "                                x_lengths=batch_dict['x_length'])\n",
    "\n",
    "            # step 3. compute the loss\n",
    "            loss = loss_func(y_pred, batch_dict['y_target'])\n",
    "    \n",
    "            running_loss += (loss.item() - running_loss) / (batch_index + 1)\n",
    "\n",
    "            # step 4. use loss to produce gradients\n",
    "            loss.backward()\n",
    "\n",
    "            # step 5. use optimizer to take gradient step\n",
    "            optimizer.step()\n",
    "            # -----------------------------------------\n",
    "            # compute the accuracy\n",
    "            acc_t = compute_accuracy(y_pred, batch_dict['y_target'])\n",
    "            running_acc += (acc_t - running_acc) / (batch_index + 1)\n",
    "\n",
    "            # update bar\n",
    "            train_bar.set_postfix(loss=running_loss, acc=running_acc, epoch=epoch_index)\n",
    "            train_bar.update()\n",
    "\n",
    "        train_state['train_loss'].append(running_loss)\n",
    "        train_state['train_acc'].append(running_acc)\n",
    "\n",
    "        # Iterate over val dataset\n",
    "\n",
    "        # setup: batch generator, set loss and acc to 0; set eval mode on\n",
    "\n",
    "        dataset.set_split('val')\n",
    "        batch_generator = generate_batches(dataset, \n",
    "                                           batch_size=args.batch_size, \n",
    "                                           device=args.device)\n",
    "        running_loss = 0.\n",
    "        running_acc = 0.\n",
    "        classifier.eval()\n",
    "\n",
    "        for batch_index, batch_dict in enumerate(batch_generator):\n",
    "            # compute the output\n",
    "            y_pred = classifier(x_in=batch_dict['x_data'], \n",
    "                                x_lengths=batch_dict['x_length'])\n",
    "\n",
    "            # step 3. compute the loss\n",
    "            loss = loss_func(y_pred, batch_dict['y_target'])\n",
    "            running_loss += (loss.item() - running_loss) / (batch_index + 1)\n",
    "\n",
    "            # compute the accuracy\n",
    "            acc_t = compute_accuracy(y_pred, batch_dict['y_target'])\n",
    "            running_acc += (acc_t - running_acc) / (batch_index + 1)\n",
    "            val_bar.set_postfix(loss=running_loss, acc=running_acc, epoch=epoch_index)\n",
    "            val_bar.update()\n",
    "\n",
    "        train_state['val_loss'].append(running_loss)\n",
    "        train_state['val_acc'].append(running_acc)\n",
    "\n",
    "        train_state = update_train_state(args=args, model=classifier, \n",
    "                                         train_state=train_state)\n",
    "\n",
    "        scheduler.step(train_state['val_loss'][-1])\n",
    "\n",
    "        train_bar.n = 0\n",
    "        val_bar.n = 0\n",
    "        epoch_bar.update()\n",
    "\n",
    "        if train_state['stop_early']:\n",
    "            break\n",
    "            \n",
    "except KeyboardInterrupt:\n",
    "    print(\"Exiting loop\")"
   ]
  },
  {
   "cell_type": "code",
   "execution_count": 11,
   "id": "9fec77ba-43c4-4cc0-8ef4-caae3c5175f6",
   "metadata": {},
   "outputs": [],
   "source": [
    "#Sava the whole trained model\n",
    "torch.save(model, \"BiGRU_WORD_EMD.pt\")"
   ]
  },
  {
   "cell_type": "markdown",
   "id": "6a06f528-d18d-4767-b067-c98e64533e0c",
   "metadata": {},
   "source": [
    " "
   ]
  },
  {
   "cell_type": "markdown",
   "id": "5d816ef5-26ec-4c2b-bb5e-d80633f31e8b",
   "metadata": {},
   "source": [
    "We make the test routine as a function so that we can compare the model accuracy at the end."
   ]
  },
  {
   "cell_type": "code",
   "execution_count": 23,
   "id": "e2e89620-465c-4736-86b7-d4f0a8b2c43a",
   "metadata": {},
   "outputs": [],
   "source": [
    "# compute the loss & accuracy on the test set using the best available model\n",
    "def test(modelname, args):\n",
    "    model = torch.load(modelname)\n",
    "    model = model.to(args.device)\n",
    "    train_state = make_train_state(args)\n",
    "    dataset.class_weights = dataset.class_weights.to(args.device)\n",
    "    loss_func = nn.CrossEntropyLoss(dataset.class_weights)\n",
    "\n",
    "    dataset.set_split('test')\n",
    "    batch_generator = generate_batches(dataset, \n",
    "                                       batch_size=args.batch_size, \n",
    "                                       device=args.device)\n",
    "    running_loss = 0.\n",
    "    running_acc = 0.\n",
    "    model.eval()\n",
    "\n",
    "    for batch_index, batch_dict in enumerate(batch_generator):\n",
    "        # compute the output\n",
    "        y_pred =  model(batch_dict['x_data'],\n",
    "                             x_lengths=batch_dict['x_length'])\n",
    "\n",
    "        # compute the loss\n",
    "        loss = loss_func(y_pred, batch_dict['y_target'])\n",
    "        loss_t = loss.item()\n",
    "        running_loss += (loss_t - running_loss) / (batch_index + 1)\n",
    "\n",
    "        # compute the accuracy\n",
    "        acc_t = compute_accuracy(y_pred, batch_dict['y_target'])\n",
    "        running_acc += (acc_t - running_acc) / (batch_index + 1)\n",
    "\n",
    "    train_state['test_loss'] = running_loss\n",
    "    train_state['test_acc'] = running_acc\n",
    "    \n",
    "    return  train_state['test_loss'], train_state['test_acc']"
   ]
  },
  {
   "cell_type": "code",
   "execution_count": 25,
   "id": "db823115-9abd-4801-84e1-6e81ff7a2b9a",
   "metadata": {},
   "outputs": [
    {
     "name": "stdout",
     "output_type": "stream",
     "text": [
      "Test loss: 0.8817292749881744;\n",
      "Test Accuracy: 64.84375\n"
     ]
    }
   ],
   "source": [
    "loss, acc = test(\"BiGRU_WORD_EMD.pt\", args)\n",
    "\n",
    "print(\"Test loss: {};\".format(loss))\n",
    "print(\"Test Accuracy: {}\".format(acc))"
   ]
  },
  {
   "cell_type": "markdown",
   "id": "023a1909-dae8-4c53-92d4-b2ae87aa1f27",
   "metadata": {},
   "source": [
    "#### Experiments"
   ]
  },
  {
   "cell_type": "markdown",
   "id": "7828037a-2823-423e-b878-627fff45b28d",
   "metadata": {},
   "source": [
    "We have attempted multiple experiments to adjust the hyper-parameters aiming at improving the test accuracy. We have made 5 models so far, which are:\n",
    "1. A simple RNN model with no pre-trained word embedding, learing rate (0.001), layers(1), dropout (0.5)\n",
    "2. A bi-GRU model with no pre-trained word embedding, learing rate (0.001), layers(1), dropout (0.2)\n",
    "3. A bi-GRU model with no pre-trained word embedding, learing rate (0.006), layers(2), dropout (0.2)\n",
    "4. A bi-GRU model with pre-trained word embedding, learing rate (0.005), layers(2), dropout (0.2)\n",
    "5. A bi-GRU model with pre-trained word embedding, learing rate (0.006), layers(1), dropout (0.3)"
   ]
  },
  {
   "cell_type": "markdown",
   "id": "f14750d7-f92a-42b7-a602-6020215cdd47",
   "metadata": {},
   "source": [
    "##### 1. Load trained RNN model without pre-trained word embedding  "
   ]
  },
  {
   "cell_type": "code",
   "execution_count": 37,
   "id": "db6efc67-11c4-432e-be1a-3e2e6366e351",
   "metadata": {},
   "outputs": [
    {
     "data": {
      "text/plain": [
       "Injury2Classifier(\n",
       "  (emb): Embedding(31, 100, padding_idx=0)\n",
       "  (rnn): ElmanRNN(\n",
       "    (rnn_cell): RNNCell(100, 128)\n",
       "  )\n",
       "  (fc1): Linear(in_features=128, out_features=128, bias=True)\n",
       "  (fc2): Linear(in_features=128, out_features=3, bias=True)\n",
       ")"
      ]
     },
     "execution_count": 37,
     "metadata": {},
     "output_type": "execute_result"
    }
   ],
   "source": [
    "model_rnn = torch.load(\"RNN.pt\")\n",
    "model_rnn.eval()"
   ]
  },
  {
   "cell_type": "markdown",
   "id": "1acc2509-62e2-478e-95b7-1e759ed12414",
   "metadata": {},
   "source": [
    "##### The test accuracy of RNN model is around 33%, which is slightly better than random guess"
   ]
  },
  {
   "cell_type": "code",
   "execution_count": 38,
   "id": "d19f141e-f7d1-4e45-ae51-b00107efc839",
   "metadata": {},
   "outputs": [
    {
     "name": "stdout",
     "output_type": "stream",
     "text": [
      "Test loss: 1.1197128295898438;\n",
      "Test Accuracy: 33.984375\n"
     ]
    }
   ],
   "source": [
    "loss0, acc0 = test(\"RNN.pt\", args)\n",
    "\n",
    "print(\"Test loss: {};\".format(loss0))\n",
    "print(\"Test Accuracy: {}\".format(acc0))"
   ]
  },
  {
   "cell_type": "markdown",
   "id": "9f320d6e-5163-40f9-a626-d4afcf57411d",
   "metadata": {},
   "source": [
    "##### 2. Load the first bi-GRU model using default learning rate (0.001), dropout(0.2) and layers (1) "
   ]
  },
  {
   "cell_type": "code",
   "execution_count": 2,
   "id": "d4acbbc6-11f7-439b-91f8-98157de94e48",
   "metadata": {},
   "outputs": [
    {
     "data": {
      "text/plain": [
       "InjuryGRUClassifier(\n",
       "  (encoder): Embedding(31, 100, padding_idx=0)\n",
       "  (drop_en): Dropout(p=0.6, inplace=False)\n",
       "  (rnn): GRU(100, 128, batch_first=True, dropout=0.2, bidirectional=True)\n",
       "  (bn2): BatchNorm1d(256, eps=1e-05, momentum=0.1, affine=True, track_running_stats=True)\n",
       "  (fc): Linear(in_features=256, out_features=3, bias=True)\n",
       ")"
      ]
     },
     "execution_count": 2,
     "metadata": {},
     "output_type": "execute_result"
    }
   ],
   "source": [
    "model_gru_default = torch.load(\"BiGRU_0.01.pt\")\n",
    "model_gru_default.eval()"
   ]
  },
  {
   "cell_type": "markdown",
   "id": "12c80694-0b7b-40b4-bcd2-2023bf439c25",
   "metadata": {},
   "source": [
    "##### With using the bi-GRU model, the test accuracy is improved"
   ]
  },
  {
   "cell_type": "code",
   "execution_count": 40,
   "id": "391f8d3c-eb0a-468c-a2c0-b51a5875b8be",
   "metadata": {},
   "outputs": [
    {
     "name": "stdout",
     "output_type": "stream",
     "text": [
      "Test loss: 1.1019163131713867;\n",
      "Test Accuracy: 38.671875\n"
     ]
    }
   ],
   "source": [
    "loss1, acc1 = test(\"BiGRU_0.01.pt\", args)\n",
    "\n",
    "print(\"Test loss: {};\".format(loss1))\n",
    "print(\"Test Accuracy: {}\".format(acc1))"
   ]
  },
  {
   "cell_type": "markdown",
   "id": "4dd5fc83-301c-425c-9820-691ed2384318",
   "metadata": {},
   "source": [
    "##### 3. Load the bi-GRU without pre-trainning word embedding, adjusting layers as 2, dropout as 0.3 and learning rate as 0.006 ."
   ]
  },
  {
   "cell_type": "code",
   "execution_count": 27,
   "id": "aa594fcb-efb8-4d4d-9361-590422d9a964",
   "metadata": {},
   "outputs": [
    {
     "data": {
      "text/plain": [
       "InjuryGRUClassifier(\n",
       "  (encoder): Embedding(31, 100, padding_idx=0)\n",
       "  (drop_en): Dropout(p=0.6, inplace=False)\n",
       "  (rnn): GRU(100, 128, num_layers=2, batch_first=True, dropout=0.3, bidirectional=True)\n",
       "  (bn2): BatchNorm1d(256, eps=1e-05, momentum=0.1, affine=True, track_running_stats=True)\n",
       "  (fc): Linear(in_features=256, out_features=3, bias=True)\n",
       ")"
      ]
     },
     "execution_count": 27,
     "metadata": {},
     "output_type": "execute_result"
    }
   ],
   "source": [
    "model_no_emd = torch.load(\"BiGRU_50.pt\")\n",
    "model_no_emd.eval()"
   ]
  },
  {
   "cell_type": "markdown",
   "id": "9d745116-5389-491d-a0d0-9737d2cd808e",
   "metadata": {},
   "source": [
    "##### The test accuracy is between 46% to 50% after multiple experiments "
   ]
  },
  {
   "cell_type": "code",
   "execution_count": 26,
   "id": "0f762d49-36fe-449b-bc0a-38ec8998b93a",
   "metadata": {},
   "outputs": [
    {
     "name": "stdout",
     "output_type": "stream",
     "text": [
      "Test loss: 1.0334081649780273;\n",
      "Test Accuracy: 48.4375\n"
     ]
    }
   ],
   "source": [
    "loss2, acc2 = test(\"BiGRU_50.pt\", args)\n",
    "\n",
    "print(\"Test loss: {};\".format(loss2))\n",
    "print(\"Test Accuracy: {}\".format(acc2))"
   ]
  },
  {
   "cell_type": "markdown",
   "id": "2d30b230-02ab-40ce-af90-b13049ee4e65",
   "metadata": {},
   "source": [
    "##### 4. This model is trained by bi-GRU using glove as pretained word embedding, with 2 layer, 0.05 learning rate and 0.2 dropout"
   ]
  },
  {
   "cell_type": "code",
   "execution_count": 28,
   "id": "bbac226f-1ae5-43e0-9404-f20a2dfb7652",
   "metadata": {},
   "outputs": [
    {
     "data": {
      "text/plain": [
       "InjuryGRUClassifier(\n",
       "  (encoder): Embedding(31, 100, padding_idx=0)\n",
       "  (drop_en): Dropout(p=0.6, inplace=False)\n",
       "  (rnn): GRU(100, 128, num_layers=2, batch_first=True, dropout=0.2, bidirectional=True)\n",
       "  (bn2): BatchNorm1d(256, eps=1e-05, momentum=0.1, affine=True, track_running_stats=True)\n",
       "  (fc): Linear(in_features=256, out_features=3, bias=True)\n",
       ")"
      ]
     },
     "execution_count": 28,
     "metadata": {},
     "output_type": "execute_result"
    }
   ],
   "source": [
    "model_gru1 = torch.load(\"BiGRU_60.pt\")\n",
    "model_gru1.eval()"
   ]
  },
  {
   "cell_type": "markdown",
   "id": "49395cfe-9ea6-4725-8be7-28f77f5e7e22",
   "metadata": {},
   "source": [
    "##### The test accuracy is around 60%, which is about 10% higher than model 3"
   ]
  },
  {
   "cell_type": "code",
   "execution_count": 16,
   "id": "f3d81fcc-6e23-44fa-a698-8e4d2aaad532",
   "metadata": {},
   "outputs": [
    {
     "name": "stdout",
     "output_type": "stream",
     "text": [
      "Test loss: 0.8685162365436554;\n",
      "Test Accuracy: 60.546875\n"
     ]
    }
   ],
   "source": [
    "loss3, acc3 = test(\"BiGRU_60.pt\", args)\n",
    "\n",
    "print(\"Test loss: {};\".format(loss3))\n",
    "print(\"Test Accuracy: {}\".format(acc3))"
   ]
  },
  {
   "cell_type": "markdown",
   "id": "c13e6f49-fe87-4619-bcb4-89c7d695fe9c",
   "metadata": {},
   "source": [
    "##### 5. This is the best bi-GRU model we have trained so far, with 1 layer, 0.3 dropout and 0.06 learning rate"
   ]
  },
  {
   "cell_type": "code",
   "execution_count": 32,
   "id": "df05b661-2970-4318-9fea-241cf0ce0064",
   "metadata": {},
   "outputs": [
    {
     "data": {
      "text/plain": [
       "InjuryGRUClassifier(\n",
       "  (encoder): Embedding(31, 100, padding_idx=0)\n",
       "  (drop_en): Dropout(p=0.6, inplace=False)\n",
       "  (rnn): GRU(100, 128, batch_first=True, dropout=0.3, bidirectional=True)\n",
       "  (bn2): BatchNorm1d(256, eps=1e-05, momentum=0.1, affine=True, track_running_stats=True)\n",
       "  (fc): Linear(in_features=256, out_features=3, bias=True)\n",
       ")"
      ]
     },
     "execution_count": 32,
     "metadata": {},
     "output_type": "execute_result"
    }
   ],
   "source": [
    "model_gru2 = torch.load(\"BiGRU_WORD_EMD.pt\")\n",
    "model_gru2.eval()"
   ]
  },
  {
   "cell_type": "markdown",
   "id": "5252b1a3-199b-4889-8c6a-2ee903e6fadb",
   "metadata": {},
   "source": [
    "##### The test accuracy is around 66% in this case"
   ]
  },
  {
   "cell_type": "code",
   "execution_count": 36,
   "id": "b17c3510-eaab-4c4f-ba8d-123346e6f4db",
   "metadata": {},
   "outputs": [
    {
     "name": "stdout",
     "output_type": "stream",
     "text": [
      "Test loss: 0.8887283504009247;\n",
      "Test Accuracy: 66.015625\n"
     ]
    }
   ],
   "source": [
    "loss4, acc4 = test(\"BiGRU_WORD_EMD.pt\", args)\n",
    "\n",
    "print(\"Test loss: {};\".format(loss4))\n",
    "print(\"Test Accuracy: {}\".format(acc4))"
   ]
  },
  {
   "cell_type": "markdown",
   "id": "eee1c033-cb60-455f-b506-3ee2d574b827",
   "metadata": {},
   "source": [
    "<b>Performance Analysis</b>\n",
    "\n",
    "To summerise, the single RNN without any hyper-parameters adjusting can achieve around 33% to 36% accuracy, which is slightly better than the random guess. By using the bi-GRU model without any hyper-parameters adjusting, the model can achieve around 38% to 40% accuracy, which shows better performance than using the RNN. In the third model, we increase the learning rate as 6 times larger as the second model (from 0.01 to 0.06), lower the GRU dropout from 0.5 to 0.3, and add one more layer. This adjustment slighly improves the model accuracy by 6% approximately. \n",
    "\n",
    "The improvement for the third model is mainly because we significantly increase learning rate. Since we train the classifier on small dataset (each class only has about 580 samples), small learning rate will slow down the process of gradient descent so that the model cannot reach the local optima. By conducting multiple experiments, we find the best learning rate for this model is 0.005 and 0.006. The accuracy goes down once the learning rate is over than 0.06.\n",
    "\n",
    "In the 4th model, we apply the pre-trained word embedding to train the model, and it turns out be a successful idea because the test accuracy is increase to 60%. The advantage of using pre-training is that it can speed up the training of the model and alleviate the problem of insufficient training data. Because the pre-training word embedding can help the classifier better understand the semantic features. And the last model just slightly modify some hyper-parameters such as number of layers, and it is the best model we have trained so far, with the accuracy of 66%."
   ]
  },
  {
   "cell_type": "markdown",
   "id": "eaa1a78c-0f31-4d53-bbb5-7209ca203977",
   "metadata": {},
   "source": [
    "### Task 3\n",
    "\n",
    "This task is presented by two part, part1 we do the data pre-processing, and part 2 we build the models and evaluate the model performance. "
   ]
  },
  {
   "cell_type": "code",
   "execution_count": 1,
   "id": "50a765cc-14ab-4415-83dc-9664669c6481",
   "metadata": {},
   "outputs": [],
   "source": [
    "from argparse import Namespace\n",
    "from nltk.tokenize import word_tokenize\n",
    "import numpy as np\n",
    "import pandas as pd"
   ]
  },
  {
   "cell_type": "code",
   "execution_count": 2,
   "id": "a30fd92a-3a90-4362-854a-71f8bcfb86fb",
   "metadata": {},
   "outputs": [],
   "source": [
    "import codecs\n",
    "import matplotlib.pyplot as plt"
   ]
  },
  {
   "cell_type": "markdown",
   "id": "72c412b3-91a2-403b-807f-261543221fc2",
   "metadata": {},
   "source": [
    "<b>1. Sequence Data Pre-processing</b>\n",
    "\n",
    "Before building the model for this task, we conduct the data pre-processing first. "
   ]
  },
  {
   "cell_type": "code",
   "execution_count": 3,
   "id": "4002407d-1734-4380-8761-d5820ddf351c",
   "metadata": {},
   "outputs": [],
   "source": [
    "args = Namespace(\n",
    "    source_data_path=\"C:/Users/George/CITS4012/us_accidents.txt\",\n",
    "    output_data_path=\"C:/Users/George/CITS4012/us_accidents_out.csv\",\n",
    "    perc_train=0.7,\n",
    "    perc_val=0.15,\n",
    "    perc_test=0.15,\n",
    "    seed=1337\n",
    ")\n",
    "\n",
    "assert args.perc_test > 0 and (args.perc_test + args.perc_val + args.perc_train == 1.0)"
   ]
  },
  {
   "cell_type": "code",
   "execution_count": 4,
   "id": "c2440258-11d0-47c8-bb9f-ede867665c92",
   "metadata": {},
   "outputs": [],
   "source": [
    "with codecs.open(args.source_data_path, encoding=\"utf-8\", errors = 'ignore') as fp:\n",
    "    lines = fp.readlines()\n",
    "    \n",
    "lines = [line.replace(\"\\n\", \"\").lower().split(\" \") for line in lines]"
   ]
  },
  {
   "cell_type": "markdown",
   "id": "047c8613-99d6-4926-8c57-5b51a23c7a08",
   "metadata": {},
   "source": [
    "The sequence data is read into the buffer called \"lines\", each line inclues a word with its entity"
   ]
  },
  {
   "cell_type": "code",
   "execution_count": 5,
   "id": "be6e7f08-a042-46b6-9670-167e454a6c44",
   "metadata": {},
   "outputs": [
    {
     "data": {
      "text/plain": [
       "[['he', 'o'], ['was', 'o'], ['pulling', 'o'], ['a', 'o'], ['54', 'o']]"
      ]
     },
     "execution_count": 5,
     "metadata": {},
     "output_type": "execute_result"
    }
   ],
   "source": [
    "lines[:5]"
   ]
  },
  {
   "cell_type": "markdown",
   "id": "fd4e39b8-296b-4c33-9603-a27b0925df27",
   "metadata": {},
   "source": [
    "Pack each sentence and their entity to a dict, append it into another buffer called \"data\""
   ]
  },
  {
   "cell_type": "code",
   "execution_count": 6,
   "id": "909af8e0-7fe3-4ee2-93ac-1e2ad9ea6437",
   "metadata": {},
   "outputs": [],
   "source": [
    "words = []\n",
    "ents = []\n",
    "data = []\n",
    "for i in lines:\n",
    "    if len(i) != 1:\n",
    "        words.append(i[0])\n",
    "        ents.append(i[1])\n",
    "    else:\n",
    "        data.append({\"words\" : words, \"ents\" : ents})\n",
    "        words=[]\n",
    "        ents=[]"
   ]
  },
  {
   "cell_type": "markdown",
   "id": "ee51a678-b9bc-4c34-b923-dd8eda48cce5",
   "metadata": {},
   "source": [
    "We make a statistic to visulise the times of different entities exists accross the dataset, and we find the entity 'o' represent 90% of the entity dataset"
   ]
  },
  {
   "cell_type": "code",
   "execution_count": 8,
   "id": "1be9472e-261d-440a-a5f4-223023efdb10",
   "metadata": {},
   "outputs": [],
   "source": [
    "#Save all the entities into ents\n",
    "ents = [ent['ents'][i] for ent in data for i in range(len(ent['ents']))]"
   ]
  },
  {
   "cell_type": "code",
   "execution_count": 9,
   "id": "eee19e6c-9dba-4548-a790-3262ab8cf101",
   "metadata": {},
   "outputs": [
    {
     "data": {
      "text/plain": [
       "420603"
      ]
     },
     "execution_count": 9,
     "metadata": {},
     "output_type": "execute_result"
    }
   ],
   "source": [
    "len(ents)"
   ]
  },
  {
   "cell_type": "code",
   "execution_count": 10,
   "id": "a7ba5a61-68d5-4e98-9c93-03ae0176e5b7",
   "metadata": {},
   "outputs": [
    {
     "data": {
      "text/plain": [
       "o                        378976\n",
       "b-person/employee         11420\n",
       "b-accident_cause/fall      2692\n",
       "                           1950\n",
       "b-body_part/back           1667\n",
       "                          ...  \n",
       "fibula                        1\n",
       "months                        1\n",
       "one                           1\n",
       "window                        1\n",
       "line/miner                    1\n",
       "Length: 858, dtype: int64"
      ]
     },
     "execution_count": 10,
     "metadata": {},
     "output_type": "execute_result"
    }
   ],
   "source": [
    "result = pd.value_counts(ents)\n",
    "result"
   ]
  },
  {
   "cell_type": "code",
   "execution_count": 11,
   "id": "e5eb4202-f62f-4a2f-889a-816d0636802f",
   "metadata": {},
   "outputs": [
    {
     "data": {
      "text/plain": [
       "0.9010301876115957"
      ]
     },
     "execution_count": 11,
     "metadata": {},
     "output_type": "execute_result"
    }
   ],
   "source": [
    "#the percentage of 'o'\n",
    "378976/len(ents)"
   ]
  },
  {
   "cell_type": "code",
   "execution_count": 12,
   "id": "e4850253-5b28-4858-9452-e2df81bf78eb",
   "metadata": {},
   "outputs": [
    {
     "data": {
      "text/plain": [
       "41627"
      ]
     },
     "execution_count": 12,
     "metadata": {},
     "output_type": "execute_result"
    }
   ],
   "source": [
    "#the length of other entities except 'o'\n",
    "len(ents) - 378976"
   ]
  },
  {
   "cell_type": "markdown",
   "id": "5b9098be-b523-43a2-9733-d2db42f84ad8",
   "metadata": {},
   "source": [
    "Error checking for data"
   ]
  },
  {
   "cell_type": "code",
   "execution_count": 14,
   "id": "7789f1c1-41be-4d8d-9fac-f520d0e62686",
   "metadata": {},
   "outputs": [
    {
     "data": {
      "text/plain": [
       "'No error'"
      ]
     },
     "execution_count": 14,
     "metadata": {},
     "output_type": "execute_result"
    }
   ],
   "source": [
    "#check if all the sentence len and entities lenght are same\n",
    "def check():\n",
    "    for i in range(len(data)):\n",
    "        if len(data[i]['words']) != len(data[i]['ents']):\n",
    "            return (\"sentence i {} has error !\".format(i))\n",
    "    return 'No error'\n",
    "\n",
    "check()"
   ]
  },
  {
   "cell_type": "markdown",
   "id": "2b88e37d-a843-4e61-aa0b-db3b05e48457",
   "metadata": {},
   "source": [
    "Split the data into train (70%), validation (15%), and test (15%)"
   ]
  },
  {
   "cell_type": "code",
   "execution_count": 15,
   "id": "5efb7346-d190-412c-ab56-d78527a2300a",
   "metadata": {},
   "outputs": [],
   "source": [
    "n_train = int(len(data) * args.perc_train)\n",
    "n_val = int(len(data) * args.perc_val)\n",
    "dataset= []\n",
    "for datum in data[:n_train]:\n",
    "    datum['split'] = 'train'\n",
    "\n",
    "    \n",
    "for datum in data[n_train:n_train+n_val]:\n",
    "    datum['split'] = 'val'\n",
    "\n",
    "for datum in data[n_train+n_val:]:\n",
    "    datum['split'] = 'test'\n",
    "\n",
    "dataset.extend(data) "
   ]
  },
  {
   "cell_type": "code",
   "execution_count": 16,
   "id": "6ef27013-f27a-415b-a1f4-d68d425f01ab",
   "metadata": {},
   "outputs": [],
   "source": [
    "# here we pop and assign into the dictionary, thus modifying in place\n",
    "for datum in dataset:\n",
    "    datum['words'] = \" \".join(datum.pop('words'))\n",
    "    datum['ents'] = \" \".join(datum.pop('ents'))"
   ]
  },
  {
   "cell_type": "code",
   "execution_count": 17,
   "id": "19f7df16-373b-487b-8836-51490c6e6f09",
   "metadata": {},
   "outputs": [],
   "source": [
    "df = pd.DataFrame(dataset)"
   ]
  },
  {
   "cell_type": "code",
   "execution_count": 18,
   "id": "ed04dfd4-1236-47a8-9192-fd6c5796ddb4",
   "metadata": {},
   "outputs": [
    {
     "data": {
      "text/html": [
       "<div>\n",
       "<style scoped>\n",
       "    .dataframe tbody tr th:only-of-type {\n",
       "        vertical-align: middle;\n",
       "    }\n",
       "\n",
       "    .dataframe tbody tr th {\n",
       "        vertical-align: top;\n",
       "    }\n",
       "\n",
       "    .dataframe thead th {\n",
       "        text-align: right;\n",
       "    }\n",
       "</style>\n",
       "<table border=\"1\" class=\"dataframe\">\n",
       "  <thead>\n",
       "    <tr style=\"text-align: right;\">\n",
       "      <th></th>\n",
       "      <th>split</th>\n",
       "      <th>words</th>\n",
       "      <th>ents</th>\n",
       "    </tr>\n",
       "  </thead>\n",
       "  <tbody>\n",
       "    <tr>\n",
       "      <th>0</th>\n",
       "      <td>train</td>\n",
       "      <td>he was pulling a 54 inch v wiper and felt pain...</td>\n",
       "      <td>o o o o o o o o o o o o o o o</td>\n",
       "    </tr>\n",
       "    <tr>\n",
       "      <th>1</th>\n",
       "      <td>train</td>\n",
       "      <td>breathing difficulties . employee provided fir...</td>\n",
       "      <td>o o o b-person/employee o o o o o o o o</td>\n",
       "    </tr>\n",
       "    <tr>\n",
       "      <th>2</th>\n",
       "      <td>train</td>\n",
       "      <td>while palletizing flat rock ( landscape stone ...</td>\n",
       "      <td>o o o o o o o o b-person/injured_person i-pers...</td>\n",
       "    </tr>\n",
       "    <tr>\n",
       "      <th>3</th>\n",
       "      <td>train</td>\n",
       "      <td>employee was helping load bolts on roof bolter...</td>\n",
       "      <td>b-person/employee o o o o o o o o o o o o o o ...</td>\n",
       "    </tr>\n",
       "    <tr>\n",
       "      <th>4</th>\n",
       "      <td>train</td>\n",
       "      <td>employee stepped into hot feed and fell while ...</td>\n",
       "      <td>b-person/employee o o o o o o o o o o o o o</td>\n",
       "    </tr>\n",
       "  </tbody>\n",
       "</table>\n",
       "</div>"
      ],
      "text/plain": [
       "   split                                              words  \\\n",
       "0  train  he was pulling a 54 inch v wiper and felt pain...   \n",
       "1  train  breathing difficulties . employee provided fir...   \n",
       "2  train  while palletizing flat rock ( landscape stone ...   \n",
       "3  train  employee was helping load bolts on roof bolter...   \n",
       "4  train  employee stepped into hot feed and fell while ...   \n",
       "\n",
       "                                                ents  \n",
       "0                      o o o o o o o o o o o o o o o  \n",
       "1            o o o b-person/employee o o o o o o o o  \n",
       "2  o o o o o o o o b-person/injured_person i-pers...  \n",
       "3  b-person/employee o o o o o o o o o o o o o o ...  \n",
       "4        b-person/employee o o o o o o o o o o o o o  "
      ]
     },
     "execution_count": 18,
     "metadata": {},
     "output_type": "execute_result"
    }
   ],
   "source": [
    "df.head()"
   ]
  },
  {
   "cell_type": "code",
   "execution_count": 19,
   "id": "bf795f5b-06c5-4fcb-8578-068d4af3fbb4",
   "metadata": {},
   "outputs": [
    {
     "data": {
      "text/html": [
       "<div>\n",
       "<style scoped>\n",
       "    .dataframe tbody tr th:only-of-type {\n",
       "        vertical-align: middle;\n",
       "    }\n",
       "\n",
       "    .dataframe tbody tr th {\n",
       "        vertical-align: top;\n",
       "    }\n",
       "\n",
       "    .dataframe thead th {\n",
       "        text-align: right;\n",
       "    }\n",
       "</style>\n",
       "<table border=\"1\" class=\"dataframe\">\n",
       "  <thead>\n",
       "    <tr style=\"text-align: right;\">\n",
       "      <th></th>\n",
       "      <th>split</th>\n",
       "      <th>words</th>\n",
       "      <th>ents</th>\n",
       "    </tr>\n",
       "  </thead>\n",
       "  <tbody>\n",
       "    <tr>\n",
       "      <th>0</th>\n",
       "      <td>train</td>\n",
       "      <td>he was pulling a 54 inch v wiper and felt pain...</td>\n",
       "      <td>o o o o o o o o o o o o o o o</td>\n",
       "    </tr>\n",
       "    <tr>\n",
       "      <th>1</th>\n",
       "      <td>train</td>\n",
       "      <td>breathing difficulties . employee provided fir...</td>\n",
       "      <td>o o o b-person/employee o o o o o o o o</td>\n",
       "    </tr>\n",
       "    <tr>\n",
       "      <th>2</th>\n",
       "      <td>train</td>\n",
       "      <td>while palletizing flat rock ( landscape stone ...</td>\n",
       "      <td>o o o o o o o o b-person/injured_person i-pers...</td>\n",
       "    </tr>\n",
       "    <tr>\n",
       "      <th>3</th>\n",
       "      <td>train</td>\n",
       "      <td>employee was helping load bolts on roof bolter...</td>\n",
       "      <td>b-person/employee o o o o o o o o o o o o o o ...</td>\n",
       "    </tr>\n",
       "    <tr>\n",
       "      <th>4</th>\n",
       "      <td>train</td>\n",
       "      <td>employee stepped into hot feed and fell while ...</td>\n",
       "      <td>b-person/employee o o o o o o o o o o o o o</td>\n",
       "    </tr>\n",
       "    <tr>\n",
       "      <th>...</th>\n",
       "      <td>...</td>\n",
       "      <td>...</td>\n",
       "      <td>...</td>\n",
       "    </tr>\n",
       "    <tr>\n",
       "      <th>6995</th>\n",
       "      <td>train</td>\n",
       "      <td>employee was adjusting packing on booster pump...</td>\n",
       "      <td>b-person/employee o o o o o b-equipment/mechan...</td>\n",
       "    </tr>\n",
       "    <tr>\n",
       "      <th>6996</th>\n",
       "      <td>train</td>\n",
       "      <td>while crawling over post pile on pillar sectio...</td>\n",
       "      <td>o o o o o o o o o o b-body_part/arm/hand o o o...</td>\n",
       "    </tr>\n",
       "    <tr>\n",
       "      <th>6997</th>\n",
       "      <td>train</td>\n",
       "      <td>employee was working on a rotary diverter when...</td>\n",
       "      <td>b-person/employee o o o o o o o o o o b-body_p...</td>\n",
       "    </tr>\n",
       "    <tr>\n",
       "      <th>6998</th>\n",
       "      <td>train</td>\n",
       "      <td>employee was chipping out build up inside of c...</td>\n",
       "      <td>b-person/employee o o o o o o o o b-equipment/...</td>\n",
       "    </tr>\n",
       "    <tr>\n",
       "      <th>6999</th>\n",
       "      <td>train</td>\n",
       "      <td>employee had been stripping using a dozer . wh...</td>\n",
       "      <td>b-person/employee o o o o o b-vehicle/heavy_ve...</td>\n",
       "    </tr>\n",
       "  </tbody>\n",
       "</table>\n",
       "<p>7000 rows × 3 columns</p>\n",
       "</div>"
      ],
      "text/plain": [
       "      split                                              words  \\\n",
       "0     train  he was pulling a 54 inch v wiper and felt pain...   \n",
       "1     train  breathing difficulties . employee provided fir...   \n",
       "2     train  while palletizing flat rock ( landscape stone ...   \n",
       "3     train  employee was helping load bolts on roof bolter...   \n",
       "4     train  employee stepped into hot feed and fell while ...   \n",
       "...     ...                                                ...   \n",
       "6995  train  employee was adjusting packing on booster pump...   \n",
       "6996  train  while crawling over post pile on pillar sectio...   \n",
       "6997  train  employee was working on a rotary diverter when...   \n",
       "6998  train  employee was chipping out build up inside of c...   \n",
       "6999  train  employee had been stripping using a dozer . wh...   \n",
       "\n",
       "                                                   ents  \n",
       "0                         o o o o o o o o o o o o o o o  \n",
       "1               o o o b-person/employee o o o o o o o o  \n",
       "2     o o o o o o o o b-person/injured_person i-pers...  \n",
       "3     b-person/employee o o o o o o o o o o o o o o ...  \n",
       "4           b-person/employee o o o o o o o o o o o o o  \n",
       "...                                                 ...  \n",
       "6995  b-person/employee o o o o o b-equipment/mechan...  \n",
       "6996  o o o o o o o o o o b-body_part/arm/hand o o o...  \n",
       "6997  b-person/employee o o o o o o o o o o b-body_p...  \n",
       "6998  b-person/employee o o o o o o o o b-equipment/...  \n",
       "6999  b-person/employee o o o o o b-vehicle/heavy_ve...  \n",
       "\n",
       "[7000 rows x 3 columns]"
      ]
     },
     "execution_count": 19,
     "metadata": {},
     "output_type": "execute_result"
    }
   ],
   "source": [
    "#check out train dataset, from 0 to 6999\n",
    "df[df['split'] == 'train']"
   ]
  },
  {
   "cell_type": "code",
   "execution_count": 20,
   "id": "fb1f81d9-7529-4fa6-8ee5-3128d6f708b6",
   "metadata": {},
   "outputs": [
    {
     "data": {
      "text/html": [
       "<div>\n",
       "<style scoped>\n",
       "    .dataframe tbody tr th:only-of-type {\n",
       "        vertical-align: middle;\n",
       "    }\n",
       "\n",
       "    .dataframe tbody tr th {\n",
       "        vertical-align: top;\n",
       "    }\n",
       "\n",
       "    .dataframe thead th {\n",
       "        text-align: right;\n",
       "    }\n",
       "</style>\n",
       "<table border=\"1\" class=\"dataframe\">\n",
       "  <thead>\n",
       "    <tr style=\"text-align: right;\">\n",
       "      <th></th>\n",
       "      <th>split</th>\n",
       "      <th>words</th>\n",
       "      <th>ents</th>\n",
       "    </tr>\n",
       "  </thead>\n",
       "  <tbody>\n",
       "    <tr>\n",
       "      <th>7000</th>\n",
       "      <td>val</td>\n",
       "      <td>a sight string was hung from the roof screens ...</td>\n",
       "      <td>o o o o o o o o o o o o o o o o o o o o o o o ...</td>\n",
       "    </tr>\n",
       "    <tr>\n",
       "      <th>7001</th>\n",
       "      <td>val</td>\n",
       "      <td>employee reported that he pushed the wrong lev...</td>\n",
       "      <td>b-person/employee o o o o o o raising o o o o ...</td>\n",
       "    </tr>\n",
       "    <tr>\n",
       "      <th>7002</th>\n",
       "      <td>val</td>\n",
       "      <td>while exiting number 1 clinker cooler during r...</td>\n",
       "      <td>o o o o o o o o o o o o o o o b-person/employe...</td>\n",
       "    </tr>\n",
       "    <tr>\n",
       "      <th>7003</th>\n",
       "      <td>val</td>\n",
       "      <td>the employee was using a hammer to clear clog ...</td>\n",
       "      <td>o b-person/employee o o o o o o o o b-equipmen...</td>\n",
       "    </tr>\n",
       "    <tr>\n",
       "      <th>7004</th>\n",
       "      <td>val</td>\n",
       "      <td>roof fall &amp;gt; e-mains number 15 block in numb...</td>\n",
       "      <td>o b-accident_cause/fall o o o o o o o o o o o ...</td>\n",
       "    </tr>\n",
       "    <tr>\n",
       "      <th>...</th>\n",
       "      <td>...</td>\n",
       "      <td>...</td>\n",
       "      <td>...</td>\n",
       "    </tr>\n",
       "    <tr>\n",
       "      <th>8495</th>\n",
       "      <td>val</td>\n",
       "      <td>roof fall old room set up in number 4 entry on...</td>\n",
       "      <td>o b-accident_cause/fall o o o o o o o o o o o ...</td>\n",
       "    </tr>\n",
       "    <tr>\n",
       "      <th>8496</th>\n",
       "      <td>val</td>\n",
       "      <td>employee was shooting a klinker out of the num...</td>\n",
       "      <td>b-person/employee o o o o o o o o o o o o o o ...</td>\n",
       "    </tr>\n",
       "    <tr>\n",
       "      <th>8497</th>\n",
       "      <td>val</td>\n",
       "      <td>employee stated that strained his back while l...</td>\n",
       "      <td>b-person/employee o o o o b-body_part/back o o...</td>\n",
       "    </tr>\n",
       "    <tr>\n",
       "      <th>8498</th>\n",
       "      <td>val</td>\n",
       "      <td>employee was cleaning up in the hydrate bag ar...</td>\n",
       "      <td>b-person/employee o o o o o o o o o o o o o o ...</td>\n",
       "    </tr>\n",
       "    <tr>\n",
       "      <th>8499</th>\n",
       "      <td>val</td>\n",
       "      <td>employee was removing 3 '' water that was hook...</td>\n",
       "      <td>b-person/employee o o o o line o o o o o o o o...</td>\n",
       "    </tr>\n",
       "  </tbody>\n",
       "</table>\n",
       "<p>1500 rows × 3 columns</p>\n",
       "</div>"
      ],
      "text/plain": [
       "     split                                              words  \\\n",
       "7000   val  a sight string was hung from the roof screens ...   \n",
       "7001   val  employee reported that he pushed the wrong lev...   \n",
       "7002   val  while exiting number 1 clinker cooler during r...   \n",
       "7003   val  the employee was using a hammer to clear clog ...   \n",
       "7004   val  roof fall &gt; e-mains number 15 block in numb...   \n",
       "...    ...                                                ...   \n",
       "8495   val  roof fall old room set up in number 4 entry on...   \n",
       "8496   val  employee was shooting a klinker out of the num...   \n",
       "8497   val  employee stated that strained his back while l...   \n",
       "8498   val  employee was cleaning up in the hydrate bag ar...   \n",
       "8499   val  employee was removing 3 '' water that was hook...   \n",
       "\n",
       "                                                   ents  \n",
       "7000  o o o o o o o o o o o o o o o o o o o o o o o ...  \n",
       "7001  b-person/employee o o o o o o raising o o o o ...  \n",
       "7002  o o o o o o o o o o o o o o o b-person/employe...  \n",
       "7003  o b-person/employee o o o o o o o o b-equipmen...  \n",
       "7004  o b-accident_cause/fall o o o o o o o o o o o ...  \n",
       "...                                                 ...  \n",
       "8495  o b-accident_cause/fall o o o o o o o o o o o ...  \n",
       "8496  b-person/employee o o o o o o o o o o o o o o ...  \n",
       "8497  b-person/employee o o o o b-body_part/back o o...  \n",
       "8498  b-person/employee o o o o o o o o o o o o o o ...  \n",
       "8499  b-person/employee o o o o line o o o o o o o o...  \n",
       "\n",
       "[1500 rows x 3 columns]"
      ]
     },
     "execution_count": 20,
     "metadata": {},
     "output_type": "execute_result"
    }
   ],
   "source": [
    "#check out validation dataset, from 7000 to 8499\n",
    "df[df['split'] == 'val']"
   ]
  },
  {
   "cell_type": "code",
   "execution_count": 21,
   "id": "a3ad8eeb-f95c-4097-b350-989824cccf4d",
   "metadata": {},
   "outputs": [
    {
     "data": {
      "text/html": [
       "<div>\n",
       "<style scoped>\n",
       "    .dataframe tbody tr th:only-of-type {\n",
       "        vertical-align: middle;\n",
       "    }\n",
       "\n",
       "    .dataframe tbody tr th {\n",
       "        vertical-align: top;\n",
       "    }\n",
       "\n",
       "    .dataframe thead th {\n",
       "        text-align: right;\n",
       "    }\n",
       "</style>\n",
       "<table border=\"1\" class=\"dataframe\">\n",
       "  <thead>\n",
       "    <tr style=\"text-align: right;\">\n",
       "      <th></th>\n",
       "      <th>split</th>\n",
       "      <th>words</th>\n",
       "      <th>ents</th>\n",
       "    </tr>\n",
       "  </thead>\n",
       "  <tbody>\n",
       "    <tr>\n",
       "      <th>8500</th>\n",
       "      <td>test</td>\n",
       "      <td>employee was driving tractor trailer . the roa...</td>\n",
       "      <td>b-person/employee o b-activity/driving o o o o...</td>\n",
       "    </tr>\n",
       "    <tr>\n",
       "      <th>8501</th>\n",
       "      <td>test</td>\n",
       "      <td>employee was changing out a pump when the shaf...</td>\n",
       "      <td>b-person/employee o o o o b-equipment/mechanic...</td>\n",
       "    </tr>\n",
       "    <tr>\n",
       "      <th>8502</th>\n",
       "      <td>test</td>\n",
       "      <td>during an inspection of the hart street elevat...</td>\n",
       "      <td>o o o o o o o o o safety o o o o o o o o o o o...</td>\n",
       "    </tr>\n",
       "    <tr>\n",
       "      <th>8503</th>\n",
       "      <td>test</td>\n",
       "      <td>while cleaning along side screening plant , a ...</td>\n",
       "      <td>o o o o o o o o o o o o o o o b-body_part/head...</td>\n",
       "    </tr>\n",
       "    <tr>\n",
       "      <th>8504</th>\n",
       "      <td>test</td>\n",
       "      <td>employee was dismounting a mantrip , while get...</td>\n",
       "      <td>b-person/employee o o o o o o o o o o o o b-bo...</td>\n",
       "    </tr>\n",
       "    <tr>\n",
       "      <th>...</th>\n",
       "      <td>...</td>\n",
       "      <td>...</td>\n",
       "      <td>...</td>\n",
       "    </tr>\n",
       "    <tr>\n",
       "      <th>9995</th>\n",
       "      <td>test</td>\n",
       "      <td>climbing upon the grader and felt his back pop...</td>\n",
       "      <td>o o o b-vehicle/heavy_vehicle/grader o o o b-b...</td>\n",
       "    </tr>\n",
       "    <tr>\n",
       "      <th>9996</th>\n",
       "      <td>test</td>\n",
       "      <td>fell from rock bin . shirt caught on guard , l...</td>\n",
       "      <td>o o o o o o o o o o o o o o o o o o o b-body_p...</td>\n",
       "    </tr>\n",
       "    <tr>\n",
       "      <th>9997</th>\n",
       "      <td>test</td>\n",
       "      <td>employee was lifting tank of oxygen at supply ...</td>\n",
       "      <td>b-person/employee o o o o o o o o o o o b-body...</td>\n",
       "    </tr>\n",
       "    <tr>\n",
       "      <th>9998</th>\n",
       "      <td>test</td>\n",
       "      <td>employee was picking up his chock blocks when ...</td>\n",
       "      <td>b-person/employee o o o o b-equipment/chock o ...</td>\n",
       "    </tr>\n",
       "    <tr>\n",
       "      <th>9999</th>\n",
       "      <td>test</td>\n",
       "      <td>supervisor stated employee complained of a sor...</td>\n",
       "      <td>b-person/supervisor o b-person/employee o o o ...</td>\n",
       "    </tr>\n",
       "  </tbody>\n",
       "</table>\n",
       "<p>1500 rows × 3 columns</p>\n",
       "</div>"
      ],
      "text/plain": [
       "     split                                              words  \\\n",
       "8500  test  employee was driving tractor trailer . the roa...   \n",
       "8501  test  employee was changing out a pump when the shaf...   \n",
       "8502  test  during an inspection of the hart street elevat...   \n",
       "8503  test  while cleaning along side screening plant , a ...   \n",
       "8504  test  employee was dismounting a mantrip , while get...   \n",
       "...    ...                                                ...   \n",
       "9995  test  climbing upon the grader and felt his back pop...   \n",
       "9996  test  fell from rock bin . shirt caught on guard , l...   \n",
       "9997  test  employee was lifting tank of oxygen at supply ...   \n",
       "9998  test  employee was picking up his chock blocks when ...   \n",
       "9999  test  supervisor stated employee complained of a sor...   \n",
       "\n",
       "                                                   ents  \n",
       "8500  b-person/employee o b-activity/driving o o o o...  \n",
       "8501  b-person/employee o o o o b-equipment/mechanic...  \n",
       "8502  o o o o o o o o o safety o o o o o o o o o o o...  \n",
       "8503  o o o o o o o o o o o o o o o b-body_part/head...  \n",
       "8504  b-person/employee o o o o o o o o o o o o b-bo...  \n",
       "...                                                 ...  \n",
       "9995  o o o b-vehicle/heavy_vehicle/grader o o o b-b...  \n",
       "9996  o o o o o o o o o o o o o o o o o o o b-body_p...  \n",
       "9997  b-person/employee o o o o o o o o o o o b-body...  \n",
       "9998  b-person/employee o o o o b-equipment/chock o ...  \n",
       "9999  b-person/supervisor o b-person/employee o o o ...  \n",
       "\n",
       "[1500 rows x 3 columns]"
      ]
     },
     "execution_count": 21,
     "metadata": {},
     "output_type": "execute_result"
    }
   ],
   "source": [
    "#check out test dataset, from 8500 to 9999\n",
    "df[df['split'] == 'test']"
   ]
  },
  {
   "cell_type": "code",
   "execution_count": 22,
   "id": "ab4327aa-1841-43c1-b179-9281b16bfe6c",
   "metadata": {},
   "outputs": [
    {
     "data": {
      "text/plain": [
       "10000"
      ]
     },
     "execution_count": 22,
     "metadata": {},
     "output_type": "execute_result"
    }
   ],
   "source": [
    "len(data)"
   ]
  },
  {
   "cell_type": "code",
   "execution_count": 23,
   "id": "588e3d50-4579-4646-a59c-60ff39d0363e",
   "metadata": {},
   "outputs": [],
   "source": [
    "#Save to csv file\n",
    "#df.to_csv(args.output_data_path)"
   ]
  },
  {
   "cell_type": "markdown",
   "id": "4c29b8a9-6643-4965-9582-c390cdd56271",
   "metadata": {},
   "source": [
    "<b>2. Bi-GRU with Attention to train the seq2seq model<b/>"
   ]
  },
  {
   "cell_type": "code",
   "execution_count": 3,
   "id": "19fd4f7b-1af6-4b37-a5c6-64c101989934",
   "metadata": {},
   "outputs": [],
   "source": [
    "from Models import *\n",
    "from helpers import *"
   ]
  },
  {
   "cell_type": "markdown",
   "id": "e6c311c1-eed3-4bcb-a2f8-79fc3983c391",
   "metadata": {},
   "source": [
    "<b>Our seq2seq model : </b>\n",
    "\n",
    "For the task 2, we have used the bi-GRU to train the multi-classfier and has achieved a satisfying result. In this task, we continue to use the bi-GRU method with attention to train a seq2seq model. The advantage of using the bi-GRU rather than the normal GRU is that bi-GRU has longer memory than the GRU, beacuse bi-GRU starts from left to right and right to left, which helps to memorise the eariler text feature when the sequence is long. Moreover, attention method is introduced to enhance the model performance by getting better feature information of the source input. \n",
    "\n",
    "We use a bi-GRU method for the encoder, and use a normal GRU method for the decoder since the decoder is a text generator that need to generate the sequence text in order. The training process of our seq2seq model can be summerised as the follows:\n",
    "\n",
    "1. The encoder that applied bi-GRU summerise the text feature into the last hidden state h(m), and this hidden state is the initial state for decoder, denote as s(0). \n",
    "2. Attention method calculates the weight for all the hidden states from the encoder, and each weight w(i) represents the correlation between the hidden states {h(0), h(1), ... h(m)} and s(0).\n",
    "3. Attention method calculates the context vector c(0), which is the weighted sum average of hidden states {h(0), h(1), ... h(m)} and weights {w(0), w(1), .... w(m)}.\n",
    "4. Decoder combines the context vector c(0), the hidden state s(0) and the input text x(0) to generate the next hidden state s(1).\n",
    "5. By iteratively using the encoder, attention and decoder. The model can generate a predicted sequence. \n",
    "6. Compares the label sequence with the predicted sequence to obtain the loss and gradient information, then backpropogate to update the decoder and encoder.\n",
    "7. Repeat 1 to 6 for the next sequence until the training process is finised.\n",
    "\n",
    "We incorporate the code from lab 12 to finish this task. The model is defined as NMTModel and made up by NMTEncoder and NMTSamDecoder. The attention calculation for the model is performed in the NMTSamDecoder. At the end of the notebook, we will evaluate the models by calculating the percentage of disagreements on test dataset.\n",
    "\n",
    "<b>NMTEncoder</b>, <b>NMTSamDecoder</b> and <b>NMTModel</b> are encapsulated in the \"Model.py\"."
   ]
  },
  {
   "cell_type": "code",
   "execution_count": 2,
   "id": "1b5cb2b6-4f57-43a1-a646-d2d51b1c0687",
   "metadata": {},
   "outputs": [],
   "source": [
    "def generate_nmt_batches(dataset, batch_size, shuffle=True, \n",
    "                            drop_last=True, device=\"cpu\"):\n",
    "    \"\"\"A generator function which wraps the PyTorch DataLoader.  The NMT Version \"\"\"\n",
    "    dataloader = DataLoader(dataset=dataset, batch_size=batch_size,\n",
    "                            shuffle=shuffle, drop_last=drop_last)\n",
    "\n",
    "    for data_dict in dataloader:\n",
    "        lengths = data_dict['x_source_length'].numpy()\n",
    "        # Get the indices according to sorted length\n",
    "        sorted_length_indices = lengths.argsort()[::-1].tolist()\n",
    "        \n",
    "        # Sort the minibatch\n",
    "        out_data_dict = {}\n",
    "        for name, tensor in data_dict.items():\n",
    "            out_data_dict[name] = data_dict[name][sorted_length_indices].to(device)\n",
    "        yield out_data_dict"
   ]
  },
  {
   "cell_type": "code",
   "execution_count": 3,
   "id": "0aa31cdd-8e4c-4618-84b3-fd936e560812",
   "metadata": {},
   "outputs": [],
   "source": [
    "def verbose_attention(encoder_state_vectors, query_vector):\n",
    "    \"\"\"A descriptive version of the neural attention mechanism \n",
    "    \n",
    "    Args:\n",
    "        encoder_state_vectors (torch.Tensor): 3dim tensor from bi-GRU in encoder\n",
    "        query_vector (torch.Tensor): hidden state in decoder GRU\n",
    "    Returns:\n",
    "        \n",
    "    \"\"\"\n",
    "    batch_size, num_vectors, vector_size = encoder_state_vectors.size()\n",
    "    vector_scores = torch.sum(encoder_state_vectors * query_vector.view(batch_size, 1, vector_size), \n",
    "                              dim=2)\n",
    "    vector_probabilities = F.softmax(vector_scores, dim=1)\n",
    "    weighted_vectors = encoder_state_vectors * vector_probabilities.view(batch_size, num_vectors, 1)\n",
    "    context_vectors = torch.sum(weighted_vectors, dim=1)\n",
    "    return context_vectors, vector_probabilities, vector_scores\n",
    "\n",
    "def terse_attention(encoder_state_vectors, query_vector):\n",
    "    \"\"\"A shorter and more optimized version of the neural attention mechanism\n",
    "    \n",
    "    Args:\n",
    "        encoder_state_vectors (torch.Tensor): 3dim tensor from bi-GRU in encoder\n",
    "        query_vector (torch.Tensor): hidden state\n",
    "    \"\"\"\n",
    "    vector_scores = torch.matmul(encoder_state_vectors, query_vector.unsqueeze(dim=2)).squeeze()\n",
    "    vector_probabilities = F.softmax(vector_scores, dim=-1)\n",
    "    context_vectors = torch.matmul(encoder_state_vectors.transpose(-2, -1), \n",
    "                                   vector_probabilities.unsqueeze(dim=2)).squeeze()\n",
    "    return context_vectors, vector_probabilities"
   ]
  },
  {
   "cell_type": "code",
   "execution_count": 4,
   "id": "459c3938-b8d0-4156-81fb-7549fb782cfc",
   "metadata": {},
   "outputs": [],
   "source": [
    "def set_seed_everywhere(seed, cuda):\n",
    "    np.random.seed(seed)\n",
    "    torch.manual_seed(seed)\n",
    "    if cuda:\n",
    "        torch.cuda.manual_seed_all(seed)\n",
    "\n",
    "def handle_dirs(dirpath):\n",
    "    if not os.path.exists(dirpath):\n",
    "        os.makedirs(dirpath)\n",
    "\n",
    "def make_train_state(args):\n",
    "    return {'stop_early': False,\n",
    "            'early_stopping_step': 0,\n",
    "            'early_stopping_best_val': 1e8,\n",
    "            'learning_rate': args.learning_rate,\n",
    "            'epoch_index': 0,\n",
    "            'train_loss': [],\n",
    "            'train_acc': [],\n",
    "            'val_loss': [],\n",
    "            'val_acc': [],\n",
    "            'test_loss': -1,\n",
    "            'test_acc': -1,\n",
    "            'model_filename': args.model_state_file}\n",
    "\n",
    "def update_train_state(args, model, train_state):\n",
    "    \"\"\"Handle the training state updates.\n",
    "    Components:\n",
    "     - Early Stopping: Prevent overfitting.\n",
    "     - Model Checkpoint: Model is saved if the model is better\n",
    "    \n",
    "    :param args: main arguments\n",
    "    :param model: model to train\n",
    "    :param train_state: a dictionary representing the training state values\n",
    "    :returns:\n",
    "        a new train_state\n",
    "    \"\"\"\n",
    "\n",
    "    # Save one model at least\n",
    "    if train_state['epoch_index'] == 0:\n",
    "        torch.save(model.state_dict(), train_state['model_filename'])\n",
    "        train_state['stop_early'] = False\n",
    "\n",
    "    # Save model if performance improved\n",
    "    elif train_state['epoch_index'] >= 1:\n",
    "        loss_tm1, loss_t = train_state['val_loss'][-2:]\n",
    "         \n",
    "        # If loss worsened\n",
    "        if loss_t >= loss_tm1:\n",
    "            # Update step\n",
    "            train_state['early_stopping_step'] += 1\n",
    "        # Loss decreased\n",
    "        else:\n",
    "            # Save the best model\n",
    "            if loss_t < train_state['early_stopping_best_val']:\n",
    "                torch.save(model.state_dict(), train_state['model_filename'])\n",
    "                train_state['early_stopping_best_val'] = loss_t\n",
    "\n",
    "            # Reset early stopping step\n",
    "            train_state['early_stopping_step'] = 0\n",
    "\n",
    "        # Stop early ?\n",
    "        train_state['stop_early'] = \\\n",
    "            train_state['early_stopping_step'] >= args.early_stopping_criteria\n",
    "\n",
    "    return train_state\n",
    "\n",
    "def normalize_sizes(y_pred, y_true):\n",
    "    \"\"\"Normalize tensor sizes\n",
    "    \n",
    "    Args:\n",
    "        y_pred (torch.Tensor): the output of the model\n",
    "            If a 3-dimensional tensor, reshapes to a matrix\n",
    "        y_true (torch.Tensor): the target predictions\n",
    "            If a matrix, reshapes to be a vector\n",
    "    \"\"\"\n",
    "    if len(y_pred.size()) == 3:\n",
    "        y_pred = y_pred.contiguous().view(-1, y_pred.size(2))\n",
    "    if len(y_true.size()) == 2:\n",
    "        y_true = y_true.contiguous().view(-1)\n",
    "    return y_pred, y_true\n",
    "\n",
    "def compute_accuracy(y_pred, y_true, mask_index):\n",
    "    y_pred, y_true = normalize_sizes(y_pred, y_true)\n",
    "\n",
    "    _, y_pred_indices = y_pred.max(dim=1)\n",
    "    \n",
    "    correct_indices = torch.eq(y_pred_indices, y_true).float()\n",
    "    valid_indices = torch.ne(y_true, mask_index).float()\n",
    "    \n",
    "    n_correct = (correct_indices * valid_indices).sum().item()\n",
    "    n_valid = valid_indices.sum().item()\n",
    "\n",
    "    return n_correct / n_valid * 100\n",
    "\n",
    "def sequence_loss(y_pred, y_true, mask_index):\n",
    "    y_pred, y_true = normalize_sizes(y_pred, y_true)\n",
    "    return F.cross_entropy(y_pred, y_true, ignore_index=mask_index)"
   ]
  },
  {
   "cell_type": "code",
   "execution_count": 5,
   "id": "741011b1-86bb-48e8-9bbc-438f87db0130",
   "metadata": {},
   "outputs": [
    {
     "data": {
      "text/plain": [
       "True"
      ]
     },
     "execution_count": 5,
     "metadata": {},
     "output_type": "execute_result"
    }
   ],
   "source": [
    "torch.cuda.is_available()"
   ]
  },
  {
   "cell_type": "code",
   "execution_count": 6,
   "id": "5598bd63-aaff-4dd9-9bd1-9d9b6a014c20",
   "metadata": {},
   "outputs": [
    {
     "name": "stdout",
     "output_type": "stream",
     "text": [
      "Expanded filepaths: \n",
      "\tmodel_storage/sampling\\vectorizer.json\n",
      "\tmodel_storage/sampling\\model.pth\n",
      "Using CUDA: True\n"
     ]
    }
   ],
   "source": [
    "args = Namespace(dataset_csv=\"C:/Users/George/CITS4012/us_accidents_out.csv\",\n",
    "                 vectorizer_file=\"vectorizer.json\",\n",
    "                 model_state_file=\"model.pth\",\n",
    "                 #save_dir=\"model_storage/no_sampling\",\n",
    "                 save_dir=\"model_storage/sampling\",\n",
    "                 reload_from_files=True,\n",
    "                 expand_filepaths_to_save_dir=True,\n",
    "                 cuda=True,\n",
    "                 seed=1337,\n",
    "                 learning_rate=5e-4,\n",
    "                 batch_size=64,\n",
    "                 num_epochs=50,\n",
    "                 early_stopping_criteria=10,              \n",
    "                 source_embedding_size=64, \n",
    "                 target_embedding_size=64,\n",
    "                 encoding_size=64,\n",
    "                 catch_keyboard_interrupt=True)\n",
    "\n",
    "if args.expand_filepaths_to_save_dir:\n",
    "    args.vectorizer_file = os.path.join(args.save_dir,\n",
    "                                        args.vectorizer_file)\n",
    "\n",
    "    args.model_state_file = os.path.join(args.save_dir,\n",
    "                                         args.model_state_file)\n",
    "    \n",
    "    print(\"Expanded filepaths: \")\n",
    "    print(\"\\t{}\".format(args.vectorizer_file))\n",
    "    print(\"\\t{}\".format(args.model_state_file))\n",
    "    \n",
    "# Check CUDA\n",
    "if not torch.cuda.is_available():\n",
    "    args.cuda = False\n",
    "\n",
    "args.device = torch.device(\"cuda\" if args.cuda else \"cpu\")\n",
    "    \n",
    "print(\"Using CUDA: {}\".format(args.cuda))\n",
    "\n",
    "# Set seed for reproducibility\n",
    "set_seed_everywhere(args.seed, args.cuda)\n",
    "\n",
    "# handle dirs\n",
    "handle_dirs(args.save_dir)"
   ]
  },
  {
   "cell_type": "code",
   "execution_count": 7,
   "id": "7046155a-d8e4-4e06-806a-a9008bda1e1a",
   "metadata": {},
   "outputs": [],
   "source": [
    "if args.reload_from_files and os.path.exists(args.vectorizer_file):\n",
    "    # training from a checkpoint\n",
    "    dataset = NMTDataset.load_dataset_and_load_vectorizer(args.dataset_csv,\n",
    "                                                          args.vectorizer_file)\n",
    "else:\n",
    "    # create dataset and vectorizer\n",
    "    dataset = NMTDataset.load_dataset_and_make_vectorizer(args.dataset_csv)\n",
    "    dataset.save_vectorizer(args.vectorizer_file)\n",
    "\n",
    "vectorizer = dataset.get_vectorizer()"
   ]
  },
  {
   "cell_type": "code",
   "execution_count": 8,
   "id": "cd35211f-f665-4f76-b1e5-daa5f18ec496",
   "metadata": {},
   "outputs": [
    {
     "name": "stdout",
     "output_type": "stream",
     "text": [
      "Reloaded model\n"
     ]
    }
   ],
   "source": [
    "model = NMTModel(source_vocab_size=len(vectorizer.source_vocab), \n",
    "                 source_embedding_size=args.source_embedding_size, \n",
    "                 target_vocab_size=len(vectorizer.target_vocab),\n",
    "                 target_embedding_size=args.target_embedding_size, \n",
    "                 encoding_size=args.encoding_size,\n",
    "                 target_bos_index=vectorizer.target_vocab.begin_seq_index)\n",
    "\n",
    "if args.reload_from_files and os.path.exists(args.model_state_file):\n",
    "    model.load_state_dict(torch.load(args.model_state_file))\n",
    "    print(\"Reloaded model\")\n",
    "else:\n",
    "    print(\"New model\")"
   ]
  },
  {
   "cell_type": "code",
   "execution_count": 35,
   "id": "f1f7b8a6-f045-4e19-a4ae-dff8e1273a58",
   "metadata": {},
   "outputs": [],
   "source": [
    "model = model.to(args.device)\n",
    "\n",
    "optimizer = optim.Adam(model.parameters(), lr=args.learning_rate)\n",
    "scheduler = optim.lr_scheduler.ReduceLROnPlateau(optimizer=optimizer,\n",
    "                                           mode='min', factor=0.5,\n",
    "                                           patience=1)\n",
    "mask_index = vectorizer.target_vocab.mask_index\n",
    "train_state = make_train_state(args)\n",
    "\n",
    "epoch_bar = tqdm(desc='training routine', \n",
    "                          total=args.num_epochs,\n",
    "                          position=0)\n",
    "\n",
    "dataset.set_split('train')\n",
    "train_bar = tqdm(desc='split=train',\n",
    "                          total=dataset.get_num_batches(args.batch_size), \n",
    "                          position=1, \n",
    "                          leave=True)\n",
    "dataset.set_split('val')\n",
    "val_bar = tqdm(desc='split=val',\n",
    "                        total=dataset.get_num_batches(args.batch_size), \n",
    "                        position=1, \n",
    "                        leave=True)\n",
    "\n",
    "try:\n",
    "    for epoch_index in range(args.num_epochs):\n",
    "        train_state['epoch_index'] = epoch_index\n",
    "\n",
    "        # Iterate over training dataset\n",
    "\n",
    "        # setup: batch generator, set loss and acc to 0, set train mode on\n",
    "        dataset.set_split('train')\n",
    "        batch_generator = generate_nmt_batches(dataset, \n",
    "                                               batch_size=args.batch_size, \n",
    "                                               device=args.device)\n",
    "        running_loss = 0.0\n",
    "        running_acc = 0.0\n",
    "        model.train()\n",
    "        \n",
    "        for batch_index, batch_dict in enumerate(batch_generator):\n",
    "            # the training routine is these 5 steps:\n",
    "\n",
    "            # --------------------------------------    \n",
    "            # step 1. zero the gradients\n",
    "            optimizer.zero_grad()\n",
    "\n",
    "            # step 2. compute the output\n",
    "            y_pred = model(batch_dict['x_source'], \n",
    "                           batch_dict['x_source_length'], \n",
    "                           batch_dict['x_target'])\n",
    "\n",
    "            # step 3. compute the loss\n",
    "            loss = sequence_loss(y_pred, batch_dict['y_target'], mask_index)\n",
    "\n",
    "            # step 4. use loss to produce gradients\n",
    "            loss.backward()\n",
    "\n",
    "            # step 5. use optimizer to take gradient step\n",
    "            optimizer.step()\n",
    "            # -----------------------------------------\n",
    "            # compute the running loss and running accuracy\n",
    "            running_loss += (loss.item() - running_loss) / (batch_index + 1)\n",
    "\n",
    "            acc_t = compute_accuracy(y_pred, batch_dict['y_target'], mask_index)\n",
    "            running_acc += (acc_t - running_acc) / (batch_index + 1)\n",
    "            \n",
    "            # update bar\n",
    "            train_bar.set_postfix(loss=running_loss, acc=running_acc, \n",
    "                            epoch=epoch_index)\n",
    "            train_bar.update()\n",
    "\n",
    "        train_state['train_loss'].append(running_loss)\n",
    "        train_state['train_acc'].append(running_acc)\n",
    "\n",
    "        # Iterate over val dataset\n",
    "\n",
    "        # setup: batch generator, set loss and acc to 0; set eval mode on\n",
    "        dataset.set_split('val')\n",
    "        batch_generator = generate_nmt_batches(dataset, \n",
    "                                               batch_size=args.batch_size, \n",
    "                                               device=args.device)\n",
    "        running_loss = 0.\n",
    "        running_acc = 0.\n",
    "        model.eval()\n",
    "        try:\n",
    "            for batch_index, batch_dict in enumerate(batch_generator):\n",
    "                # compute the output\n",
    "                y_pred = model(batch_dict['x_source'], \n",
    "                               batch_dict['x_source_length'], \n",
    "                               batch_dict['x_target'])\n",
    "\n",
    "                # step 3. compute the loss\n",
    "                loss = sequence_loss(y_pred, batch_dict['y_target'], mask_index)\n",
    "\n",
    "                # compute the running loss and accuracy\n",
    "                running_loss += (loss.item() - running_loss) / (batch_index + 1)\n",
    "\n",
    "                acc_t = compute_accuracy(y_pred, batch_dict['y_target'], mask_index)\n",
    "                running_acc += (acc_t - running_acc) / (batch_index + 1)\n",
    "\n",
    "                # Update bar\n",
    "                val_bar.set_postfix(loss=running_loss, acc=running_acc, \n",
    "                                epoch=epoch_index)\n",
    "                val_bar.update()\n",
    "        except Exception as e:\n",
    "            print(e)\n",
    "            pass\n",
    "\n",
    "        train_state['val_loss'].append(running_loss)\n",
    "        train_state['val_acc'].append(running_acc)\n",
    "\n",
    "        train_state = update_train_state(args=args, model=model, \n",
    "                                         train_state=train_state)\n",
    "\n",
    "        scheduler.step(train_state['val_loss'][-1])\n",
    "\n",
    "        if train_state['stop_early']:\n",
    "            break\n",
    "            \n",
    "        train_bar.n = 0\n",
    "        val_bar.n = 0\n",
    "        epoch_bar.set_postfix(best_val=train_state['early_stopping_best_val'] )\n",
    "        epoch_bar.update()\n",
    "        \n",
    "except KeyboardInterrupt:\n",
    "    print(\"Exiting loop\")\n",
    "    "
   ]
  },
  {
   "cell_type": "markdown",
   "id": "590406e2-9dc8-49f1-8ef9-89ecfd7bbcf1",
   "metadata": {},
   "source": [
    "<b>Inference and Evaluation</b>\n",
    "\n",
    "In this part, we present the result of model's performance testing. We first evaluate the model performance using \"Bleu\" method, then we evaluate the model's performance by analysing the disagreements on randomly picked 50 test instances."
   ]
  },
  {
   "cell_type": "code",
   "execution_count": 60,
   "id": "90400836-6979-4df3-a110-4e402a6a8a02",
   "metadata": {},
   "outputs": [],
   "source": [
    "from nltk.translate import bleu_score\n",
    "import seaborn as sns\n",
    "import matplotlib.pyplot as plt\n",
    "\n",
    "chencherry = bleu_score.SmoothingFunction()"
   ]
  },
  {
   "cell_type": "code",
   "execution_count": 142,
   "id": "e3a966b8-37a9-45e3-bd2b-765c4f05e5b2",
   "metadata": {},
   "outputs": [],
   "source": [
    "#attention_gru_v3.pt is our trained model\n",
    "model = torch.load(\"attention_gru_v3.pt\")"
   ]
  },
  {
   "cell_type": "code",
   "execution_count": 143,
   "id": "56f2841c-2d08-4181-886d-454ad5cdf420",
   "metadata": {},
   "outputs": [],
   "source": [
    "def sentence_from_indices(indices, vocab, strict=True, return_string=True):\n",
    "    ignore_indices = set([vocab.mask_index, vocab.begin_seq_index, vocab.end_seq_index])\n",
    "    out = []\n",
    "    for index in indices:\n",
    "        if index == vocab.begin_seq_index and strict:\n",
    "            continue\n",
    "        elif index == vocab.end_seq_index and strict:\n",
    "            break\n",
    "        else:\n",
    "            out.append(vocab.lookup_index(index))\n",
    "    if return_string:\n",
    "        return \" \".join(out)\n",
    "    else:\n",
    "        return out\n",
    "    \n",
    "class NMTSampler:\n",
    "    def __init__(self, vectorizer, model):\n",
    "        self.vectorizer = vectorizer\n",
    "        self.model = model\n",
    "    \n",
    "    def apply_to_batch(self, batch_dict):\n",
    "        self._last_batch = batch_dict\n",
    "        y_pred = self.model(x_source=batch_dict['x_source'], \n",
    "                            x_source_lengths=batch_dict['x_source_length'], \n",
    "                            target_sequence=batch_dict['x_target'])\n",
    "        self._last_batch['y_pred'] = y_pred\n",
    "        \n",
    "        attention_batched = np.stack(self.model.decoder._cached_p_attn).transpose(1, 0, 2)\n",
    "        self._last_batch['attention'] = attention_batched\n",
    "        \n",
    "    def _get_source_sentence(self, index, return_string=True):\n",
    "        indices = self._last_batch['x_source'][index].cpu().detach().numpy()\n",
    "        vocab = self.vectorizer.source_vocab\n",
    "        return sentence_from_indices(indices, vocab, return_string=return_string)\n",
    "\n",
    "    def _get_reference_sentence(self, index, return_string=True):\n",
    "        indices = self._last_batch['y_target'][index].cpu().detach().numpy()\n",
    "        vocab = self.vectorizer.target_vocab\n",
    "        return sentence_from_indices(indices, vocab, return_string=return_string)\n",
    "    \n",
    "    def _get_sampled_sentence(self, index, return_string=True):\n",
    "        _, all_indices = torch.max(self._last_batch['y_pred'], dim=2)\n",
    "        sentence_indices = all_indices[index].cpu().detach().numpy()\n",
    "        vocab = self.vectorizer.target_vocab\n",
    "        return sentence_from_indices(sentence_indices, vocab, return_string=return_string)\n",
    "\n",
    "    def get_ith_item(self, index, return_string=True):\n",
    "        output = {\"source\": self._get_source_sentence(index, return_string=return_string), \n",
    "                  \"reference\": self._get_reference_sentence(index, return_string=return_string), \n",
    "                  \"sampled\": self._get_sampled_sentence(index, return_string=return_string),\n",
    "                  \"attention\": self._last_batch['attention'][index]}\n",
    "        \n",
    "        reference = output['reference']\n",
    "        hypothesis = output['sampled']\n",
    "        \n",
    "        if not return_string:\n",
    "            reference = \" \".join(reference)\n",
    "            hypothesis = \" \".join(hypothesis)\n",
    "        \n",
    "        output['bleu-4'] = bleu_score.sentence_bleu(references=[reference],\n",
    "                                                    hypothesis=hypothesis,\n",
    "                                                    smoothing_function=chencherry.method1)\n",
    "        \n",
    "        return output"
   ]
  },
  {
   "cell_type": "code",
   "execution_count": 144,
   "id": "6c566f48-4226-475a-ad5e-bef4e8405477",
   "metadata": {},
   "outputs": [],
   "source": [
    "model = model.eval().to(args.device)\n",
    "\n",
    "sampler = NMTSampler(vectorizer, model)\n",
    "\n",
    "dataset.set_split('test')\n",
    "batch_generator = generate_nmt_batches(dataset, \n",
    "                                       batch_size=args.batch_size, \n",
    "                                       device=args.device)\n",
    "batch_dict1 = next(batch_generator)\n",
    "test_results = []\n",
    "for batch_dict in batch_generator:\n",
    "    sampler.apply_to_batch(batch_dict)\n",
    "    for i in range(args.batch_size):\n",
    "        test_results.append(sampler.get_ith_item(i, False))"
   ]
  },
  {
   "cell_type": "code",
   "execution_count": 145,
   "id": "257af97c-4b35-4ed3-99b9-32374ac09ea1",
   "metadata": {},
   "outputs": [
    {
     "data": {
      "text/plain": [
       "(0.6333829518220855, 0.6299880123129222)"
      ]
     },
     "execution_count": 145,
     "metadata": {},
     "output_type": "execute_result"
    },
    {
     "data": {
      "image/png": "[encoded data removed]",
      "text/plain": [
       "<Figure size 432x288 with 1 Axes>"
      ]
     },
     "metadata": {
      "needs_background": "light"
     },
     "output_type": "display_data"
    }
   ],
   "source": [
    "plt.hist([r['bleu-4'] for r in test_results], bins=100);\n",
    "np.mean([r['bleu-4'] for r in test_results]), np.median([r['bleu-4'] for r in test_results])"
   ]
  },
  {
   "cell_type": "code",
   "execution_count": 146,
   "id": "522b4b65-9d47-4176-a087-353837f05dff",
   "metadata": {},
   "outputs": [],
   "source": [
    "dataset.set_split('val')\n",
    "batch_generator = generate_nmt_batches(dataset, \n",
    "                                       batch_size=args.batch_size, \n",
    "                                       device=args.device)\n",
    "batch_dict = next(batch_generator)\n",
    "\n",
    "model = model.eval().to(args.device)\n",
    "sampler = NMTSampler(vectorizer, model)\n",
    "sampler.apply_to_batch(batch_dict)"
   ]
  },
  {
   "cell_type": "code",
   "execution_count": 147,
   "id": "9d08d299-cbc8-46f1-a325-57c519d2b400",
   "metadata": {},
   "outputs": [],
   "source": [
    "all_results = []\n",
    "for i in range(args.batch_size):\n",
    "    all_results.append(sampler.get_ith_item(i, False))"
   ]
  },
  {
   "cell_type": "code",
   "execution_count": 148,
   "id": "90fd2999-fa89-428e-b3d0-975a3ef10e6c",
   "metadata": {},
   "outputs": [
    {
     "data": {
      "text/plain": [
       "64"
      ]
     },
     "execution_count": 148,
     "metadata": {},
     "output_type": "execute_result"
    }
   ],
   "source": [
    "top_results = [x for x in all_results if x['bleu-4']>0.1]\n",
    "len(top_results)"
   ]
  },
  {
   "cell_type": "markdown",
   "id": "fbd2212f-a1cc-4e46-bb06-852da5bc5be9",
   "metadata": {},
   "source": [
    "<b>Helper functions</b>\n",
    "\n",
    "These are the helper functions for evaluating the seq2seq model's performance. Basically, the function get_all_sentences() returns the source text sequence, the target entity sequence and the predicted entity sequence that generated by our trained model."
   ]
  },
  {
   "cell_type": "code",
   "execution_count": 149,
   "id": "997f3af0-48cc-4a26-92f9-7bd08d16be52",
   "metadata": {},
   "outputs": [],
   "source": [
    "def get_source_sentence(vectorizer, batch_dict, index):\n",
    "    indices = batch_dict['x_source'][index].cpu().data.numpy()\n",
    "    vocab = vectorizer.source_vocab\n",
    "    return sentence_from_indices(indices, vocab)\n",
    "\n",
    "def get_true_sentence(vectorizer, batch_dict, index):\n",
    "    return sentence_from_indices(batch_dict['y_target'].cpu().data.numpy()[index], vectorizer.target_vocab)\n",
    "    \n",
    "def get_sampled_sentence(vectorizer, batch_dict, index):\n",
    "    y_pred = model(x_source=batch_dict['x_source'], \n",
    "                   x_source_lengths=batch_dict['x_source_length'], \n",
    "                   target_sequence=batch_dict['x_target'])\n",
    "    return sentence_from_indices(torch.max(y_pred, dim=2)[1].cpu().data.numpy()[index], vectorizer.target_vocab)\n",
    "\n",
    "def get_all_sentences(vectorizer, batch_dict, index):\n",
    "    return {\"source\": get_source_sentence(vectorizer, batch_dict, index), \n",
    "            \"truth\": get_true_sentence(vectorizer, batch_dict, index), \n",
    "            \"sampled\": get_sampled_sentence(vectorizer, batch_dict, index)}\n",
    "    \n",
    "def sentence_from_indices(indices, vocab, strict=True):\n",
    "    ignore_indices = set([vocab.mask_index, vocab.begin_seq_index, vocab.end_seq_index])\n",
    "    out = []\n",
    "    for index in indices:\n",
    "        if index == vocab.begin_seq_index and strict:\n",
    "            continue\n",
    "        elif index == vocab.end_seq_index and strict:\n",
    "            return \" \".join(out)\n",
    "        else:\n",
    "            out.append(vocab.lookup_index(index))\n",
    "    return \" \".join(out)"
   ]
  },
  {
   "cell_type": "markdown",
   "id": "c304d49a-ac21-4a76-b705-bfabbc5e6c36",
   "metadata": {},
   "source": [
    "<b>Disagreements</b>\n",
    "\n",
    "The following codes are used to calculate the percentage of disagreements for 50 sentence sequences that are picked from test dataset. \n",
    "\n",
    "1. We make a list called \"index\" with length of batch size (64), and shuffle the list so that we can randomly pick up 50 instances from our test batch called \"batch_dict1\" that is assigned above\n",
    "2. Save all the related results (source, target, predic) to a list called \"fresults\"\n",
    "3. Function get_result() is used to get the correct predicted entities and incorrect predicted entities for each instance\n",
    "3. Function test_acc() is used to calculate the average accuracy of disagreements over 50 instances"
   ]
  },
  {
   "cell_type": "code",
   "execution_count": 11,
   "id": "c7e74f5c-b385-4225-baad-4b32722f186c",
   "metadata": {},
   "outputs": [],
   "source": [
    "#Shuffle the index so that we can randomly pick up 50 test data\n",
    "import random\n",
    "index = [i for i in range(args.batch_size)]\n",
    "random.shuffle(index)"
   ]
  },
  {
   "cell_type": "code",
   "execution_count": 151,
   "id": "43d5fe62-7009-482b-a8c1-cea5b71d7287",
   "metadata": {},
   "outputs": [],
   "source": [
    "#Generate 50 cases with source text, target entities and predicted entities\n",
    "fresults = [get_all_sentences(vectorizer, batch_dict1, i) for i in index[:50]]"
   ]
  },
  {
   "cell_type": "markdown",
   "id": "109853fb-7d03-4f5f-ba22-51760d9c4fa6",
   "metadata": {},
   "source": [
    " "
   ]
  },
  {
   "cell_type": "markdown",
   "id": "d8f43dfb-2dab-4229-9c1a-4bb612f31a37",
   "metadata": {},
   "source": [
    "Due to each sentence contains a lot of entities with \"o\", which may not be a good way to evaluate the robustness of the model. So, we add a bool argument called \"rv\" in the funtion get_result() and test_acc() to determine if we want to compute the accuracy with 'o' or not"
   ]
  },
  {
   "cell_type": "code",
   "execution_count": 7,
   "id": "9a412c23-8eed-4946-a773-c72fda7a27d2",
   "metadata": {},
   "outputs": [],
   "source": [
    "def get_result(index, rv = False): \n",
    "    \n",
    "    \"\"\"\n",
    "    rv determins if we want to calulate the accuracy without entities'o'\n",
    "    correct: Save the correct predicted entities\n",
    "    false: Save the incorrect predicted entities\n",
    "    \"\"\"\n",
    "    correct = []          \n",
    "    false = []\n",
    "    truth = fresults[index]['truth'].split()\n",
    "    sampled = fresults[index]['sampled'].split()\n",
    "    source = fresults[index]['source'].split()\n",
    "    \n",
    "    if len(truth) != len(source):\n",
    "        print(\"seq lenth error with truth length {} and source length {}!\".format(len(truth), len(source)))\n",
    "        return\n",
    "    \n",
    "    if rv:\n",
    "        truth = [result for result in truth if result != 'o']\n",
    "        sampled = [result1 for result1 in sampled if result1 != 'o']\n",
    "\n",
    "    for i in range(min(len(truth), len(sampled))):\n",
    "        if truth[i] == sampled[i]:\n",
    "            correct.append({\"sampled\": sampled[i], \"truth\": truth[i], \"source\": source[i]})\n",
    "        else:\n",
    "            false.append({\"sampled\": sampled[i], \"truth\": truth[i], \"source\": source[i]})\n",
    "    return correct, false"
   ]
  },
  {
   "cell_type": "code",
   "execution_count": 8,
   "id": "a245c04b-df5c-4240-b892-0ba61d8dd434",
   "metadata": {},
   "outputs": [],
   "source": [
    "def test_acc(rv = False):\n",
    "    \n",
    "    \"\"\"\n",
    "    acc: Save the percentage of disagreements over 50 test instances\n",
    "    \"\"\"\n",
    "    acc= []\n",
    "    cor = []\n",
    "    fal = []\n",
    "    for i in range(len(fresults)):\n",
    "        correct, false = get_result(i, rv)\n",
    "        if len(correct) == 0 and len(false) == 0:\n",
    "            continue\n",
    "        cor.append(correct)\n",
    "        fal.append(false)\n",
    "        acc.append(len(correct)/(len(correct) + len(false)))\n",
    "    return np.average(np.array(acc)), cor, fal"
   ]
  },
  {
   "cell_type": "code",
   "execution_count": 154,
   "id": "16098e8a-7c80-4fda-ada1-d0e1574feb10",
   "metadata": {},
   "outputs": [
    {
     "data": {
      "text/plain": [
       "0.9198712476938635"
      ]
     },
     "execution_count": 154,
     "metadata": {},
     "output_type": "execute_result"
    }
   ],
   "source": [
    "#Evaluate the disagreements on 50 test instances\n",
    "test_acc()[0]"
   ]
  },
  {
   "cell_type": "code",
   "execution_count": 155,
   "id": "9be678c1-85e0-466e-93c9-367f7af85d7d",
   "metadata": {},
   "outputs": [
    {
     "data": {
      "text/plain": [
       "0.6992248062015504"
      ]
     },
     "execution_count": 155,
     "metadata": {},
     "output_type": "execute_result"
    }
   ],
   "source": [
    "#Evaluate the disagreements on 50 test instances without 'o'\n",
    "test_acc(rv = True)[0]"
   ]
  },
  {
   "cell_type": "markdown",
   "id": "b843f4c5-b040-493d-abd7-9750f3e64b7d",
   "metadata": {},
   "source": [
    "<b>Disagreements report</b>\n",
    "\n",
    "\n",
    "From the test result on 50 instances, the percentage of disagreements is around 8%, which means our seq2seq model has about 92% accuracy, shows outstanding performance for prediction. However, the percentage of disagreements is dropped around 30% if we evaluate without using entity 'o', which means the model has about 70% to predict the correct result for the entities except 'o'. Due to the our sequence dataset includes 90% of 'o' (we proved in data pre-process step), 70% accuracy is a decent result."
   ]
  },
  {
   "cell_type": "markdown",
   "id": "cc8bd5f3-a771-404a-85e4-508865cf2cb8",
   "metadata": {},
   "source": [
    "<b>"
   ]
  },
  {
   "cell_type": "markdown",
   "id": "8fe61a01-9c1c-45a2-98dc-d7a50d017d06",
   "metadata": {},
   "source": [
    "<b>Improvements and Future works</b>\n",
    "\n",
    "In this task, we use the bi-GRU as encoder, GRU as decoder and combine attention to train the seq2seq model. This models obtain a decent result on the test dataset. However, RNN related modes (RNN, GRU, LSTM) still facing the problem of short memory despite the significant improvment of using bidirectional strategy. Hence, the transformer method is proposed by Vaswani A and Shazeer N (2017) to address this problem. Transformer applys only the attention and access the token position using positional encoding. Positional encoding allows the model to catch up earlier text feature, thus improve the model accuracy when dealing with a long sequence. Moreover, this training datset includes 90% entity 'o'. In order to tackle this unbalance dataset, we can apply the Data Augmentatio technology. For example, in the paper \"Learning data manipulation for augmentation and weighting\". Hu Z and Tan B (2019) introduce how to reweight the data example so that the model can learn less from the simple data such as 'o' in this case, and learn more from the other hard data. Applying the Data Augmentatio technology with Transformer could be a better way to improve the model performance."
   ]
  },
  {
   "cell_type": "code",
   "execution_count": null,
   "id": "ad0193dd-73e1-410c-bc0c-bbc459b8f64b",
   "metadata": {},
   "outputs": [],
   "source": []
  }
 ],
 "metadata": {
  "kernelspec": {
   "display_name": "Python 3 (ipykernel)",
   "language": "python",
   "name": "python3"
  },
  "language_info": {
   "codemirror_mode": {
    "name": "ipython",
    "version": 3
   },
   "file_extension": ".py",
   "mimetype": "text/x-python",
   "name": "python",
   "nbconvert_exporter": "python",
   "pygments_lexer": "ipython3",
   "version": "3.9.7"
  }
 },
 "nbformat": 4,
 "nbformat_minor": 5
}
